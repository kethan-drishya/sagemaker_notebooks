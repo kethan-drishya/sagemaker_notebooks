{
 "cells": [
  {
   "cell_type": "code",
   "execution_count": 1,
   "metadata": {},
   "outputs": [
    {
     "name": "stdout",
     "output_type": "stream",
     "text": [
      "/opt/conda/lib/python3.7/site-packages/secretstorage/dhcrypto.py:16: CryptographyDeprecationWarning: int_from_bytes is deprecated, use int.from_bytes instead\n",
      "  from cryptography.utils import int_from_bytes\n",
      "/opt/conda/lib/python3.7/site-packages/secretstorage/util.py:25: CryptographyDeprecationWarning: int_from_bytes is deprecated, use int.from_bytes instead\n",
      "  from cryptography.utils import int_from_bytes\n",
      "Requirement already satisfied: awswrangler in /opt/conda/lib/python3.7/site-packages (2.9.0)\n",
      "Requirement already satisfied: pandas<1.3.0,>=1.1.0 in /opt/conda/lib/python3.7/site-packages (from awswrangler) (1.2.4)\n",
      "Requirement already satisfied: pg8000<1.20.0,>=1.16.0 in /opt/conda/lib/python3.7/site-packages (from awswrangler) (1.19.5)\n",
      "Requirement already satisfied: pymysql<1.1.0,>=0.9.0 in /opt/conda/lib/python3.7/site-packages (from awswrangler) (1.0.2)\n",
      "Requirement already satisfied: numpy<1.21.0,>=1.18.0 in /opt/conda/lib/python3.7/site-packages (from awswrangler) (1.20.3)\n",
      "Requirement already satisfied: pyarrow<4.1.0,>=2.0.0 in /opt/conda/lib/python3.7/site-packages (from awswrangler) (4.0.0)\n",
      "Requirement already satisfied: botocore<2.0.0,>=1.19.8 in /opt/conda/lib/python3.7/site-packages (from awswrangler) (1.20.74)\n",
      "Requirement already satisfied: redshift-connector~=2.0.0 in /opt/conda/lib/python3.7/site-packages (from awswrangler) (2.0.881)\n",
      "Requirement already satisfied: boto3<2.0.0,>=1.16.8 in /opt/conda/lib/python3.7/site-packages (from awswrangler) (1.17.74)\n",
      "Requirement already satisfied: openpyxl~=3.0.0 in /opt/conda/lib/python3.7/site-packages (from awswrangler) (3.0.3)\n",
      "Requirement already satisfied: s3transfer<0.5.0,>=0.4.0 in /opt/conda/lib/python3.7/site-packages (from boto3<2.0.0,>=1.16.8->awswrangler) (0.4.2)\n",
      "Requirement already satisfied: jmespath<1.0.0,>=0.7.1 in /opt/conda/lib/python3.7/site-packages (from boto3<2.0.0,>=1.16.8->awswrangler) (0.10.0)\n",
      "Requirement already satisfied: python-dateutil<3.0.0,>=2.1 in /opt/conda/lib/python3.7/site-packages (from botocore<2.0.0,>=1.19.8->awswrangler) (2.8.1)\n",
      "Requirement already satisfied: urllib3<1.27,>=1.25.4 in /opt/conda/lib/python3.7/site-packages (from botocore<2.0.0,>=1.19.8->awswrangler) (1.26.4)\n",
      "Requirement already satisfied: jdcal in /opt/conda/lib/python3.7/site-packages (from openpyxl~=3.0.0->awswrangler) (1.4.1)\n",
      "Requirement already satisfied: et-xmlfile in /opt/conda/lib/python3.7/site-packages (from openpyxl~=3.0.0->awswrangler) (1.0.1)\n",
      "Requirement already satisfied: pytz>=2017.3 in /opt/conda/lib/python3.7/site-packages (from pandas<1.3.0,>=1.1.0->awswrangler) (2021.1)\n",
      "Requirement already satisfied: scramp==1.4.0 in /opt/conda/lib/python3.7/site-packages (from pg8000<1.20.0,>=1.16.0->awswrangler) (1.4.0)\n",
      "Requirement already satisfied: asn1crypto==1.4.0 in /opt/conda/lib/python3.7/site-packages (from scramp==1.4.0->pg8000<1.20.0,>=1.16.0->awswrangler) (1.4.0)\n",
      "Requirement already satisfied: six>=1.5 in /opt/conda/lib/python3.7/site-packages (from python-dateutil<3.0.0,>=2.1->botocore<2.0.0,>=1.19.8->awswrangler) (1.14.0)\n",
      "Requirement already satisfied: beautifulsoup4<5.0.0,>=4.7.0 in /opt/conda/lib/python3.7/site-packages (from redshift-connector~=2.0.0->awswrangler) (4.8.2)\n",
      "Requirement already satisfied: requests<2.25.2,>=2.23.0 in /opt/conda/lib/python3.7/site-packages (from redshift-connector~=2.0.0->awswrangler) (2.25.1)\n",
      "Requirement already satisfied: lxml>=4.6.2 in /opt/conda/lib/python3.7/site-packages (from redshift-connector~=2.0.0->awswrangler) (4.6.3)\n",
      "Requirement already satisfied: soupsieve>=1.2 in /opt/conda/lib/python3.7/site-packages (from beautifulsoup4<5.0.0,>=4.7.0->redshift-connector~=2.0.0->awswrangler) (1.9.5)\n",
      "Requirement already satisfied: chardet<5,>=3.0.2 in /opt/conda/lib/python3.7/site-packages (from requests<2.25.2,>=2.23.0->redshift-connector~=2.0.0->awswrangler) (3.0.4)\n",
      "Requirement already satisfied: idna<3,>=2.5 in /opt/conda/lib/python3.7/site-packages (from requests<2.25.2,>=2.23.0->redshift-connector~=2.0.0->awswrangler) (2.8)\n",
      "Requirement already satisfied: certifi>=2017.4.17 in /opt/conda/lib/python3.7/site-packages (from requests<2.25.2,>=2.23.0->redshift-connector~=2.0.0->awswrangler) (2020.12.5)\n",
      "\u001b[33mWARNING: Running pip as root will break packages and permissions. You should install packages reliably by using venv: https://pip.pypa.io/warnings/venv\u001b[0m\n",
      "\u001b[33mWARNING: You are using pip version 21.1.1; however, version 21.1.2 is available.\n",
      "You should consider upgrading via the '/opt/conda/bin/python -m pip install --upgrade pip' command.\u001b[0m\n",
      "/opt/conda/lib/python3.7/site-packages/secretstorage/dhcrypto.py:16: CryptographyDeprecationWarning: int_from_bytes is deprecated, use int.from_bytes instead\n",
      "  from cryptography.utils import int_from_bytes\n",
      "/opt/conda/lib/python3.7/site-packages/secretstorage/util.py:25: CryptographyDeprecationWarning: int_from_bytes is deprecated, use int.from_bytes instead\n",
      "  from cryptography.utils import int_from_bytes\n",
      "Requirement already satisfied: wntr in /opt/conda/lib/python3.7/site-packages (0.3.1)\n",
      "Requirement already satisfied: scipy in /opt/conda/lib/python3.7/site-packages (from wntr) (1.4.1)\n",
      "Requirement already satisfied: matplotlib in /opt/conda/lib/python3.7/site-packages (from wntr) (3.1.3)\n",
      "Requirement already satisfied: networkx in /opt/conda/lib/python3.7/site-packages (from wntr) (2.4)\n",
      "Requirement already satisfied: pandas in /opt/conda/lib/python3.7/site-packages (from wntr) (1.2.4)\n",
      "Requirement already satisfied: numpy in /opt/conda/lib/python3.7/site-packages (from wntr) (1.20.3)\n",
      "Requirement already satisfied: python-dateutil>=2.1 in /opt/conda/lib/python3.7/site-packages (from matplotlib->wntr) (2.8.1)\n",
      "Requirement already satisfied: kiwisolver>=1.0.1 in /opt/conda/lib/python3.7/site-packages (from matplotlib->wntr) (1.1.0)\n",
      "Requirement already satisfied: pyparsing!=2.0.4,!=2.1.2,!=2.1.6,>=2.0.1 in /opt/conda/lib/python3.7/site-packages (from matplotlib->wntr) (2.4.6)\n",
      "Requirement already satisfied: cycler>=0.10 in /opt/conda/lib/python3.7/site-packages (from matplotlib->wntr) (0.10.0)\n",
      "Requirement already satisfied: six in /opt/conda/lib/python3.7/site-packages (from cycler>=0.10->matplotlib->wntr) (1.14.0)\n",
      "Requirement already satisfied: setuptools in /opt/conda/lib/python3.7/site-packages (from kiwisolver>=1.0.1->matplotlib->wntr) (56.2.0)\n",
      "Requirement already satisfied: decorator>=4.3.0 in /opt/conda/lib/python3.7/site-packages (from networkx->wntr) (4.4.1)\n",
      "Requirement already satisfied: pytz>=2017.3 in /opt/conda/lib/python3.7/site-packages (from pandas->wntr) (2021.1)\n",
      "\u001b[33mWARNING: Running pip as root will break packages and permissions. You should install packages reliably by using venv: https://pip.pypa.io/warnings/venv\u001b[0m\n",
      "\u001b[33mWARNING: You are using pip version 21.1.1; however, version 21.1.2 is available.\n",
      "You should consider upgrading via the '/opt/conda/bin/python -m pip install --upgrade pip' command.\u001b[0m\n",
      "/opt/conda/lib/python3.7/site-packages/secretstorage/dhcrypto.py:16: CryptographyDeprecationWarning: int_from_bytes is deprecated, use int.from_bytes instead\n",
      "  from cryptography.utils import int_from_bytes\n",
      "/opt/conda/lib/python3.7/site-packages/secretstorage/util.py:25: CryptographyDeprecationWarning: int_from_bytes is deprecated, use int.from_bytes instead\n",
      "  from cryptography.utils import int_from_bytes\n",
      "Requirement already satisfied: adtk in /opt/conda/lib/python3.7/site-packages (0.6.2)\n",
      "Requirement already satisfied: tabulate>=0.8 in /opt/conda/lib/python3.7/site-packages (from adtk) (0.8.9)\n",
      "Requirement already satisfied: statsmodels>=0.9 in /opt/conda/lib/python3.7/site-packages (from adtk) (0.11.0)\n",
      "Requirement already satisfied: scikit-learn>=0.20 in /opt/conda/lib/python3.7/site-packages (from adtk) (0.22.1)\n",
      "Requirement already satisfied: packaging>=17.0 in /opt/conda/lib/python3.7/site-packages (from adtk) (20.1)\n",
      "Requirement already satisfied: numpy>=1.15 in /opt/conda/lib/python3.7/site-packages (from adtk) (1.20.3)\n",
      "Requirement already satisfied: pandas>=0.23 in /opt/conda/lib/python3.7/site-packages (from adtk) (1.2.4)\n",
      "Requirement already satisfied: matplotlib>=3.0 in /opt/conda/lib/python3.7/site-packages (from adtk) (3.1.3)\n",
      "Requirement already satisfied: kiwisolver>=1.0.1 in /opt/conda/lib/python3.7/site-packages (from matplotlib>=3.0->adtk) (1.1.0)\n",
      "Requirement already satisfied: python-dateutil>=2.1 in /opt/conda/lib/python3.7/site-packages (from matplotlib>=3.0->adtk) (2.8.1)\n",
      "Requirement already satisfied: cycler>=0.10 in /opt/conda/lib/python3.7/site-packages (from matplotlib>=3.0->adtk) (0.10.0)\n",
      "Requirement already satisfied: pyparsing!=2.0.4,!=2.1.2,!=2.1.6,>=2.0.1 in /opt/conda/lib/python3.7/site-packages (from matplotlib>=3.0->adtk) (2.4.6)\n",
      "Requirement already satisfied: six in /opt/conda/lib/python3.7/site-packages (from cycler>=0.10->matplotlib>=3.0->adtk) (1.14.0)\n",
      "Requirement already satisfied: setuptools in /opt/conda/lib/python3.7/site-packages (from kiwisolver>=1.0.1->matplotlib>=3.0->adtk) (56.2.0)\n",
      "Requirement already satisfied: pytz>=2017.3 in /opt/conda/lib/python3.7/site-packages (from pandas>=0.23->adtk) (2021.1)\n",
      "Requirement already satisfied: joblib>=0.11 in /opt/conda/lib/python3.7/site-packages (from scikit-learn>=0.20->adtk) (0.14.1)\n",
      "Requirement already satisfied: scipy>=0.17.0 in /opt/conda/lib/python3.7/site-packages (from scikit-learn>=0.20->adtk) (1.4.1)\n",
      "Requirement already satisfied: patsy>=0.5 in /opt/conda/lib/python3.7/site-packages (from statsmodels>=0.9->adtk) (0.5.1)\n",
      "\u001b[33mWARNING: Running pip as root will break packages and permissions. You should install packages reliably by using venv: https://pip.pypa.io/warnings/venv\u001b[0m\n",
      "\u001b[33mWARNING: You are using pip version 21.1.1; however, version 21.1.2 is available.\n",
      "You should consider upgrading via the '/opt/conda/bin/python -m pip install --upgrade pip' command.\u001b[0m\n"
     ]
    }
   ],
   "source": [
    "!pip install awswrangler\n",
    "!pip install wntr\n",
    "!pip install adtk"
   ]
  },
  {
   "cell_type": "code",
   "execution_count": 2,
   "metadata": {},
   "outputs": [],
   "source": [
    "import wntr\n",
    "# import tsnet\n",
    "import matplotlib.pyplot as plt\n",
    "import pandas as pd\n",
    "import numpy as np\n",
    "from sklearn.model_selection import train_test_split\n",
    "from sklearn.preprocessing import StandardScaler\n",
    "from sklearn.metrics import mean_squared_error, r2_score\n",
    "from sklearn import linear_model\n",
    "from sklearn.model_selection import cross_val_score\n",
    "from sklearn.metrics import mean_absolute_error\n",
    "from sklearn.metrics import median_absolute_error\n",
    "from sklearn.metrics import mean_squared_log_error"
   ]
  },
  {
   "cell_type": "code",
   "execution_count": 10,
   "metadata": {},
   "outputs": [],
   "source": [
    "from adtk.data import validate_series\n",
    "from adtk.detector import PersistAD\n",
    "from adtk.visualization import plot\n",
    "from adtk.transformer import DoubleRollingAggregate\n",
    "from adtk.detector import ThresholdAD"
   ]
  },
  {
   "cell_type": "code",
   "execution_count": 8,
   "metadata": {},
   "outputs": [],
   "source": [
    "def myDetectionFunc(a,b):\n",
    "    return (a - b > 0.01)"
   ]
  },
  {
   "cell_type": "code",
   "execution_count": 40,
   "metadata": {},
   "outputs": [],
   "source": [
    "from adtk.pipe import Pipeline\n",
    "steps = [\n",
    "    (\"rolling\", DoubleRollingAggregate(\n",
    "            agg=\"median\",\n",
    "            window=1,\n",
    "            center=True,\n",
    "            diff=myDetectionFunc\n",
    "        ),),\n",
    "    (\"threshold_ad\", ThresholdAD(high=0.5))\n",
    "]\n",
    "pipeline = Pipeline(steps)"
   ]
  },
  {
   "cell_type": "code",
   "execution_count": 22,
   "metadata": {},
   "outputs": [
    {
     "data": {
      "image/png": "[encoded data removed]",
      "text/plain": [
       "<Figure size 1440x1080 with 1 Axes>"
      ]
     },
     "metadata": {},
     "output_type": "display_data"
    }
   ],
   "source": [
    "w = wntr.network.WaterNetworkModel('wnt3test2.inp')\n",
    "Fig, Axarr = plt.subplots(1,1,figsize=(20,15))\n",
    "Ax0 = Axarr\n",
    "ax = wntr.graphics.plot_network(w, node_labels =True, node_size=0,link_labels =True,\n",
    "node_cmap='k', directed=True, add_colorbar = False, ax=Ax0)"
   ]
  },
  {
   "cell_type": "code",
   "execution_count": 3,
   "metadata": {},
   "outputs": [],
   "source": [
    "pressure = pd.read_csv('pressure.zip', compression='zip', header=0)"
   ]
  },
  {
   "cell_type": "code",
   "execution_count": 4,
   "metadata": {},
   "outputs": [],
   "source": [
    "pressure = pressure[pressure['1t2']=='p0']"
   ]
  },
  {
   "cell_type": "code",
   "execution_count": 5,
   "metadata": {},
   "outputs": [],
   "source": [
    "flow = pd.read_csv('flow.zip', compression='zip', header=0)\n",
    "flow = flow[flow['p1t2']=='p0']"
   ]
  },
  {
   "cell_type": "code",
   "execution_count": 7,
   "metadata": {},
   "outputs": [],
   "source": [
    "# import sagemaker\n",
    "# sagemaker.Session().download_data(\"pressure.zip\",'cactus-leakdata-s3','Hanoi-Data')"
   ]
  },
  {
   "cell_type": "code",
   "execution_count": 6,
   "metadata": {},
   "outputs": [],
   "source": [
    "pressure_noleak = pressure.loc[pressure['status']==0, pressure.columns[:11]].copy(deep=True)\n",
    "pressure_noleak = pressure_noleak.reset_index(drop=True)"
   ]
  },
  {
   "cell_type": "code",
   "execution_count": 7,
   "metadata": {},
   "outputs": [],
   "source": [
    "pressure_leak = pressure.loc[pressure['status']==1, pressure.columns[:11]].copy(deep=True)\n",
    "pressure_leak = pressure_leak.reset_index(drop=True)"
   ]
  },
  {
   "cell_type": "code",
   "execution_count": 8,
   "metadata": {},
   "outputs": [],
   "source": [
    "flow_noleak = flow.loc[flow['status']==0, flow.columns[:10]].copy(deep=True)\n",
    "flow_noleak = flow_noleak.reset_index(drop=True)\n",
    "# flow_noleak = flow_noleak.pow(2)"
   ]
  },
  {
   "cell_type": "code",
   "execution_count": 9,
   "metadata": {},
   "outputs": [],
   "source": [
    "flow_leak = flow.loc[flow['status']==1, flow.columns[:10]].copy(deep=True)\n",
    "flow_leak = flow_leak.reset_index(drop=True)\n",
    "# flow_leak =  flow_leak.pow(2)"
   ]
  },
  {
   "cell_type": "code",
   "execution_count": 10,
   "metadata": {},
   "outputs": [],
   "source": [
    "df_results = pd.DataFrame()\n",
    "pipes = [pipe for pipe in list(flow.columns[:10]) if not '1t' in pipe] \n",
    "for pipe in pipes:\n",
    "    df = pd.DataFrame()\n",
    "    start_node = pipe.split('t')[0]\n",
    "    end_node = pipe.split('t')[1]\n",
    "    df['pstart'] = pressure_noleak[start_node].copy()\n",
    "    df['flow'] = flow_noleak[pipe].copy()\n",
    "    df['pend'] = pressure_noleak[end_node].copy()\n",
    "    \n",
    "    df_results = pd.concat([df_results, df])"
   ]
  },
  {
   "cell_type": "code",
   "execution_count": 11,
   "metadata": {},
   "outputs": [],
   "source": [
    "df_results_leak = pd.DataFrame()\n",
    "pipes = [pipe for pipe in list(flow_leak.columns[:10]) if not '1t' in pipe] \n",
    "for pipe in pipes:\n",
    "    df = pd.DataFrame()\n",
    "    start_node = pipe.split('t')[0]\n",
    "    end_node = pipe.split('t')[1]\n",
    "    df['pstart'] = pressure_leak[start_node].copy()\n",
    "    df['flow'] = flow_leak[pipe].copy()\n",
    "    df['pend'] = pressure_leak[end_node].copy()\n",
    "    \n",
    "    df_results_leak = pd.concat([df_results_leak, df])"
   ]
  },
  {
   "cell_type": "code",
   "execution_count": 12,
   "metadata": {},
   "outputs": [
    {
     "data": {
      "text/html": [
       "<div>\n",
       "<style scoped>\n",
       "    .dataframe tbody tr th:only-of-type {\n",
       "        vertical-align: middle;\n",
       "    }\n",
       "\n",
       "    .dataframe tbody tr th {\n",
       "        vertical-align: top;\n",
       "    }\n",
       "\n",
       "    .dataframe thead th {\n",
       "        text-align: right;\n",
       "    }\n",
       "</style>\n",
       "<table border=\"1\" class=\"dataframe\">\n",
       "  <thead>\n",
       "    <tr style=\"text-align: right;\">\n",
       "      <th></th>\n",
       "      <th>pstart</th>\n",
       "      <th>flow</th>\n",
       "      <th>pend</th>\n",
       "    </tr>\n",
       "  </thead>\n",
       "  <tbody>\n",
       "    <tr>\n",
       "      <th>0</th>\n",
       "      <td>20.576</td>\n",
       "      <td>28.000</td>\n",
       "      <td>17.801</td>\n",
       "    </tr>\n",
       "    <tr>\n",
       "      <th>1</th>\n",
       "      <td>20.576</td>\n",
       "      <td>28.000</td>\n",
       "      <td>17.801</td>\n",
       "    </tr>\n",
       "    <tr>\n",
       "      <th>2</th>\n",
       "      <td>20.576</td>\n",
       "      <td>28.000</td>\n",
       "      <td>17.801</td>\n",
       "    </tr>\n",
       "    <tr>\n",
       "      <th>3</th>\n",
       "      <td>20.593</td>\n",
       "      <td>27.982</td>\n",
       "      <td>17.829</td>\n",
       "    </tr>\n",
       "    <tr>\n",
       "      <th>4</th>\n",
       "      <td>20.593</td>\n",
       "      <td>27.982</td>\n",
       "      <td>17.829</td>\n",
       "    </tr>\n",
       "    <tr>\n",
       "      <th>...</th>\n",
       "      <td>...</td>\n",
       "      <td>...</td>\n",
       "      <td>...</td>\n",
       "    </tr>\n",
       "    <tr>\n",
       "      <th>377995</th>\n",
       "      <td>16.442</td>\n",
       "      <td>0.088</td>\n",
       "      <td>0.007</td>\n",
       "    </tr>\n",
       "    <tr>\n",
       "      <th>377996</th>\n",
       "      <td>16.442</td>\n",
       "      <td>0.088</td>\n",
       "      <td>0.007</td>\n",
       "    </tr>\n",
       "    <tr>\n",
       "      <th>377997</th>\n",
       "      <td>16.442</td>\n",
       "      <td>0.088</td>\n",
       "      <td>0.007</td>\n",
       "    </tr>\n",
       "    <tr>\n",
       "      <th>377998</th>\n",
       "      <td>16.456</td>\n",
       "      <td>0.088</td>\n",
       "      <td>0.007</td>\n",
       "    </tr>\n",
       "    <tr>\n",
       "      <th>377999</th>\n",
       "      <td>16.456</td>\n",
       "      <td>0.088</td>\n",
       "      <td>0.007</td>\n",
       "    </tr>\n",
       "  </tbody>\n",
       "</table>\n",
       "<p>3402000 rows × 3 columns</p>\n",
       "</div>"
      ],
      "text/plain": [
       "        pstart    flow    pend\n",
       "0       20.576  28.000  17.801\n",
       "1       20.576  28.000  17.801\n",
       "2       20.576  28.000  17.801\n",
       "3       20.593  27.982  17.829\n",
       "4       20.593  27.982  17.829\n",
       "...        ...     ...     ...\n",
       "377995  16.442   0.088   0.007\n",
       "377996  16.442   0.088   0.007\n",
       "377997  16.442   0.088   0.007\n",
       "377998  16.456   0.088   0.007\n",
       "377999  16.456   0.088   0.007\n",
       "\n",
       "[3402000 rows x 3 columns]"
      ]
     },
     "execution_count": 12,
     "metadata": {},
     "output_type": "execute_result"
    }
   ],
   "source": [
    "df_results"
   ]
  },
  {
   "cell_type": "code",
   "execution_count": 15,
   "metadata": {},
   "outputs": [
    {
     "name": "stdout",
     "output_type": "stream",
     "text": [
      "0.9017614539273391\n",
      "Coefficients: \n",
      " [7.762 3.246]\n",
      "Mean squared error: 39.51\n",
      "Coefficient of determination: 0.80\n"
     ]
    }
   ],
   "source": [
    "X1 = df_results.loc[:, df_results.columns[0:2]]\n",
    "y1 = np.asarray(df_results[df_results.columns[2]]).ravel()\n",
    "X_train1, X_test1, y_train1, y_test1 = train_test_split(X1, y1, test_size=0.1, random_state=42, shuffle=True)\n",
    "normalizer = StandardScaler()\n",
    "normalizer.fit(X_train1.values)\n",
    "X_train1_norm = normalizer.transform(X_train1.values)\n",
    "X_test1_norm = normalizer.transform(X_test1.values)\n",
    "regr = linear_model.LinearRegression()\n",
    "\n",
    "scores = cross_val_score(regr, X_train1_norm, y_train1, cv=10)\n",
    "print(scores.mean())\n",
    "# Make predictions using the testing set\n",
    "regr.fit(X_train1_norm, y_train1)\n",
    "# y_pred = regr.predict(X_test1_norm)\n",
    "\n",
    "X1_leak = df_results_leak.loc[:, df_results_leak.columns[0:2]]\n",
    "y1_leak = np.asarray(df_results_leak[df_results_leak.columns[2]]).ravel()\n",
    "# normalizer = StandardScaler()\n",
    "# X1_norm = normalizer.fit_transform(X1.values)\n",
    "X1_leak_norm = normalizer.transform(X1_leak.values)\n",
    "# regr = linear_model.LinearRegression()\n",
    "# scores = cross_val_score(regr, X1_norm, y1, cv=10)\n",
    "# print(scores.mean())\n",
    "# regr.fit(X1_norm, y1)\n",
    "y_pred = regr.predict(X1_leak_norm)\n",
    "# The coefficients\n",
    "print('Coefficients: \\n', regr.coef_)\n",
    "# The mean squared error\n",
    "print('Mean squared error: %.2f'\n",
    "      % mean_squared_error(y1_leak, y_pred))\n",
    "# The coefficient of determination: 1 is perfect prediction\n",
    "print('Coefficient of determination: %.2f'\n",
    "      % r2_score(y1_leak, y_pred))"
   ]
  },
  {
   "cell_type": "code",
   "execution_count": 16,
   "metadata": {},
   "outputs": [
    {
     "data": {
      "text/plain": [
       "array([0.901, 0.902, 0.902, 0.902, 0.902, 0.902, 0.902, 0.902, 0.902, 0.902])"
      ]
     },
     "execution_count": 16,
     "metadata": {},
     "output_type": "execute_result"
    }
   ],
   "source": [
    "scores"
   ]
  },
  {
   "cell_type": "code",
   "execution_count": 17,
   "metadata": {},
   "outputs": [],
   "source": [
    "# results = pd.DataFrame()\n",
    "results = {}\n",
    "pipes = [pipe for pipe in list(flow.columns[:10]) if not '1t' in pipe] \n",
    "for pipe in pipes:\n",
    "    df = pd.DataFrame()\n",
    "    start_node = pipe.split('t')[0]\n",
    "    end_node = pipe.split('t')[1]\n",
    "    df['pstart'] = pressure_noleak[start_node].copy()\n",
    "    df['flow'] = flow_noleak[pipe].copy()\n",
    "    df['pend'] = pressure_noleak[end_node].copy()\n",
    "    \n",
    "    results[pipe] = df"
   ]
  },
  {
   "cell_type": "code",
   "execution_count": 18,
   "metadata": {},
   "outputs": [],
   "source": [
    "results_leak = {}\n",
    "pipes = [pipe for pipe in list(flow_leak.columns[:10]) if not '1t' in pipe] \n",
    "for pipe in pipes:\n",
    "    df = pd.DataFrame()\n",
    "    start_node = pipe.split('t')[0]\n",
    "    end_node = pipe.split('t')[1]\n",
    "    df['pstart'] = pressure_leak[start_node].copy()\n",
    "    df['flow'] = flow_leak[pipe].copy()\n",
    "    df['pend'] = pressure_leak[end_node].copy()\n",
    "    \n",
    "    results_leak[pipe] = df"
   ]
  },
  {
   "cell_type": "code",
   "execution_count": 16,
   "metadata": {},
   "outputs": [
    {
     "data": {
      "text/html": [
       "<div>\n",
       "<style scoped>\n",
       "    .dataframe tbody tr th:only-of-type {\n",
       "        vertical-align: middle;\n",
       "    }\n",
       "\n",
       "    .dataframe tbody tr th {\n",
       "        vertical-align: top;\n",
       "    }\n",
       "\n",
       "    .dataframe thead th {\n",
       "        text-align: right;\n",
       "    }\n",
       "</style>\n",
       "<table border=\"1\" class=\"dataframe\">\n",
       "  <thead>\n",
       "    <tr style=\"text-align: right;\">\n",
       "      <th></th>\n",
       "      <th>pstart</th>\n",
       "      <th>flow</th>\n",
       "      <th>pend</th>\n",
       "    </tr>\n",
       "  </thead>\n",
       "  <tbody>\n",
       "    <tr>\n",
       "      <th>0</th>\n",
       "      <td>17.801</td>\n",
       "      <td>10.00</td>\n",
       "      <td>16.311</td>\n",
       "    </tr>\n",
       "    <tr>\n",
       "      <th>1</th>\n",
       "      <td>17.801</td>\n",
       "      <td>10.00</td>\n",
       "      <td>16.311</td>\n",
       "    </tr>\n",
       "    <tr>\n",
       "      <th>2</th>\n",
       "      <td>17.801</td>\n",
       "      <td>10.00</td>\n",
       "      <td>16.311</td>\n",
       "    </tr>\n",
       "    <tr>\n",
       "      <th>3</th>\n",
       "      <td>17.829</td>\n",
       "      <td>9.99</td>\n",
       "      <td>16.342</td>\n",
       "    </tr>\n",
       "    <tr>\n",
       "      <th>4</th>\n",
       "      <td>17.829</td>\n",
       "      <td>9.99</td>\n",
       "      <td>16.342</td>\n",
       "    </tr>\n",
       "    <tr>\n",
       "      <th>...</th>\n",
       "      <td>...</td>\n",
       "      <td>...</td>\n",
       "      <td>...</td>\n",
       "    </tr>\n",
       "    <tr>\n",
       "      <th>377995</th>\n",
       "      <td>27.913</td>\n",
       "      <td>6.01</td>\n",
       "      <td>27.339</td>\n",
       "    </tr>\n",
       "    <tr>\n",
       "      <th>377996</th>\n",
       "      <td>27.913</td>\n",
       "      <td>6.01</td>\n",
       "      <td>27.339</td>\n",
       "    </tr>\n",
       "    <tr>\n",
       "      <th>377997</th>\n",
       "      <td>27.913</td>\n",
       "      <td>6.01</td>\n",
       "      <td>27.339</td>\n",
       "    </tr>\n",
       "    <tr>\n",
       "      <th>377998</th>\n",
       "      <td>27.935</td>\n",
       "      <td>6.00</td>\n",
       "      <td>27.363</td>\n",
       "    </tr>\n",
       "    <tr>\n",
       "      <th>377999</th>\n",
       "      <td>27.935</td>\n",
       "      <td>6.00</td>\n",
       "      <td>27.363</td>\n",
       "    </tr>\n",
       "  </tbody>\n",
       "</table>\n",
       "<p>378000 rows × 3 columns</p>\n",
       "</div>"
      ],
      "text/plain": [
       "        pstart   flow    pend\n",
       "0       17.801  10.00  16.311\n",
       "1       17.801  10.00  16.311\n",
       "2       17.801  10.00  16.311\n",
       "3       17.829   9.99  16.342\n",
       "4       17.829   9.99  16.342\n",
       "...        ...    ...     ...\n",
       "377995  27.913   6.01  27.339\n",
       "377996  27.913   6.01  27.339\n",
       "377997  27.913   6.01  27.339\n",
       "377998  27.935   6.00  27.363\n",
       "377999  27.935   6.00  27.363\n",
       "\n",
       "[378000 rows x 3 columns]"
      ]
     },
     "execution_count": 16,
     "metadata": {},
     "output_type": "execute_result"
    }
   ],
   "source": [
    "results['3t10']"
   ]
  },
  {
   "cell_type": "code",
   "execution_count": 17,
   "metadata": {},
   "outputs": [
    {
     "data": {
      "text/html": [
       "<div>\n",
       "<style scoped>\n",
       "    .dataframe tbody tr th:only-of-type {\n",
       "        vertical-align: middle;\n",
       "    }\n",
       "\n",
       "    .dataframe tbody tr th {\n",
       "        vertical-align: top;\n",
       "    }\n",
       "\n",
       "    .dataframe thead th {\n",
       "        text-align: right;\n",
       "    }\n",
       "</style>\n",
       "<table border=\"1\" class=\"dataframe\">\n",
       "  <thead>\n",
       "    <tr style=\"text-align: right;\">\n",
       "      <th></th>\n",
       "      <th>pstart</th>\n",
       "      <th>flow</th>\n",
       "      <th>pend</th>\n",
       "    </tr>\n",
       "  </thead>\n",
       "  <tbody>\n",
       "    <tr>\n",
       "      <th>0</th>\n",
       "      <td>27.900</td>\n",
       "      <td>6.00</td>\n",
       "      <td>27.327</td>\n",
       "    </tr>\n",
       "    <tr>\n",
       "      <th>1</th>\n",
       "      <td>27.900</td>\n",
       "      <td>6.00</td>\n",
       "      <td>27.327</td>\n",
       "    </tr>\n",
       "    <tr>\n",
       "      <th>2</th>\n",
       "      <td>27.922</td>\n",
       "      <td>5.99</td>\n",
       "      <td>27.351</td>\n",
       "    </tr>\n",
       "    <tr>\n",
       "      <th>3</th>\n",
       "      <td>27.922</td>\n",
       "      <td>5.99</td>\n",
       "      <td>27.351</td>\n",
       "    </tr>\n",
       "    <tr>\n",
       "      <th>4</th>\n",
       "      <td>27.922</td>\n",
       "      <td>5.99</td>\n",
       "      <td>27.351</td>\n",
       "    </tr>\n",
       "    <tr>\n",
       "      <th>...</th>\n",
       "      <td>...</td>\n",
       "      <td>...</td>\n",
       "      <td>...</td>\n",
       "    </tr>\n",
       "    <tr>\n",
       "      <th>377995</th>\n",
       "      <td>35.476</td>\n",
       "      <td>2.01</td>\n",
       "      <td>35.409</td>\n",
       "    </tr>\n",
       "    <tr>\n",
       "      <th>377996</th>\n",
       "      <td>35.476</td>\n",
       "      <td>2.01</td>\n",
       "      <td>35.409</td>\n",
       "    </tr>\n",
       "    <tr>\n",
       "      <th>377997</th>\n",
       "      <td>35.491</td>\n",
       "      <td>2.00</td>\n",
       "      <td>35.425</td>\n",
       "    </tr>\n",
       "    <tr>\n",
       "      <th>377998</th>\n",
       "      <td>35.491</td>\n",
       "      <td>2.00</td>\n",
       "      <td>35.425</td>\n",
       "    </tr>\n",
       "    <tr>\n",
       "      <th>377999</th>\n",
       "      <td>35.491</td>\n",
       "      <td>2.00</td>\n",
       "      <td>35.425</td>\n",
       "    </tr>\n",
       "  </tbody>\n",
       "</table>\n",
       "<p>378000 rows × 3 columns</p>\n",
       "</div>"
      ],
      "text/plain": [
       "        pstart  flow    pend\n",
       "0       27.900  6.00  27.327\n",
       "1       27.900  6.00  27.327\n",
       "2       27.922  5.99  27.351\n",
       "3       27.922  5.99  27.351\n",
       "4       27.922  5.99  27.351\n",
       "...        ...   ...     ...\n",
       "377995  35.476  2.01  35.409\n",
       "377996  35.476  2.01  35.409\n",
       "377997  35.491  2.00  35.425\n",
       "377998  35.491  2.00  35.425\n",
       "377999  35.491  2.00  35.425\n",
       "\n",
       "[378000 rows x 3 columns]"
      ]
     },
     "execution_count": 17,
     "metadata": {},
     "output_type": "execute_result"
    }
   ],
   "source": [
    "results_leak['3t10']"
   ]
  },
  {
   "cell_type": "code",
   "execution_count": 21,
   "metadata": {},
   "outputs": [
    {
     "name": "stdout",
     "output_type": "stream",
     "text": [
      "0.9999999597702789\n",
      "Coefficients: \n",
      " [2.981 0.052]\n",
      "intercept: \n",
      " 23.07335739153438\n",
      "Mean squared error: 0.00\n",
      "Mean absolute error: 0.01\n",
      "Coefficient of determination: 1.00\n"
     ]
    }
   ],
   "source": [
    "X1_2t3 = results['2t3'].loc[:,results['2t3'].columns[0:2]]\n",
    "y1_2t3 = np.asarray(results['2t3'][results['2t3'].columns[2]]).ravel()\n",
    "normalizer = StandardScaler()\n",
    "X1_2t3_norm = normalizer.fit_transform(X1_2t3.values)\n",
    "regr = linear_model.LinearRegression()\n",
    "scores = cross_val_score(regr, X1_2t3_norm, y1_2t3, cv=10)\n",
    "print(scores.mean())\n",
    "X1_2t3_leak = results_leak['2t3'].loc[:,results_leak['2t3'].columns[0:2]]\n",
    "y1_2t3_leak = np.asarray(results_leak['2t3'][results_leak['2t3'].columns[2]]).ravel()\n",
    "# normalizer = StandardScaler()\n",
    "X1_2t3_leak_norm = normalizer.transform(X1_2t3_leak.values)\n",
    "# Make predictions using the testing set\n",
    "# Create linear regression object\n",
    "regr = linear_model.LinearRegression()\n",
    "\n",
    "# Train the model using the training sets\n",
    "regr.fit(X1_2t3_norm, y1_2t3)\n",
    "y_pred_leak = regr.predict(X1_2t3_leak_norm)\n",
    "# The coefficients\n",
    "print('Coefficients: \\n', regr.coef_)\n",
    "print('intercept: \\n', regr.intercept_)\n",
    "# The mean squared error\n",
    "print('Mean squared error: %.2f'\n",
    "      % mean_squared_error(y1_2t3_leak, y_pred_leak))\n",
    "print('Mean absolute error: %.2f'\n",
    "      % mean_absolute_error(y1_2t3_leak, y_pred_leak))\n",
    "# The coefficient of determination: 1 is perfect prediction\n",
    "print('Coefficient of determination: %.2f'\n",
    "      % r2_score(y1_2t3_leak, y_pred_leak))"
   ]
  },
  {
   "cell_type": "code",
   "execution_count": 27,
   "metadata": {},
   "outputs": [
    {
     "name": "stdout",
     "output_type": "stream",
     "text": [
      "0.9999999819302726\n",
      "Coefficients: \n",
      " [3.391 0.196]\n",
      "intercept: \n",
      " 22.074791923280415\n",
      "Mean squared error: 0.00\n",
      "Mean absolute error: 0.28\n",
      "Coefficient of determination: 1.00\n"
     ]
    }
   ],
   "source": [
    "X1_3t10 = results['3t10'].loc[:, results['3t10'].columns[0:2]]\n",
    "y1_3t10 = np.asarray(results['3t10'][results['3t10'].columns[2]]).ravel()\n",
    "normalizer = StandardScaler()\n",
    "X1_3t10_norm = normalizer.fit_transform(X1_3t10.values)\n",
    "regr = linear_model.LinearRegression()\n",
    "scores = cross_val_score(regr, X1_3t10_norm, y1_3t10, cv=10)\n",
    "print(scores.mean())\n",
    "X1_3t10_leak = results_leak['3t10'].loc[:,results_leak['3t10'].columns[0:2]]\n",
    "y1_3t10_leak = np.asarray(results_leak['3t10'][results_leak['3t10'].columns[2]]).ravel()\n",
    "# normalizer = StandardScaler()\n",
    "X1_3t10_leak_norm = normalizer.transform(X1_3t10_leak.values)\n",
    "# Train the model using the training sets\n",
    "regr.fit(X1_3t10_norm, y1_3t10)\n",
    "y_pred_leak = regr.predict(X1_3t10_leak_norm)\n",
    "# The coefficients\n",
    "print('Coefficients: \\n', regr.coef_)\n",
    "print('intercept: \\n', regr.intercept_)\n",
    "# The mean squared error\n",
    "print('Mean squared error: %.2f'\n",
    "      % mean_squared_error(y1_3t10_leak, y_pred_leak))\n",
    "print('Mean absolute error: %.2f'\n",
    "      % mean_absolute_error(y1_2t3_leak, y_pred_leak))\n",
    "# The coefficient of determination: 1 is perfect prediction\n",
    "print('Coefficient of determination: %.2f'\n",
    "      % r2_score(y1_3t10_leak, y_pred_leak))"
   ]
  },
  {
   "cell_type": "code",
   "execution_count": 23,
   "metadata": {},
   "outputs": [
    {
     "name": "stdout",
     "output_type": "stream",
     "text": [
      "0.817347794225021\n",
      "Coefficients: \n",
      " [ 0.002 -0.001]\n",
      "intercept: \n",
      " 0.005687222222222221\n",
      "Mean squared error: 0.00\n",
      "Mean absolute error: 0.00\n",
      "Coefficient of determination: 0.13\n"
     ]
    }
   ],
   "source": [
    "X1_4t5 = results['4t5'].loc[:, results['4t5'].columns[0:2]]\n",
    "y1_4t5 = np.asarray(results['4t5'][results['4t5'].columns[2]]).ravel()\n",
    "normalizer = StandardScaler()\n",
    "X1_4t5_norm = normalizer.fit_transform(X1_4t5.values)\n",
    "regr = linear_model.LinearRegression()\n",
    "scores = cross_val_score(regr, X1_4t5_norm, y1_4t5, cv=10)\n",
    "print(scores.mean())\n",
    "X1_4t5_leak = results_leak['4t5'].loc[:,results_leak['4t5'].columns[0:2]]\n",
    "y1_4t5_leak = np.asarray(results_leak['4t5'][results_leak['4t5'].columns[2]]).ravel()\n",
    "# normalizer = StandardScaler()\n",
    "X1_4t5_leak_norm = normalizer.transform(X1_4t5_leak.values)\n",
    "# Train the model using the training sets\n",
    "regr.fit(X1_4t5_norm, y1_4t5)\n",
    "y_pred_leak = regr.predict(X1_4t5_leak_norm)\n",
    "# The coefficients\n",
    "print('Coefficients: \\n', regr.coef_)\n",
    "print('intercept: \\n', regr.intercept_)\n",
    "# The mean squared error\n",
    "print('Mean squared error: %.2f'\n",
    "      % mean_squared_error(y1_4t5_leak, y_pred_leak))\n",
    "print('Mean absolute error: %.2f'\n",
    "      % mean_absolute_error(y1_4t5_leak, y_pred_leak))\n",
    "# The coefficient of determination: 1 is perfect prediction\n",
    "print('Coefficient of determination: %.2f'\n",
    "      % r2_score(y1_4t5_leak, y_pred_leak))"
   ]
  },
  {
   "cell_type": "raw",
   "metadata": {},
   "source": [
    "results_pipes = {}\n",
    "for pipe in pipes:\n",
    "    results_dict = {}\n",
    "    X1_pipe = results[pipe].loc[:, results[pipe].columns[0:2]]\n",
    "    y1_pipe = np.asarray(results[pipe][results[pipe].columns[2]]).ravel()\n",
    "    normalizer = StandardScaler()\n",
    "    X1_pipe_norm = normalizer.fit_transform(X1_pipe.values)\n",
    "    regr = linear_model.LinearRegression()\n",
    "    scores = cross_val_score(regr, X1_pipe_norm, y1_pipe, cv=10)#, scoring = 'neg_mean_absolute_error')\n",
    "    \n",
    "    X1_pipe_leak = results_leak[pipe].loc[:,results_leak[pipe].columns[0:2]]\n",
    "    y1_pipe_leak = np.asarray(results_leak[pipe][results_leak[pipe].columns[2]]).ravel()\n",
    "    # normalizer = StandardScaler()\n",
    "    X1_pipe_leak_norm = normalizer.transform(X1_pipe_leak.values)\n",
    "    # Train the model using the training sets\n",
    "    regr.fit(X1_pipe_norm, y1_pipe)\n",
    "    y_pred_leak = regr.predict(X1_pipe_leak_norm)\n",
    "    # The coefficients\n",
    "    \n",
    "    results_dict['cvscore'] = scores.mean()\n",
    "    results_dict['regcoef'] = regr.coef_\n",
    "    results_dict['regintr'] = regr.intercept_\n",
    "    results_dict['mse'] =  mean_squared_error(y1_pipe_leak, y_pred_leak)\n",
    "    results_dict['mae'] =  mean_absolute_error(y1_pipe_leak, y_pred_leak)\n",
    "    results_dict['mdae'] =  median_absolute_error(y1_pipe_leak, y_pred_leak)\n",
    "    results_dict['msle'] = mean_squared_log_error(y1_pipe_leak, y_pred_leak)\n",
    "    results_dict['cod'] = r2_score(y1_pipe_leak, y_pred_leak)\n",
    "    \n",
    "    X_train1, X_test1, y_train1, y_test1 = train_test_split(X1_pipe, y1_pipe, test_size=0.30, random_state=42, shuffle=True)\n",
    "    normalizer.fit(X_train1.values)\n",
    "    X_train1_norm = normalizer.transform(X_train1.values)\n",
    "    X_test1_norm = normalizer.transform(X_test1.values)\n",
    "    regr = linear_model.LinearRegression()\n",
    "    regr.fit(X_train1_norm, y_train1)\n",
    "    # Make predictions using the testing set\n",
    "    y_pred = regr.predict(X_test1_norm)\n",
    "    results_dict['mse_noleakset'] = mean_squared_error(y_test1, y_pred)\n",
    "    results_dict['mae_noleakset'] = mean_absolute_error(y_test1, y_pred)\n",
    "    results_dict['mdae_noleakset'] =  median_absolute_error(y_test1, y_pred)\n",
    "    results_dict['msle_noleakset'] = mean_squared_log_error(y_test1, y_pred)\n",
    "    results_dict['r2_noleakset'] = r2_score(y_test1, y_pred)\n",
    "    results_pipes[pipe] = results_dict"
   ]
  },
  {
   "cell_type": "code",
   "execution_count": 25,
   "metadata": {},
   "outputs": [
    {
     "data": {
      "text/plain": [
       "{'2t3': {'cvscore': 0.9999999597702789,\n",
       "  'regcoef': array([2.981, 0.052]),\n",
       "  'regintr': 23.07335739153438,\n",
       "  'mse': 0.0001762945700044308,\n",
       "  'mae': 0.01255607453574703,\n",
       "  'mdae': 0.012698946664549737,\n",
       "  'msle': 1.5760885043498583e-07,\n",
       "  'cod': 0.9999632981485569,\n",
       "  'mse_noleakset': 3.4692550756234147e-07,\n",
       "  'mae_noleakset': 0.000492695658534125,\n",
       "  'mdae_noleakset': 0.00046552032344138183,\n",
       "  'msle_noleakset': 6.369656475394888e-10,\n",
       "  'r2_noleakset': 0.9999999596899347},\n",
       " '2t4': {'cvscore': 0.9999999353115859,\n",
       "  'regcoef': array([1.757e+00, 6.954e-04]),\n",
       "  'regintr': 13.536649253968246,\n",
       "  'mse': 1.284624765028095e-07,\n",
       "  'mae': 0.00025594086329667104,\n",
       "  'mdae': 0.0001946880253171912,\n",
       "  'msle': 3.3026924938880204e-10,\n",
       "  'cod': 0.9999999264205054,\n",
       "  'mse_noleakset': 1.9997386883867142e-07,\n",
       "  'mae_noleakset': 0.00039975078931579674,\n",
       "  'mdae_noleakset': 0.0003678314050450382,\n",
       "  'msle_noleakset': 1.0395240424683578e-09,\n",
       "  'r2_noleakset': 0.9999999354552902},\n",
       " '2t7': {'cvscore': 0.9999999352782922,\n",
       "  'regcoef': array([1.757e+00, 6.452e-04]),\n",
       "  'regintr': 13.536649253968246,\n",
       "  'mse': 1.396906845303793e-07,\n",
       "  'mae': 0.0002621587449015714,\n",
       "  'mdae': 0.00018801506185539552,\n",
       "  'msle': 3.58183048202078e-10,\n",
       "  'cod': 0.99999991998938,\n",
       "  'mse_noleakset': 2.0007938536367756e-07,\n",
       "  'mae_noleakset': 0.00039994893232602044,\n",
       "  'mdae_noleakset': 0.00036770200671121245,\n",
       "  'msle_noleakset': 1.0401525954411925e-09,\n",
       "  'r2_noleakset': 0.9999999354212331},\n",
       " '7t8': {'cvscore': 0.8293401933744196,\n",
       "  'regcoef': array([5.699e-04, 5.891e-05]),\n",
       "  'regintr': 0.0050344444444444456,\n",
       "  'mse': 2.8026747577530556e-06,\n",
       "  'mae': 0.0012802981253891585,\n",
       "  'mdae': 0.0009784510696109958,\n",
       "  'msle': 2.753974709279476e-06,\n",
       "  'cod': -0.12119016520122061,\n",
       "  'mse_noleakset': 8.124989318740731e-08,\n",
       "  'mae_noleakset': 0.00023770006916240316,\n",
       "  'mdae_noleakset': 0.00022984602177210638,\n",
       "  'msle_noleakset': 8.043933695598984e-08,\n",
       "  'r2_noleakset': 0.830036561576581},\n",
       " '7t9': {'cvscore': 0.9498089128693061,\n",
       "  'regcoef': array([ 0.002, -0.001]),\n",
       "  'regintr': 0.011802777777777773,\n",
       "  'mse': 2.3884302823439315e-05,\n",
       "  'mae': 0.0036782287457632692,\n",
       "  'mdae': 0.002716508158283521,\n",
       "  'msle': 2.288188596716265e-05,\n",
       "  'cod': -0.29370401393476997,\n",
       "  'mse_noleakset': 9.678310265487888e-08,\n",
       "  'mae_noleakset': 0.00026193345903576106,\n",
       "  'mdae_noleakset': 0.0002448912086382409,\n",
       "  'msle_noleakset': 9.455533486962988e-08,\n",
       "  'r2_noleakset': 0.9497918337862039},\n",
       " '4t6': {'cvscore': 0.9008768868528685,\n",
       "  'regcoef': array([ 0.002, -0.001]),\n",
       "  'regintr': 0.008158333333333332,\n",
       "  'mse': 7.899053094185356e-06,\n",
       "  'mae': 0.0020917166082879196,\n",
       "  'mdae': 0.0014099753049337995,\n",
       "  'msle': 7.673761975434275e-06,\n",
       "  'cod': -0.10965853143890114,\n",
       "  'mse_noleakset': 9.502137964432474e-08,\n",
       "  'mae_noleakset': 0.0002659494475702003,\n",
       "  'mdae_noleakset': 0.000269011087712742,\n",
       "  'msle_noleakset': 9.346999247397509e-08,\n",
       "  'r2_noleakset': 0.9011485826180824},\n",
       " '3t10': {'cvscore': 0.9999999819302726,\n",
       "  'regcoef': array([3.391, 0.196]),\n",
       "  'regintr': 22.074791923280415,\n",
       "  'mse': 1.0252309145512527e-05,\n",
       "  'mae': 0.0027618867154479312,\n",
       "  'mdae': 0.0026894711066987043,\n",
       "  'msle': 1.0575528779794946e-08,\n",
       "  'cod': 0.9999981257888186,\n",
       "  'mse_noleakset': 1.840939753347603e-07,\n",
       "  'mae_noleakset': 0.0003559842826060897,\n",
       "  'mdae_noleakset': 0.00031196543290334944,\n",
       "  'msle_noleakset': 3.602704342947478e-10,\n",
       "  'r2_noleakset': 0.9999999820168343},\n",
       " '3t11': {'cvscore': 0.9999999813621002,\n",
       "  'regcoef': array([3.264, 0.142]),\n",
       "  'regintr': 22.349487650793645,\n",
       "  'mse': 5.226028376880442e-06,\n",
       "  'mae': 0.0019532889702560245,\n",
       "  'mdae': 0.0018734134963906968,\n",
       "  'msle': 5.255835033681591e-09,\n",
       "  'cod': 0.9999990110429622,\n",
       "  'mse_noleakset': 1.821700790657594e-07,\n",
       "  'mae_noleakset': 0.00034923082060171756,\n",
       "  'mdae_noleakset': 0.00030155818101818,\n",
       "  'msle_noleakset': 3.504121846311833e-10,\n",
       "  'r2_noleakset': 0.9999999813709401},\n",
       " '4t5': {'cvscore': 0.817347794225021,\n",
       "  'regcoef': array([ 0.002, -0.001]),\n",
       "  'regintr': 0.005687222222222221,\n",
       "  'mse': 2.7328978586366797e-06,\n",
       "  'mae': 0.0012210486957788995,\n",
       "  'mdae': 0.0008405584744723294,\n",
       "  'msle': 2.678469639820805e-06,\n",
       "  'cod': 0.13297400408033455,\n",
       "  'mse_noleakset': 8.823636730615301e-08,\n",
       "  'mae_noleakset': 0.00025677631380434607,\n",
       "  'mdae_noleakset': 0.0002544543108790589,\n",
       "  'msle_noleakset': 8.721885009848266e-08,\n",
       "  'r2_noleakset': 0.8175874572846886}}"
      ]
     },
     "execution_count": 25,
     "metadata": {},
     "output_type": "execute_result"
    }
   ],
   "source": [
    "results_pipes"
   ]
  },
  {
   "cell_type": "code",
   "execution_count": 26,
   "metadata": {},
   "outputs": [
    {
     "data": {
      "text/plain": [
       "{'2t3':         pstart    flow    pend\n",
       " 0       26.634  20.825  27.900\n",
       " 1       26.634  20.825  27.900\n",
       " 2       26.647  20.807  27.922\n",
       " 3       26.647  20.807  27.922\n",
       " 4       26.647  20.807  27.922\n",
       " ...        ...     ...     ...\n",
       " 226795  31.194  13.618  35.474\n",
       " 226796  31.194  13.618  35.474\n",
       " 226797  31.204  13.600  35.490\n",
       " 226798  31.204  13.600  35.490\n",
       " 226799  31.204  13.600  35.490\n",
       " \n",
       " [226800 rows x 3 columns],\n",
       " '2t4':         pstart   flow    pend\n",
       " 0       26.634  0.182  16.433\n",
       " 1       26.634  0.182  16.433\n",
       " 2       26.647  0.182  16.446\n",
       " 3       26.647  0.182  16.446\n",
       " 4       26.647  0.182  16.446\n",
       " ...        ...    ...     ...\n",
       " 226795  31.194  0.200  20.993\n",
       " 226796  31.194  0.200  20.993\n",
       " 226797  31.204  0.200  21.003\n",
       " 226798  31.204  0.200  21.003\n",
       " 226799  31.204  0.200  21.003\n",
       " \n",
       " [226800 rows x 3 columns],\n",
       " '2t7':         pstart   flow    pend\n",
       " 0       26.634  0.176  16.433\n",
       " 1       26.634  0.176  16.433\n",
       " 2       26.647  0.176  16.446\n",
       " 3       26.647  0.176  16.446\n",
       " 4       26.647  0.176  16.446\n",
       " ...        ...    ...     ...\n",
       " 226795  31.194  0.207  20.993\n",
       " 226796  31.194  0.207  20.993\n",
       " 226797  31.204  0.207  21.003\n",
       " 226798  31.204  0.207  21.003\n",
       " 226799  31.204  0.207  21.003\n",
       " \n",
       " [226800 rows x 3 columns],\n",
       " '7t8':         pstart   flow   pend\n",
       " 0       16.433  0.088  0.006\n",
       " 1       16.433  0.088  0.006\n",
       " 2       16.446  0.088  0.006\n",
       " 3       16.446  0.088  0.006\n",
       " 4       16.446  0.088  0.006\n",
       " ...        ...    ...    ...\n",
       " 226795  20.993  0.098  0.012\n",
       " 226796  20.993  0.098  0.012\n",
       " 226797  21.003  0.098  0.012\n",
       " 226798  21.003  0.098  0.012\n",
       " 226799  21.003  0.098  0.012\n",
       " \n",
       " [226800 rows x 3 columns],\n",
       " '7t9':         pstart   flow   pend\n",
       " 0       16.433  0.088  0.014\n",
       " 1       16.433  0.088  0.014\n",
       " 2       16.446  0.088  0.015\n",
       " 3       16.446  0.088  0.015\n",
       " 4       16.446  0.088  0.015\n",
       " ...        ...    ...    ...\n",
       " 226795  20.993  0.098  0.030\n",
       " 226796  20.993  0.098  0.030\n",
       " 226797  21.003  0.098  0.030\n",
       " 226798  21.003  0.098  0.030\n",
       " 226799  21.003  0.098  0.030\n",
       " \n",
       " [226800 rows x 3 columns],\n",
       " '4t6':         pstart   flow  pend\n",
       " 0       16.433  0.086  0.01\n",
       " 1       16.433  0.086  0.01\n",
       " 2       16.446  0.086  0.01\n",
       " 3       16.446  0.086  0.01\n",
       " 4       16.446  0.086  0.01\n",
       " ...        ...    ...   ...\n",
       " 226795  20.993  0.100  0.02\n",
       " 226796  20.993  0.100  0.02\n",
       " 226797  21.003  0.100  0.02\n",
       " 226798  21.003  0.100  0.02\n",
       " 226799  21.003  0.100  0.02\n",
       " \n",
       " [226800 rows x 3 columns],\n",
       " '3t10':         pstart  flow    pend\n",
       " 0       27.900  6.00  27.327\n",
       " 1       27.900  6.00  27.327\n",
       " 2       27.922  5.99  27.351\n",
       " 3       27.922  5.99  27.351\n",
       " 4       27.922  5.99  27.351\n",
       " ...        ...   ...     ...\n",
       " 226795  35.474  2.01  35.408\n",
       " 226796  35.474  2.01  35.408\n",
       " 226797  35.490  2.00  35.424\n",
       " 226798  35.490  2.00  35.424\n",
       " 226799  35.490  2.00  35.424\n",
       " \n",
       " [226800 rows x 3 columns],\n",
       " '3t11':         pstart   flow    pend\n",
       " 0       27.900  4.800  27.485\n",
       " 1       27.900  4.800  27.485\n",
       " 2       27.922  4.792  27.509\n",
       " 3       27.922  4.792  27.509\n",
       " 4       27.922  4.792  27.509\n",
       " ...        ...    ...     ...\n",
       " 226795  35.474  1.608  35.429\n",
       " 226796  35.474  1.608  35.429\n",
       " 226797  35.490  1.600  35.445\n",
       " 226798  35.490  1.600  35.445\n",
       " 226799  35.490  1.600  35.445\n",
       " \n",
       " [226800 rows x 3 columns],\n",
       " '4t5':         pstart   flow   pend\n",
       " 0       16.433  0.086  0.007\n",
       " 1       16.433  0.086  0.007\n",
       " 2       16.446  0.086  0.007\n",
       " 3       16.446  0.086  0.007\n",
       " 4       16.446  0.086  0.007\n",
       " ...        ...    ...    ...\n",
       " 226795  20.993  0.100  0.013\n",
       " 226796  20.993  0.100  0.013\n",
       " 226797  21.003  0.100  0.013\n",
       " 226798  21.003  0.100  0.013\n",
       " 226799  21.003  0.100  0.013\n",
       " \n",
       " [226800 rows x 3 columns]}"
      ]
     },
     "execution_count": 26,
     "metadata": {},
     "output_type": "execute_result"
    }
   ],
   "source": [
    "results_leak"
   ]
  },
  {
   "cell_type": "code",
   "execution_count": 35,
   "metadata": {},
   "outputs": [],
   "source": [
    "from sklearn.model_selection import cross_val_score\n",
    "from sklearn import linear_model\n",
    "# Create linear regression object\n"
   ]
  },
  {
   "cell_type": "code",
   "execution_count": 36,
   "metadata": {},
   "outputs": [
    {
     "data": {
      "text/plain": [
       "array([1., 1., 1., 1., 1., 1., 1., 1., 1., 1.])"
      ]
     },
     "execution_count": 36,
     "metadata": {},
     "output_type": "execute_result"
    }
   ],
   "source": [
    "scores"
   ]
  },
  {
   "cell_type": "code",
   "execution_count": 37,
   "metadata": {},
   "outputs": [],
   "source": []
  },
  {
   "cell_type": "code",
   "execution_count": 41,
   "metadata": {},
   "outputs": [
    {
     "data": {
      "text/plain": [
       "array([27.9  , 27.9  , 27.922, ..., 35.491, 35.491, 35.491])"
      ]
     },
     "execution_count": 41,
     "metadata": {},
     "output_type": "execute_result"
    }
   ],
   "source": [
    "y1_2t3_leak"
   ]
  },
  {
   "cell_type": "code",
   "execution_count": 43,
   "metadata": {},
   "outputs": [
    {
     "name": "stdout",
     "output_type": "stream",
     "text": [
      "Coefficients: \n",
      " [2.981 0.052]\n",
      "intercept: \n",
      " 23.07335739153438\n",
      "Mean squared error: 0.00\n",
      "Coefficient of determination: 1.00\n"
     ]
    }
   ],
   "source": []
  },
  {
   "cell_type": "code",
   "execution_count": 44,
   "metadata": {},
   "outputs": [
    {
     "data": {
      "text/plain": [
       "<matplotlib.collections.PathCollection at 0x7f0a98746910>"
      ]
     },
     "execution_count": 44,
     "metadata": {},
     "output_type": "execute_result"
    },
    {
     "data": {
      "image/png": "[encoded data removed]",
      "text/plain": [
       "<Figure size 432x288 with 1 Axes>"
      ]
     },
     "metadata": {
      "needs_background": "light"
     },
     "output_type": "display_data"
    }
   ],
   "source": [
    "plt.scatter(y1_2t3_leak, y_pred_leak,  color='black')"
   ]
  },
  {
   "cell_type": "code",
   "execution_count": null,
   "metadata": {},
   "outputs": [],
   "source": []
  },
  {
   "cell_type": "code",
   "execution_count": 34,
   "metadata": {},
   "outputs": [],
   "source": []
  },
  {
   "cell_type": "code",
   "execution_count": 51,
   "metadata": {},
   "outputs": [],
   "source": []
  },
  {
   "cell_type": "code",
   "execution_count": 43,
   "metadata": {},
   "outputs": [],
   "source": []
  },
  {
   "cell_type": "code",
   "execution_count": 52,
   "metadata": {},
   "outputs": [],
   "source": []
  },
  {
   "cell_type": "code",
   "execution_count": 42,
   "metadata": {},
   "outputs": [
    {
     "name": "stdout",
     "output_type": "stream",
     "text": [
      "Coefficients: \n",
      " [ 5.802 -1.456]\n",
      "Mean squared error: 3.99\n",
      "Coefficient of determination: 0.86\n"
     ]
    },
    {
     "data": {
      "image/png": "[encoded data removed]",
      "text/plain": [
       "<Figure size 432x288 with 1 Axes>"
      ]
     },
     "metadata": {},
     "output_type": "display_data"
    }
   ],
   "source": [
    "# Make predictions using the testing set\n",
    "y_pred = regr.predict(X_test1_norm)\n",
    "import matplotlib.pyplot as plt\n",
    "from sklearn.metrics import mean_squared_error, r2_score\n",
    "# The coefficients\n",
    "print('Coefficients: \\n', regr.coef_)\n",
    "# The mean squared error\n",
    "print('Mean squared error: %.2f'\n",
    "      % mean_squared_error(y_test1, y_pred))\n",
    "# The coefficient of determination: 1 is perfect prediction\n",
    "print('Coefficient of determination: %.2f'\n",
    "      % r2_score(y_test1, y_pred))\n",
    "\n",
    "# Plot outputs\n",
    "plt.scatter(y_pred, y_test1,  color='black')\n",
    "# plt.plot(X2_test['pend'], y_pred, color='blue', linewidth=3)\n",
    "\n",
    "plt.xticks(())\n",
    "plt.yticks(())\n",
    "\n",
    "plt.show()"
   ]
  },
  {
   "cell_type": "code",
   "execution_count": 53,
   "metadata": {},
   "outputs": [
    {
     "name": "stdout",
     "output_type": "stream",
     "text": [
      "Coefficients: \n",
      " [ 5.802 -1.456]\n",
      "Mean squared error: 16.46\n",
      "Coefficient of determination: 0.53\n"
     ]
    }
   ],
   "source": [
    "# Make predictions using the testing set\n",
    "y_pred_leak = regr.predict(X1_leak_norm)\n",
    "import matplotlib.pyplot as plt\n",
    "from sklearn.metrics import mean_squared_error, r2_score\n",
    "# The coefficients\n",
    "print('Coefficients: \\n', regr.coef_)\n",
    "# The mean squared error\n",
    "print('Mean squared error: %.2f'\n",
    "      % mean_squared_error(y1_leak, y_pred_leak))\n",
    "# The coefficient of determination: 1 is perfect prediction\n",
    "print('Coefficient of determination: %.2f'\n",
    "      % r2_score(y1_leak, y_pred_leak))"
   ]
  },
  {
   "cell_type": "code",
   "execution_count": 46,
   "metadata": {},
   "outputs": [],
   "source": [
    "from sklearn.model_selection import cross_val_score\n",
    "scores = cross_val_score(regr, X1_norm, y1, cv=10)"
   ]
  },
  {
   "cell_type": "code",
   "execution_count": 49,
   "metadata": {},
   "outputs": [
    {
     "data": {
      "text/plain": [
       "-1.8259264811371818"
      ]
     },
     "execution_count": 49,
     "metadata": {},
     "output_type": "execute_result"
    }
   ],
   "source": [
    "scores.mean()"
   ]
  },
  {
   "cell_type": "code",
   "execution_count": null,
   "metadata": {},
   "outputs": [],
   "source": []
  },
  {
   "cell_type": "code",
   "execution_count": 48,
   "metadata": {},
   "outputs": [],
   "source": [
    "pressure_test1 = pd.read_csv('pressure_test1.zip', compression='zip', header=0) \n",
    "pressure_test4 = pd.read_csv('pressure_test4.zip', compression='zip', header=0)"
   ]
  },
  {
   "cell_type": "code",
   "execution_count": 30,
   "metadata": {},
   "outputs": [
    {
     "data": {
      "text/html": [
       "<div>\n",
       "<style scoped>\n",
       "    .dataframe tbody tr th:only-of-type {\n",
       "        vertical-align: middle;\n",
       "    }\n",
       "\n",
       "    .dataframe tbody tr th {\n",
       "        vertical-align: top;\n",
       "    }\n",
       "\n",
       "    .dataframe thead th {\n",
       "        text-align: right;\n",
       "    }\n",
       "</style>\n",
       "<table border=\"1\" class=\"dataframe\">\n",
       "  <thead>\n",
       "    <tr style=\"text-align: right;\">\n",
       "      <th></th>\n",
       "      <th>2</th>\n",
       "      <th>3</th>\n",
       "      <th>4</th>\n",
       "      <th>5</th>\n",
       "      <th>6</th>\n",
       "      <th>7</th>\n",
       "      <th>8</th>\n",
       "      <th>9</th>\n",
       "      <th>10</th>\n",
       "      <th>11</th>\n",
       "      <th>...</th>\n",
       "      <th>2t3</th>\n",
       "      <th>2t7</th>\n",
       "      <th>7t9</th>\n",
       "      <th>3t10</th>\n",
       "      <th>2t4</th>\n",
       "      <th>7t8</th>\n",
       "      <th>3t11</th>\n",
       "      <th>4t5</th>\n",
       "      <th>4t6</th>\n",
       "      <th>status</th>\n",
       "    </tr>\n",
       "  </thead>\n",
       "  <tbody>\n",
       "    <tr>\n",
       "      <th>3299</th>\n",
       "      <td>30.567</td>\n",
       "      <td>34.425</td>\n",
       "      <td>20.366</td>\n",
       "      <td>0.011</td>\n",
       "      <td>0.017</td>\n",
       "      <td>20.366</td>\n",
       "      <td>0.010</td>\n",
       "      <td>0.025</td>\n",
       "      <td>34.305</td>\n",
       "      <td>34.340</td>\n",
       "      <td>...</td>\n",
       "      <td>p0</td>\n",
       "      <td>p0</td>\n",
       "      <td>p0</td>\n",
       "      <td>p0</td>\n",
       "      <td>p0</td>\n",
       "      <td>p0</td>\n",
       "      <td>p0</td>\n",
       "      <td>p0</td>\n",
       "      <td>p0</td>\n",
       "      <td>0</td>\n",
       "    </tr>\n",
       "    <tr>\n",
       "      <th>3300</th>\n",
       "      <td>30.551</td>\n",
       "      <td>34.414</td>\n",
       "      <td>20.350</td>\n",
       "      <td>0.011</td>\n",
       "      <td>0.017</td>\n",
       "      <td>20.350</td>\n",
       "      <td>0.010</td>\n",
       "      <td>0.025</td>\n",
       "      <td>34.295</td>\n",
       "      <td>34.330</td>\n",
       "      <td>...</td>\n",
       "      <td>p4</td>\n",
       "      <td>p8</td>\n",
       "      <td>p1</td>\n",
       "      <td>p0</td>\n",
       "      <td>p0</td>\n",
       "      <td>p0</td>\n",
       "      <td>p0</td>\n",
       "      <td>p0</td>\n",
       "      <td>p0</td>\n",
       "      <td>1</td>\n",
       "    </tr>\n",
       "    <tr>\n",
       "      <th>3301</th>\n",
       "      <td>30.551</td>\n",
       "      <td>34.414</td>\n",
       "      <td>20.350</td>\n",
       "      <td>0.011</td>\n",
       "      <td>0.017</td>\n",
       "      <td>20.350</td>\n",
       "      <td>0.010</td>\n",
       "      <td>0.025</td>\n",
       "      <td>34.295</td>\n",
       "      <td>34.330</td>\n",
       "      <td>...</td>\n",
       "      <td>p4</td>\n",
       "      <td>p8</td>\n",
       "      <td>p1</td>\n",
       "      <td>p0</td>\n",
       "      <td>p0</td>\n",
       "      <td>p0</td>\n",
       "      <td>p0</td>\n",
       "      <td>p0</td>\n",
       "      <td>p0</td>\n",
       "      <td>1</td>\n",
       "    </tr>\n",
       "    <tr>\n",
       "      <th>3302</th>\n",
       "      <td>30.551</td>\n",
       "      <td>34.414</td>\n",
       "      <td>20.350</td>\n",
       "      <td>0.011</td>\n",
       "      <td>0.017</td>\n",
       "      <td>20.350</td>\n",
       "      <td>0.010</td>\n",
       "      <td>0.025</td>\n",
       "      <td>34.295</td>\n",
       "      <td>34.330</td>\n",
       "      <td>...</td>\n",
       "      <td>p4</td>\n",
       "      <td>p8</td>\n",
       "      <td>p1</td>\n",
       "      <td>p0</td>\n",
       "      <td>p0</td>\n",
       "      <td>p0</td>\n",
       "      <td>p0</td>\n",
       "      <td>p0</td>\n",
       "      <td>p0</td>\n",
       "      <td>1</td>\n",
       "    </tr>\n",
       "    <tr>\n",
       "      <th>3303</th>\n",
       "      <td>30.551</td>\n",
       "      <td>34.414</td>\n",
       "      <td>20.350</td>\n",
       "      <td>0.011</td>\n",
       "      <td>0.017</td>\n",
       "      <td>20.350</td>\n",
       "      <td>0.010</td>\n",
       "      <td>0.025</td>\n",
       "      <td>34.295</td>\n",
       "      <td>34.330</td>\n",
       "      <td>...</td>\n",
       "      <td>p4</td>\n",
       "      <td>p8</td>\n",
       "      <td>p1</td>\n",
       "      <td>p0</td>\n",
       "      <td>p0</td>\n",
       "      <td>p0</td>\n",
       "      <td>p0</td>\n",
       "      <td>p0</td>\n",
       "      <td>p0</td>\n",
       "      <td>1</td>\n",
       "    </tr>\n",
       "    <tr>\n",
       "      <th>...</th>\n",
       "      <td>...</td>\n",
       "      <td>...</td>\n",
       "      <td>...</td>\n",
       "      <td>...</td>\n",
       "      <td>...</td>\n",
       "      <td>...</td>\n",
       "      <td>...</td>\n",
       "      <td>...</td>\n",
       "      <td>...</td>\n",
       "      <td>...</td>\n",
       "      <td>...</td>\n",
       "      <td>...</td>\n",
       "      <td>...</td>\n",
       "      <td>...</td>\n",
       "      <td>...</td>\n",
       "      <td>...</td>\n",
       "      <td>...</td>\n",
       "      <td>...</td>\n",
       "      <td>...</td>\n",
       "      <td>...</td>\n",
       "      <td>...</td>\n",
       "    </tr>\n",
       "    <tr>\n",
       "      <th>3595</th>\n",
       "      <td>31.187</td>\n",
       "      <td>35.466</td>\n",
       "      <td>20.986</td>\n",
       "      <td>0.013</td>\n",
       "      <td>0.020</td>\n",
       "      <td>20.986</td>\n",
       "      <td>0.012</td>\n",
       "      <td>0.030</td>\n",
       "      <td>35.399</td>\n",
       "      <td>35.420</td>\n",
       "      <td>...</td>\n",
       "      <td>p4</td>\n",
       "      <td>p8</td>\n",
       "      <td>p1</td>\n",
       "      <td>p0</td>\n",
       "      <td>p0</td>\n",
       "      <td>p0</td>\n",
       "      <td>p0</td>\n",
       "      <td>p0</td>\n",
       "      <td>p0</td>\n",
       "      <td>1</td>\n",
       "    </tr>\n",
       "    <tr>\n",
       "      <th>3596</th>\n",
       "      <td>31.187</td>\n",
       "      <td>35.466</td>\n",
       "      <td>20.986</td>\n",
       "      <td>0.013</td>\n",
       "      <td>0.020</td>\n",
       "      <td>20.986</td>\n",
       "      <td>0.012</td>\n",
       "      <td>0.030</td>\n",
       "      <td>35.399</td>\n",
       "      <td>35.420</td>\n",
       "      <td>...</td>\n",
       "      <td>p4</td>\n",
       "      <td>p8</td>\n",
       "      <td>p1</td>\n",
       "      <td>p0</td>\n",
       "      <td>p0</td>\n",
       "      <td>p0</td>\n",
       "      <td>p0</td>\n",
       "      <td>p0</td>\n",
       "      <td>p0</td>\n",
       "      <td>1</td>\n",
       "    </tr>\n",
       "    <tr>\n",
       "      <th>3597</th>\n",
       "      <td>31.197</td>\n",
       "      <td>35.481</td>\n",
       "      <td>20.996</td>\n",
       "      <td>0.013</td>\n",
       "      <td>0.020</td>\n",
       "      <td>20.995</td>\n",
       "      <td>0.012</td>\n",
       "      <td>0.031</td>\n",
       "      <td>35.415</td>\n",
       "      <td>35.436</td>\n",
       "      <td>...</td>\n",
       "      <td>p4</td>\n",
       "      <td>p8</td>\n",
       "      <td>p1</td>\n",
       "      <td>p0</td>\n",
       "      <td>p0</td>\n",
       "      <td>p0</td>\n",
       "      <td>p0</td>\n",
       "      <td>p0</td>\n",
       "      <td>p0</td>\n",
       "      <td>1</td>\n",
       "    </tr>\n",
       "    <tr>\n",
       "      <th>3598</th>\n",
       "      <td>31.197</td>\n",
       "      <td>35.481</td>\n",
       "      <td>20.996</td>\n",
       "      <td>0.013</td>\n",
       "      <td>0.020</td>\n",
       "      <td>20.995</td>\n",
       "      <td>0.012</td>\n",
       "      <td>0.031</td>\n",
       "      <td>35.415</td>\n",
       "      <td>35.436</td>\n",
       "      <td>...</td>\n",
       "      <td>p4</td>\n",
       "      <td>p8</td>\n",
       "      <td>p1</td>\n",
       "      <td>p0</td>\n",
       "      <td>p0</td>\n",
       "      <td>p0</td>\n",
       "      <td>p0</td>\n",
       "      <td>p0</td>\n",
       "      <td>p0</td>\n",
       "      <td>1</td>\n",
       "    </tr>\n",
       "    <tr>\n",
       "      <th>3599</th>\n",
       "      <td>31.197</td>\n",
       "      <td>35.481</td>\n",
       "      <td>20.996</td>\n",
       "      <td>0.013</td>\n",
       "      <td>0.020</td>\n",
       "      <td>20.995</td>\n",
       "      <td>0.012</td>\n",
       "      <td>0.031</td>\n",
       "      <td>35.415</td>\n",
       "      <td>35.436</td>\n",
       "      <td>...</td>\n",
       "      <td>p4</td>\n",
       "      <td>p8</td>\n",
       "      <td>p1</td>\n",
       "      <td>p0</td>\n",
       "      <td>p0</td>\n",
       "      <td>p0</td>\n",
       "      <td>p0</td>\n",
       "      <td>p0</td>\n",
       "      <td>p0</td>\n",
       "      <td>1</td>\n",
       "    </tr>\n",
       "  </tbody>\n",
       "</table>\n",
       "<p>301 rows × 22 columns</p>\n",
       "</div>"
      ],
      "text/plain": [
       "           2       3       4      5      6       7      8      9      10  \\\n",
       "3299  30.567  34.425  20.366  0.011  0.017  20.366  0.010  0.025  34.305   \n",
       "3300  30.551  34.414  20.350  0.011  0.017  20.350  0.010  0.025  34.295   \n",
       "3301  30.551  34.414  20.350  0.011  0.017  20.350  0.010  0.025  34.295   \n",
       "3302  30.551  34.414  20.350  0.011  0.017  20.350  0.010  0.025  34.295   \n",
       "3303  30.551  34.414  20.350  0.011  0.017  20.350  0.010  0.025  34.295   \n",
       "...      ...     ...     ...    ...    ...     ...    ...    ...     ...   \n",
       "3595  31.187  35.466  20.986  0.013  0.020  20.986  0.012  0.030  35.399   \n",
       "3596  31.187  35.466  20.986  0.013  0.020  20.986  0.012  0.030  35.399   \n",
       "3597  31.197  35.481  20.996  0.013  0.020  20.995  0.012  0.031  35.415   \n",
       "3598  31.197  35.481  20.996  0.013  0.020  20.995  0.012  0.031  35.415   \n",
       "3599  31.197  35.481  20.996  0.013  0.020  20.995  0.012  0.031  35.415   \n",
       "\n",
       "          11  ...  2t3 2t7 7t9 3t10 2t4 7t8 3t11 4t5 4t6 status  \n",
       "3299  34.340  ...   p0  p0  p0   p0  p0  p0   p0  p0  p0      0  \n",
       "3300  34.330  ...   p4  p8  p1   p0  p0  p0   p0  p0  p0      1  \n",
       "3301  34.330  ...   p4  p8  p1   p0  p0  p0   p0  p0  p0      1  \n",
       "3302  34.330  ...   p4  p8  p1   p0  p0  p0   p0  p0  p0      1  \n",
       "3303  34.330  ...   p4  p8  p1   p0  p0  p0   p0  p0  p0      1  \n",
       "...      ...  ...  ...  ..  ..  ...  ..  ..  ...  ..  ..    ...  \n",
       "3595  35.420  ...   p4  p8  p1   p0  p0  p0   p0  p0  p0      1  \n",
       "3596  35.420  ...   p4  p8  p1   p0  p0  p0   p0  p0  p0      1  \n",
       "3597  35.436  ...   p4  p8  p1   p0  p0  p0   p0  p0  p0      1  \n",
       "3598  35.436  ...   p4  p8  p1   p0  p0  p0   p0  p0  p0      1  \n",
       "3599  35.436  ...   p4  p8  p1   p0  p0  p0   p0  p0  p0      1  \n",
       "\n",
       "[301 rows x 22 columns]"
      ]
     },
     "execution_count": 30,
     "metadata": {},
     "output_type": "execute_result"
    }
   ],
   "source": [
    "pressure_test4[3299:3600]"
   ]
  },
  {
   "cell_type": "code",
   "execution_count": 33,
   "metadata": {},
   "outputs": [],
   "source": [
    "import time\n",
    "now_in_s = int(time.time())\n",
    "# pressure_test4['time']  = now_in_s + (pressure3['time'] * 1e6).round(0).astype(int)\n",
    "# pressure_test4.set_index('time',inplace=True)\n",
    "pressure_test4.index =  pd.to_datetime(now_in_s + pressure_test4.index , unit='s')"
   ]
  },
  {
   "cell_type": "code",
   "execution_count": 34,
   "metadata": {},
   "outputs": [
    {
     "data": {
      "text/plain": [
       "2021-06-16 11:34:17    16.456\n",
       "2021-06-16 11:34:18    16.456\n",
       "2021-06-16 11:34:19    16.456\n",
       "2021-06-16 11:34:20    16.469\n",
       "2021-06-16 11:34:21    16.469\n",
       "                        ...  \n",
       "2021-06-16 12:04:13    20.986\n",
       "2021-06-16 12:04:14    20.986\n",
       "2021-06-16 12:04:15    20.995\n",
       "2021-06-16 12:04:16    20.995\n",
       "2021-06-16 12:04:17    20.995\n",
       "Name: 7, Length: 1801, dtype: float64"
      ]
     },
     "execution_count": 34,
     "metadata": {},
     "output_type": "execute_result"
    }
   ],
   "source": [
    "pressure_test4[:3600]['7']"
   ]
  },
  {
   "cell_type": "code",
   "execution_count": 45,
   "metadata": {},
   "outputs": [
    {
     "data": {
      "image/png": "[encoded data removed]",
      "text/plain": [
       "<Figure size 1152x288 with 1 Axes>"
      ]
     },
     "metadata": {},
     "output_type": "display_data"
    }
   ],
   "source": [
    "s = validate_series(pressure_test4[3200:3600]['7'])\n",
    "anomalies = pipeline.fit_detect(s)\n",
    "plot(s, anomaly=anomalies, anomaly_color='red');"
   ]
  },
  {
   "cell_type": "code",
   "execution_count": 46,
   "metadata": {},
   "outputs": [
    {
     "data": {
      "image/png": "[encoded data removed]",
      "text/plain": [
       "<Figure size 1152x288 with 1 Axes>"
      ]
     },
     "metadata": {},
     "output_type": "display_data"
    }
   ],
   "source": [
    "s = validate_series(pressure_test4[3200:3600]['6'])\n",
    "anomalies = pipeline.fit_detect(s)\n",
    "plot(s, anomaly=anomalies, anomaly_color='red');"
   ]
  },
  {
   "cell_type": "code",
   "execution_count": 47,
   "metadata": {},
   "outputs": [
    {
     "data": {
      "image/png": "[encoded data removed]",
      "text/plain": [
       "<Figure size 1152x288 with 1 Axes>"
      ]
     },
     "metadata": {},
     "output_type": "display_data"
    }
   ],
   "source": [
    "s = validate_series(pressure_test4[3200:3600]['3'])\n",
    "anomalies = pipeline.fit_detect(s)\n",
    "plot(s, anomaly=anomalies, anomaly_color='red');"
   ]
  },
  {
   "cell_type": "code",
   "execution_count": 48,
   "metadata": {},
   "outputs": [
    {
     "data": {
      "image/png": "[encoded data removed]",
      "text/plain": [
       "<Figure size 1152x288 with 1 Axes>"
      ]
     },
     "metadata": {},
     "output_type": "display_data"
    }
   ],
   "source": [
    "s = validate_series(pressure_test4[3200:3600]['9'])\n",
    "anomalies = pipeline.fit_detect(s)\n",
    "plot(s, anomaly=anomalies, anomaly_color='red');"
   ]
  },
  {
   "cell_type": "code",
   "execution_count": null,
   "metadata": {},
   "outputs": [],
   "source": []
  }
 ],
 "metadata": {
  "instance_type": "ml.t3.medium",
  "kernelspec": {
   "display_name": "Python 3 (Data Science)",
   "language": "python",
   "name": "python3__SAGEMAKER_INTERNAL__arn:aws:sagemaker:us-west-2:236514542706:image/datascience-1.0"
  },
  "language_info": {
   "codemirror_mode": {
    "name": "ipython",
    "version": 3
   },
   "file_extension": ".py",
   "mimetype": "text/x-python",
   "name": "python",
   "nbconvert_exporter": "python",
   "pygments_lexer": "ipython3",
   "version": "3.7.10"
  }
 },
 "nbformat": 4,
 "nbformat_minor": 4
}
