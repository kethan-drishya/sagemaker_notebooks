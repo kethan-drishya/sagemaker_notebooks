{
 "cells": [
  {
   "cell_type": "code",
   "execution_count": 1,
   "metadata": {
    "application/vnd.databricks.v1+cell": {
     "inputWidgets": {},
     "nuid": "961fa897-4c6d-4bed-99c1-ae4a01180cc4",
     "showTitle": false,
     "title": ""
    }
   },
   "outputs": [
    {
     "name": "stdout",
     "output_type": "stream",
     "text": [
      "Requirement already satisfied: tensorflow in /opt/conda/lib/python3.7/site-packages (2.4.1)\n",
      "Requirement already satisfied: numpy~=1.19.2 in /opt/conda/lib/python3.7/site-packages (from tensorflow) (1.19.5)\n",
      "Requirement already satisfied: tensorboard~=2.4 in /opt/conda/lib/python3.7/site-packages (from tensorflow) (2.4.1)\n",
      "Requirement already satisfied: h5py~=2.10.0 in /opt/conda/lib/python3.7/site-packages (from tensorflow) (2.10.0)\n",
      "Requirement already satisfied: keras-preprocessing~=1.1.2 in /opt/conda/lib/python3.7/site-packages (from tensorflow) (1.1.2)\n",
      "Requirement already satisfied: wrapt~=1.12.1 in /opt/conda/lib/python3.7/site-packages (from tensorflow) (1.12.1)\n",
      "Requirement already satisfied: termcolor~=1.1.0 in /opt/conda/lib/python3.7/site-packages (from tensorflow) (1.1.0)\n",
      "Requirement already satisfied: absl-py~=0.10 in /opt/conda/lib/python3.7/site-packages (from tensorflow) (0.12.0)\n",
      "Requirement already satisfied: six~=1.15.0 in /opt/conda/lib/python3.7/site-packages (from tensorflow) (1.15.0)\n",
      "Requirement already satisfied: typing-extensions~=3.7.4 in /opt/conda/lib/python3.7/site-packages (from tensorflow) (3.7.4.3)\n",
      "Requirement already satisfied: gast==0.3.3 in /opt/conda/lib/python3.7/site-packages (from tensorflow) (0.3.3)\n",
      "Requirement already satisfied: protobuf>=3.9.2 in /opt/conda/lib/python3.7/site-packages (from tensorflow) (3.15.2)\n",
      "Requirement already satisfied: google-pasta~=0.2 in /opt/conda/lib/python3.7/site-packages (from tensorflow) (0.2.0)\n",
      "Requirement already satisfied: wheel~=0.35 in /opt/conda/lib/python3.7/site-packages (from tensorflow) (0.36.2)\n",
      "Requirement already satisfied: opt-einsum~=3.3.0 in /opt/conda/lib/python3.7/site-packages (from tensorflow) (3.3.0)\n",
      "Requirement already satisfied: grpcio~=1.32.0 in /opt/conda/lib/python3.7/site-packages (from tensorflow) (1.32.0)\n",
      "Requirement already satisfied: astunparse~=1.6.3 in /opt/conda/lib/python3.7/site-packages (from tensorflow) (1.6.3)\n",
      "Requirement already satisfied: tensorflow-estimator<2.5.0,>=2.4.0 in /opt/conda/lib/python3.7/site-packages (from tensorflow) (2.4.0)\n",
      "Requirement already satisfied: flatbuffers~=1.12.0 in /opt/conda/lib/python3.7/site-packages (from tensorflow) (1.12)\n",
      "Requirement already satisfied: requests<3,>=2.21.0 in /opt/conda/lib/python3.7/site-packages (from tensorboard~=2.4->tensorflow) (2.23.0)\n",
      "Requirement already satisfied: google-auth<2,>=1.6.3 in /opt/conda/lib/python3.7/site-packages (from tensorboard~=2.4->tensorflow) (1.27.1)\n",
      "Requirement already satisfied: werkzeug>=0.11.15 in /opt/conda/lib/python3.7/site-packages (from tensorboard~=2.4->tensorflow) (1.0.0)\n",
      "Requirement already satisfied: tensorboard-plugin-wit>=1.6.0 in /opt/conda/lib/python3.7/site-packages (from tensorboard~=2.4->tensorflow) (1.8.0)\n",
      "Requirement already satisfied: markdown>=2.6.8 in /opt/conda/lib/python3.7/site-packages (from tensorboard~=2.4->tensorflow) (3.3.4)\n",
      "Requirement already satisfied: google-auth-oauthlib<0.5,>=0.4.1 in /opt/conda/lib/python3.7/site-packages (from tensorboard~=2.4->tensorflow) (0.4.3)\n",
      "Requirement already satisfied: setuptools>=41.0.0 in /opt/conda/lib/python3.7/site-packages (from tensorboard~=2.4->tensorflow) (45.2.0.post20200210)\n",
      "Requirement already satisfied: urllib3!=1.25.0,!=1.25.1,<1.26,>=1.21.1 in /opt/conda/lib/python3.7/site-packages (from requests<3,>=2.21.0->tensorboard~=2.4->tensorflow) (1.25.8)\n",
      "Requirement already satisfied: certifi>=2017.4.17 in /opt/conda/lib/python3.7/site-packages (from requests<3,>=2.21.0->tensorboard~=2.4->tensorflow) (2020.12.5)\n",
      "Requirement already satisfied: chardet<4,>=3.0.2 in /opt/conda/lib/python3.7/site-packages (from requests<3,>=2.21.0->tensorboard~=2.4->tensorflow) (3.0.4)\n",
      "Requirement already satisfied: idna<3,>=2.5 in /opt/conda/lib/python3.7/site-packages (from requests<3,>=2.21.0->tensorboard~=2.4->tensorflow) (2.8)\n",
      "Requirement already satisfied: rsa<5,>=3.1.4; python_version >= \"3.6\" in /opt/conda/lib/python3.7/site-packages (from google-auth<2,>=1.6.3->tensorboard~=2.4->tensorflow) (4.7.2)\n",
      "Requirement already satisfied: pyasn1-modules>=0.2.1 in /opt/conda/lib/python3.7/site-packages (from google-auth<2,>=1.6.3->tensorboard~=2.4->tensorflow) (0.2.8)\n",
      "Requirement already satisfied: cachetools<5.0,>=2.0.0 in /opt/conda/lib/python3.7/site-packages (from google-auth<2,>=1.6.3->tensorboard~=2.4->tensorflow) (4.2.1)\n",
      "Requirement already satisfied: importlib-metadata; python_version < \"3.8\" in /opt/conda/lib/python3.7/site-packages (from markdown>=2.6.8->tensorboard~=2.4->tensorflow) (1.5.0)\n",
      "Requirement already satisfied: requests-oauthlib>=0.7.0 in /opt/conda/lib/python3.7/site-packages (from google-auth-oauthlib<0.5,>=0.4.1->tensorboard~=2.4->tensorflow) (1.3.0)\n",
      "Requirement already satisfied: pyasn1>=0.1.3 in /opt/conda/lib/python3.7/site-packages (from rsa<5,>=3.1.4; python_version >= \"3.6\"->google-auth<2,>=1.6.3->tensorboard~=2.4->tensorflow) (0.4.8)\n",
      "Requirement already satisfied: zipp>=0.5 in /opt/conda/lib/python3.7/site-packages (from importlib-metadata; python_version < \"3.8\"->markdown>=2.6.8->tensorboard~=2.4->tensorflow) (2.2.0)\n",
      "Requirement already satisfied: oauthlib>=3.0.0 in /opt/conda/lib/python3.7/site-packages (from requests-oauthlib>=0.7.0->google-auth-oauthlib<0.5,>=0.4.1->tensorboard~=2.4->tensorflow) (3.1.0)\n",
      "Requirement already satisfied: keras in /opt/conda/lib/python3.7/site-packages (2.4.3)\n",
      "Requirement already satisfied: pyyaml in /opt/conda/lib/python3.7/site-packages (from keras) (5.3)\n",
      "Requirement already satisfied: numpy>=1.9.1 in /opt/conda/lib/python3.7/site-packages (from keras) (1.19.5)\n",
      "Requirement already satisfied: scipy>=0.14 in /opt/conda/lib/python3.7/site-packages (from keras) (1.4.1)\n",
      "Requirement already satisfied: h5py in /opt/conda/lib/python3.7/site-packages (from keras) (2.10.0)\n",
      "Requirement already satisfied: six in /opt/conda/lib/python3.7/site-packages (from h5py->keras) (1.15.0)\n"
     ]
    }
   ],
   "source": [
    "! pip install tensorflow\n",
    "! pip install keras\n"
   ]
  },
  {
   "cell_type": "code",
   "execution_count": 2,
   "metadata": {
    "application/vnd.databricks.v1+cell": {
     "inputWidgets": {},
     "nuid": "7987fa5a-bb27-459c-84e0-def49b3f21eb",
     "showTitle": false,
     "title": ""
    }
   },
   "outputs": [],
   "source": [
    "import os\n",
    "import pandas as pd\n",
    "import numpy as np\n",
    "import keras\n",
    "from sklearn.preprocessing import MinMaxScaler\n",
    "# from sklearn.externals import joblib\n",
    "import seaborn as sns\n",
    "sns.set(color_codes = True)\n",
    "import matplotlib.pyplot as plt\n",
    "%matplotlib inline\n",
    "\n",
    "from numpy.random import seed\n",
    "#from tensorflow import set_random_seed\n",
    "import tensorflow as tf\n",
    "#tf.compat.v1.logging.set_verbosity(tf.logging.ERROR)\n",
    "\n",
    "from keras.layers import Input, Dropout, Dense, LSTM, TimeDistributed, RepeatVector\n",
    "from keras.models import Model\n",
    "from keras import regularizers\n",
    "from keras.layers import GaussianNoise"
   ]
  },
  {
   "cell_type": "code",
   "execution_count": 13,
   "metadata": {},
   "outputs": [
    {
     "name": "stdout",
     "output_type": "stream",
     "text": [
      "Requirement already satisfied: awswrangler in /opt/conda/lib/python3.7/site-packages (2.5.0)\n",
      "Requirement already satisfied: redshift-connector~=2.0.0 in /opt/conda/lib/python3.7/site-packages (from awswrangler) (2.0.876)\n",
      "Requirement already satisfied: numpy<1.21.0,>=1.18.0 in /opt/conda/lib/python3.7/site-packages (from awswrangler) (1.19.5)\n",
      "Requirement already satisfied: pandas<1.3.0,>=1.1.0 in /opt/conda/lib/python3.7/site-packages (from awswrangler) (1.2.3)\n",
      "Requirement already satisfied: pymysql<1.1.0,>=0.9.0 in /opt/conda/lib/python3.7/site-packages (from awswrangler) (1.0.2)\n",
      "Requirement already satisfied: boto3<2.0.0,>=1.12.49 in /opt/conda/lib/python3.7/site-packages (from awswrangler) (1.17.15)\n",
      "Requirement already satisfied: botocore<2.0.0,>=1.15.49 in /opt/conda/lib/python3.7/site-packages (from awswrangler) (1.20.15)\n",
      "Requirement already satisfied: pyarrow<3.1.0,>=2.0.0 in /opt/conda/lib/python3.7/site-packages (from awswrangler) (3.0.0)\n",
      "Requirement already satisfied: openpyxl~=3.0.0 in /opt/conda/lib/python3.7/site-packages (from awswrangler) (3.0.3)\n",
      "Requirement already satisfied: pg8000<1.18.0,>=1.16.0 in /opt/conda/lib/python3.7/site-packages (from awswrangler) (1.17.0)\n",
      "Requirement already satisfied: beautifulsoup4<4.8.0,>=4.7.0 in /opt/conda/lib/python3.7/site-packages (from redshift-connector~=2.0.0->awswrangler) (4.7.1)\n",
      "Requirement already satisfied: requests<2.24.0,>=2.23.0 in /opt/conda/lib/python3.7/site-packages (from redshift-connector~=2.0.0->awswrangler) (2.23.0)\n",
      "Requirement already satisfied: pytz<2020.2,>=2020.1 in /opt/conda/lib/python3.7/site-packages (from redshift-connector~=2.0.0->awswrangler) (2020.1)\n",
      "Requirement already satisfied: lxml>=4.6.2 in /opt/conda/lib/python3.7/site-packages (from redshift-connector~=2.0.0->awswrangler) (4.6.2)\n",
      "Requirement already satisfied: scramp<1.3.0,>=1.2.0 in /opt/conda/lib/python3.7/site-packages (from redshift-connector~=2.0.0->awswrangler) (1.2.2)\n",
      "Requirement already satisfied: python-dateutil>=2.7.3 in /opt/conda/lib/python3.7/site-packages (from pandas<1.3.0,>=1.1.0->awswrangler) (2.8.1)\n",
      "Requirement already satisfied: jmespath<1.0.0,>=0.7.1 in /opt/conda/lib/python3.7/site-packages (from boto3<2.0.0,>=1.12.49->awswrangler) (0.10.0)\n",
      "Requirement already satisfied: s3transfer<0.4.0,>=0.3.0 in /opt/conda/lib/python3.7/site-packages (from boto3<2.0.0,>=1.12.49->awswrangler) (0.3.4)\n",
      "Requirement already satisfied: urllib3<1.27,>=1.25.4 in /opt/conda/lib/python3.7/site-packages (from botocore<2.0.0,>=1.15.49->awswrangler) (1.25.8)\n",
      "Requirement already satisfied: et-xmlfile in /opt/conda/lib/python3.7/site-packages (from openpyxl~=3.0.0->awswrangler) (1.0.1)\n",
      "Requirement already satisfied: jdcal in /opt/conda/lib/python3.7/site-packages (from openpyxl~=3.0.0->awswrangler) (1.4.1)\n",
      "Requirement already satisfied: soupsieve>=1.2 in /opt/conda/lib/python3.7/site-packages (from beautifulsoup4<4.8.0,>=4.7.0->redshift-connector~=2.0.0->awswrangler) (1.9.5)\n",
      "Requirement already satisfied: chardet<4,>=3.0.2 in /opt/conda/lib/python3.7/site-packages (from requests<2.24.0,>=2.23.0->redshift-connector~=2.0.0->awswrangler) (3.0.4)\n",
      "Requirement already satisfied: certifi>=2017.4.17 in /opt/conda/lib/python3.7/site-packages (from requests<2.24.0,>=2.23.0->redshift-connector~=2.0.0->awswrangler) (2020.12.5)\n",
      "Requirement already satisfied: idna<3,>=2.5 in /opt/conda/lib/python3.7/site-packages (from requests<2.24.0,>=2.23.0->redshift-connector~=2.0.0->awswrangler) (2.8)\n",
      "Requirement already satisfied: asn1crypto==1.4.0 in /opt/conda/lib/python3.7/site-packages (from scramp<1.3.0,>=1.2.0->redshift-connector~=2.0.0->awswrangler) (1.4.0)\n",
      "Requirement already satisfied: six>=1.5 in /opt/conda/lib/python3.7/site-packages (from python-dateutil>=2.7.3->pandas<1.3.0,>=1.1.0->awswrangler) (1.15.0)\n"
     ]
    }
   ],
   "source": [
    "! pip install awswrangler"
   ]
  },
  {
   "cell_type": "code",
   "execution_count": 14,
   "metadata": {},
   "outputs": [],
   "source": [
    "import awswrangler as wr\n",
    "import pandas as pd\n",
    "from datetime import date"
   ]
  },
  {
   "cell_type": "code",
   "execution_count": 15,
   "metadata": {},
   "outputs": [],
   "source": [
    "folder_dict={'2017':['08','10'],'2018':['11','12']}\n",
    "\n",
    "month_map={'01':'January','02':'February','03':'March','04':\"April\",'05':'May','06':'June','07':'July',\n",
    "           '08':'August','09':'September','10':'October','11':'November','12':'December'}\n",
    "\n",
    "col_names = [\"tagname\",'timestamp','value']\n",
    "\n"
   ]
  },
  {
   "cell_type": "code",
   "execution_count": 16,
   "metadata": {},
   "outputs": [],
   "source": [
    "# index = pd.date_range(start='2018-01-01', end='2020-04-27', periods=10, freq='D')\n",
    "def fetch_data(variable):\n",
    "    \n",
    "    df_var = pd.DataFrame(columns=col_names[2:])\n",
    "    \n",
    "   \n",
    "    \n",
    "    for key,value in folder_dict.items():\n",
    "         \n",
    "        for month in value:\n",
    "            \n",
    "            try:\n",
    "                p = f's3://stmvpdata001/connacher-extract/Algar/{key}/{month}/{variable}_{month_map[month]}{key}.csv'\n",
    "            \n",
    "                df = wr.s3.read_csv(path=p,\n",
    "                                    names=col_names,\n",
    "                                    parse_dates=[\"timestamp\"],\n",
    "                                    low_memory = False # Hint to parse these columns as date instead of strings\n",
    "                                    ).filter(['timestamp','value'])\n",
    "            except:\n",
    "                continue\n",
    "            df['timestamp'] = pd.to_datetime(df['timestamp']) \n",
    "            df = df.set_index('timestamp')\n",
    "            \n",
    "            df['value'] = pd.to_numeric(df['value'], errors='coerce') \n",
    "           \n",
    "            df = df.resample('60Min').agg('mean')\n",
    "            df_var = pd.concat([df_var, df]) \n",
    "\n",
    "\n",
    "    return {variable: df_var}"
   ]
  },
  {
   "cell_type": "code",
   "execution_count": 17,
   "metadata": {},
   "outputs": [],
   "source": [
    "df_dict = {}\n",
    "variables = ['ALGARO.FT52404.SCALED']\n",
    "from multiprocessing.pool import ThreadPool\n",
    "pool=ThreadPool(2)\n",
    "result = pool.map(fetch_data, (variable for variable in variables), 4)"
   ]
  },
  {
   "cell_type": "code",
   "execution_count": 18,
   "metadata": {},
   "outputs": [],
   "source": [
    "for item in result:\n",
    "    df_dict.update(item)"
   ]
  },
  {
   "cell_type": "code",
   "execution_count": 19,
   "metadata": {},
   "outputs": [
    {
     "data": {
      "text/plain": [
       "(2953, 1)"
      ]
     },
     "execution_count": 19,
     "metadata": {},
     "output_type": "execute_result"
    }
   ],
   "source": [
    "df_dict['ALGARO.FT52404.SCALED'].shape"
   ]
  },
  {
   "cell_type": "code",
   "execution_count": 20,
   "metadata": {
    "application/vnd.databricks.v1+cell": {
     "inputWidgets": {},
     "nuid": "f4753082-becd-4b7b-84f0-cb77fb4f746e",
     "showTitle": false,
     "title": ""
    }
   },
   "outputs": [],
   "source": [
    "#'080801.FIT_12803.VALUE','5Min'\n",
    "def anomaly_preprocessing(dataframe, tag, resample_time):\n",
    "    import matplotlib\n",
    "    df_renamed = dataframe.rename(columns = {'_c0': 'tagname', '_c1':'time','_c2': 'flow'}, inplace = False)\n",
    "    df_hist=df_renamed.copy()\n",
    "    df_hist = df_hist.set_index('tagname')   \n",
    "    df_hist = df_hist.replace(\"NULL\", 0)\n",
    "    df_hist['flow'] = df_hist.flow.astype(float)\n",
    "    df_hist['time'] = pd.to_datetime(df_hist.time)\n",
    "    df_hist=df_hist.loc[tag]\n",
    "    df_hist=df_hist.reset_index()\n",
    "    df_hist_tag_removed = df_hist.drop(columns = 'tagname')\n",
    "    df_hist_resampled = df_hist_tag_removed.resample(resample_time, on='time').flow.median()\n",
    "    df_hist_resampled=df_hist_resampled.to_frame()\n",
    "    anomaly_preprocessing.df_hist_resampled=df_hist_resampled.dropna()\n",
    "    fig,ax = plt.subplots(figsize=(20,5))\n",
    "    fig.patch.set_facecolor('xkcd:white')\n",
    "    ax.set_facecolor('xkcd:white')\n",
    "    matplotlib.rc('xtick', labelsize=20) \n",
    "    matplotlib.rc('ytick', labelsize=20)\n",
    "    ax.plot(anomaly_preprocessing.df_hist_resampled)\n",
    "    "
   ]
  },
  {
   "cell_type": "code",
   "execution_count": 21,
   "metadata": {
    "application/vnd.databricks.v1+cell": {
     "inputWidgets": {},
     "nuid": "dddb52b2-e848-4634-a401-0987c7547c45",
     "showTitle": false,
     "title": ""
    }
   },
   "outputs": [],
   "source": [
    "df=df_dict['ALGARO.FT52404.SCALED']"
   ]
  },
  {
   "cell_type": "code",
   "execution_count": null,
   "metadata": {},
   "outputs": [],
   "source": [
    "anomaly_preprocessing(df, '080801.FIT_12803.VALUE', '5Min')"
   ]
  },
  {
   "cell_type": "code",
   "execution_count": 33,
   "metadata": {
    "application/vnd.databricks.v1+cell": {
     "inputWidgets": {},
     "nuid": "2a166f67-e372-44bc-8cd7-80fc6fbcf502",
     "showTitle": false,
     "title": ""
    }
   },
   "outputs": [],
   "source": [
    "def anomaly_detection(dataframe):\n",
    "    anomaly_detection.train = dataframe['2018-11-01 00:00:00': '2018-12-10 23:00:00']\n",
    "    anomaly_detection.test = dataframe['2018-12-11 00:00:00':'2018-12-31 23:00:00']\n",
    "    anomaly_detection.rolling = anomaly_detection.train.rolling(window = 1)\n",
    "    anomaly_detection.rolling_median = anomaly_detection.rolling.median()\n",
    "    print(anomaly_detection.rolling_median)\n",
    "#     anomaly_detection.rolling_median_na_dropped = anomaly_detection.rolling_median.dropna()\n",
    "    anomaly_detection.train_normal = anomaly_detection.rolling_median[np.abs(anomaly_detection.rolling_median.value - anomaly_detection.rolling_median.value.mean()) <= (2*anomaly_detection.rolling_median.value.std())]\n",
    "   "
   ]
  },
  {
   "cell_type": "code",
   "execution_count": 34,
   "metadata": {},
   "outputs": [
    {
     "name": "stdout",
     "output_type": "stream",
     "text": [
      "                          value\n",
      "2018-11-01 06:00:00  115.688891\n",
      "2018-11-01 07:00:00  115.702234\n",
      "2018-11-01 08:00:00  115.907882\n",
      "2018-11-01 09:00:00  115.691070\n",
      "2018-11-01 10:00:00  111.813090\n",
      "...                         ...\n",
      "2018-12-10 19:00:00    0.379509\n",
      "2018-12-10 20:00:00    0.379188\n",
      "2018-12-10 21:00:00   90.477896\n",
      "2018-12-10 22:00:00   94.439169\n",
      "2018-12-10 23:00:00   95.621706\n",
      "\n",
      "[954 rows x 1 columns]\n"
     ]
    }
   ],
   "source": [
    "anomaly_detection(df)  "
   ]
  },
  {
   "cell_type": "code",
   "execution_count": 39,
   "metadata": {
    "application/vnd.databricks.v1+cell": {
     "inputWidgets": {},
     "nuid": "a93976fd-e404-4b42-a78f-c9676ec083e5",
     "showTitle": false,
     "title": ""
    }
   },
   "outputs": [],
   "source": [
    "def modelling_1(time_steps, train_normal):\n",
    "  # normalize the data\n",
    "    from sklearn.preprocessing import StandardScaler\n",
    "    modelling_1.scaler = StandardScaler()\n",
    "    modelling_1.scaler = modelling_1.scaler.fit(anomaly_detection.train_normal[['value']])\n",
    "    train_normal['value'] = modelling_1.scaler.transform(anomaly_detection.train_normal[['value']])\n",
    "    anomaly_detection.test['value'] = modelling_1.scaler.transform(anomaly_detection.test[['value']])\n",
    "    def create_dataset(X, y, time_steps=1):\n",
    "        Xs, ys = [], []\n",
    "        for i in range(len(X) - time_steps):\n",
    "            v = X.iloc[i:(i + time_steps)].values\n",
    "            Xs.append(v)\n",
    "            ys.append(y.iloc[i + time_steps])\n",
    "        return np.array(Xs), np.array(ys)\n",
    "    modelling_1.TIME_STEPS = time_steps \n",
    "    modelling_1.X_train, modelling_1.y_train = create_dataset(\n",
    "    anomaly_detection.train_normal[['value']],\n",
    "    anomaly_detection.train_normal.value,\n",
    "    modelling_1.TIME_STEPS\n",
    "    )\n",
    "\n",
    "    modelling_1.X_test, modelling_1.y_test = create_dataset(\n",
    "    anomaly_detection.test[['value']],\n",
    "    anomaly_detection.test.value,\n",
    "    modelling_1.TIME_STEPS\n",
    "    )\n",
    "\n",
    "    print(modelling_1.X_train.shape)\n",
    "    print(modelling_1.X_test.shape)\n"
   ]
  },
  {
   "cell_type": "code",
   "execution_count": 40,
   "metadata": {},
   "outputs": [
    {
     "name": "stdout",
     "output_type": "stream",
     "text": [
      "(946, 4, 1)\n",
      "(500, 4, 1)\n"
     ]
    },
    {
     "name": "stderr",
     "output_type": "stream",
     "text": [
      "/opt/conda/lib/python3.7/site-packages/ipykernel_launcher.py:6: SettingWithCopyWarning: \n",
      "A value is trying to be set on a copy of a slice from a DataFrame.\n",
      "Try using .loc[row_indexer,col_indexer] = value instead\n",
      "\n",
      "See the caveats in the documentation: https://pandas.pydata.org/pandas-docs/stable/user_guide/indexing.html#returning-a-view-versus-a-copy\n",
      "  \n",
      "/opt/conda/lib/python3.7/site-packages/ipykernel_launcher.py:7: SettingWithCopyWarning: \n",
      "A value is trying to be set on a copy of a slice from a DataFrame.\n",
      "Try using .loc[row_indexer,col_indexer] = value instead\n",
      "\n",
      "See the caveats in the documentation: https://pandas.pydata.org/pandas-docs/stable/user_guide/indexing.html#returning-a-view-versus-a-copy\n",
      "  import sys\n"
     ]
    }
   ],
   "source": [
    "modelling_1(4, anomaly_detection.train_normal)"
   ]
  },
  {
   "cell_type": "code",
   "execution_count": 41,
   "metadata": {
    "application/vnd.databricks.v1+cell": {
     "inputWidgets": {},
     "nuid": "9c3424a0-fc5c-40d4-a09e-5eea053180f5",
     "showTitle": false,
     "title": ""
    }
   },
   "outputs": [
    {
     "name": "stdout",
     "output_type": "stream",
     "text": [
      "Epoch 1/100\n",
      "1/1 [==============================] - 3s 3s/step - loss: 0.7954 - val_loss: 0.7668\n",
      "Epoch 2/100\n",
      "1/1 [==============================] - 0s 54ms/step - loss: 0.7906 - val_loss: 0.7643\n",
      "Epoch 3/100\n",
      "1/1 [==============================] - 0s 51ms/step - loss: 0.7857 - val_loss: 0.7619\n",
      "Epoch 4/100\n",
      "1/1 [==============================] - 0s 51ms/step - loss: 0.7807 - val_loss: 0.7594\n",
      "Epoch 5/100\n",
      "1/1 [==============================] - 0s 52ms/step - loss: 0.7757 - val_loss: 0.7568\n",
      "Epoch 6/100\n",
      "1/1 [==============================] - 0s 54ms/step - loss: 0.7705 - val_loss: 0.7543\n",
      "Epoch 7/100\n",
      "1/1 [==============================] - 0s 52ms/step - loss: 0.7653 - val_loss: 0.7517\n",
      "Epoch 8/100\n",
      "1/1 [==============================] - 0s 54ms/step - loss: 0.7600 - val_loss: 0.7490\n",
      "Epoch 9/100\n",
      "1/1 [==============================] - 0s 57ms/step - loss: 0.7545 - val_loss: 0.7463\n",
      "Epoch 10/100\n",
      "1/1 [==============================] - 0s 58ms/step - loss: 0.7490 - val_loss: 0.7436\n",
      "Epoch 11/100\n",
      "1/1 [==============================] - 0s 54ms/step - loss: 0.7434 - val_loss: 0.7409\n",
      "Epoch 12/100\n",
      "1/1 [==============================] - 0s 55ms/step - loss: 0.7376 - val_loss: 0.7380\n",
      "Epoch 13/100\n",
      "1/1 [==============================] - 0s 51ms/step - loss: 0.7316 - val_loss: 0.7352\n",
      "Epoch 14/100\n",
      "1/1 [==============================] - 0s 52ms/step - loss: 0.7255 - val_loss: 0.7322\n",
      "Epoch 15/100\n",
      "1/1 [==============================] - 0s 52ms/step - loss: 0.7192 - val_loss: 0.7292\n",
      "Epoch 16/100\n",
      "1/1 [==============================] - 0s 57ms/step - loss: 0.7127 - val_loss: 0.7261\n",
      "Epoch 17/100\n",
      "1/1 [==============================] - 0s 52ms/step - loss: 0.7061 - val_loss: 0.7230\n",
      "Epoch 18/100\n",
      "1/1 [==============================] - 0s 51ms/step - loss: 0.6991 - val_loss: 0.7199\n",
      "Epoch 19/100\n",
      "1/1 [==============================] - 0s 50ms/step - loss: 0.6920 - val_loss: 0.7166\n",
      "Epoch 20/100\n",
      "1/1 [==============================] - 0s 51ms/step - loss: 0.6845 - val_loss: 0.7133\n",
      "Epoch 21/100\n",
      "1/1 [==============================] - 0s 57ms/step - loss: 0.6768 - val_loss: 0.7099\n",
      "Epoch 22/100\n",
      "1/1 [==============================] - 0s 52ms/step - loss: 0.6688 - val_loss: 0.7064\n",
      "Epoch 23/100\n",
      "1/1 [==============================] - 0s 51ms/step - loss: 0.6605 - val_loss: 0.7028\n",
      "Epoch 24/100\n",
      "1/1 [==============================] - 0s 54ms/step - loss: 0.6518 - val_loss: 0.6993\n",
      "Epoch 25/100\n",
      "1/1 [==============================] - 0s 51ms/step - loss: 0.6429 - val_loss: 0.6958\n",
      "Epoch 26/100\n",
      "1/1 [==============================] - 0s 55ms/step - loss: 0.6338 - val_loss: 0.6929\n",
      "Epoch 27/100\n",
      "1/1 [==============================] - 0s 59ms/step - loss: 0.6246 - val_loss: 0.6904\n",
      "Epoch 28/100\n",
      "1/1 [==============================] - 0s 54ms/step - loss: 0.6158 - val_loss: 0.6880\n",
      "Epoch 29/100\n",
      "1/1 [==============================] - 0s 54ms/step - loss: 0.6077 - val_loss: 0.6859\n",
      "Epoch 30/100\n",
      "1/1 [==============================] - 0s 52ms/step - loss: 0.6000 - val_loss: 0.6851\n",
      "Epoch 31/100\n",
      "1/1 [==============================] - 0s 55ms/step - loss: 0.5929 - val_loss: 0.6846\n",
      "Epoch 32/100\n",
      "1/1 [==============================] - 0s 57ms/step - loss: 0.5863 - val_loss: 0.6841\n",
      "Epoch 33/100\n",
      "1/1 [==============================] - 0s 56ms/step - loss: 0.5803 - val_loss: 0.6839\n",
      "Epoch 34/100\n",
      "1/1 [==============================] - 0s 57ms/step - loss: 0.5746 - val_loss: 0.6839\n",
      "Epoch 35/100\n",
      "1/1 [==============================] - 0s 53ms/step - loss: 0.5692 - val_loss: 0.6840\n",
      "Epoch 36/100\n",
      "1/1 [==============================] - 0s 51ms/step - loss: 0.5639 - val_loss: 0.6841\n",
      "Epoch 37/100\n",
      "1/1 [==============================] - 0s 53ms/step - loss: 0.5586 - val_loss: 0.6847\n",
      "Epoch 38/100\n",
      "1/1 [==============================] - 0s 52ms/step - loss: 0.5535 - val_loss: 0.6856\n",
      "Epoch 39/100\n",
      "1/1 [==============================] - 0s 54ms/step - loss: 0.5487 - val_loss: 0.6865\n",
      "Epoch 40/100\n",
      "1/1 [==============================] - 0s 55ms/step - loss: 0.5449 - val_loss: 0.6874\n",
      "Epoch 41/100\n",
      "1/1 [==============================] - 0s 54ms/step - loss: 0.5443 - val_loss: 0.6879\n",
      "Epoch 42/100\n",
      "1/1 [==============================] - 0s 60ms/step - loss: 0.5443 - val_loss: 0.6880\n",
      "Epoch 43/100\n",
      "1/1 [==============================] - 0s 60ms/step - loss: 0.5442 - val_loss: 0.6878\n",
      "Epoch 44/100\n",
      "1/1 [==============================] - 0s 58ms/step - loss: 0.5436 - val_loss: 0.6872\n",
      "Epoch 45/100\n",
      "1/1 [==============================] - 0s 55ms/step - loss: 0.5427 - val_loss: 0.6862\n",
      "Epoch 46/100\n",
      "1/1 [==============================] - 0s 57ms/step - loss: 0.5414 - val_loss: 0.6849\n",
      "Epoch 47/100\n",
      "1/1 [==============================] - 0s 55ms/step - loss: 0.5398 - val_loss: 0.6833\n",
      "Epoch 48/100\n",
      "1/1 [==============================] - 0s 59ms/step - loss: 0.5378 - val_loss: 0.6814\n",
      "Epoch 49/100\n",
      "1/1 [==============================] - 0s 57ms/step - loss: 0.5354 - val_loss: 0.6792\n",
      "Epoch 50/100\n",
      "1/1 [==============================] - 0s 57ms/step - loss: 0.5329 - val_loss: 0.6769\n",
      "Epoch 51/100\n",
      "1/1 [==============================] - 0s 57ms/step - loss: 0.5301 - val_loss: 0.6744\n",
      "Epoch 52/100\n",
      "1/1 [==============================] - 0s 56ms/step - loss: 0.5271 - val_loss: 0.6718\n",
      "Epoch 53/100\n",
      "1/1 [==============================] - 0s 61ms/step - loss: 0.5241 - val_loss: 0.6692\n",
      "Epoch 54/100\n",
      "1/1 [==============================] - 0s 65ms/step - loss: 0.5210 - val_loss: 0.6666\n",
      "Epoch 55/100\n",
      "1/1 [==============================] - 0s 55ms/step - loss: 0.5180 - val_loss: 0.6640\n",
      "Epoch 56/100\n",
      "1/1 [==============================] - 0s 56ms/step - loss: 0.5149 - val_loss: 0.6614\n",
      "Epoch 57/100\n",
      "1/1 [==============================] - 0s 52ms/step - loss: 0.5121 - val_loss: 0.6588\n",
      "Epoch 58/100\n",
      "1/1 [==============================] - 0s 55ms/step - loss: 0.5094 - val_loss: 0.6563\n",
      "Epoch 59/100\n",
      "1/1 [==============================] - 0s 57ms/step - loss: 0.5069 - val_loss: 0.6539\n",
      "Epoch 60/100\n",
      "1/1 [==============================] - 0s 53ms/step - loss: 0.5044 - val_loss: 0.6518\n",
      "Epoch 61/100\n",
      "1/1 [==============================] - 0s 51ms/step - loss: 0.5021 - val_loss: 0.6497\n",
      "Epoch 62/100\n",
      "1/1 [==============================] - 0s 55ms/step - loss: 0.4998 - val_loss: 0.6477\n",
      "Epoch 63/100\n",
      "1/1 [==============================] - 0s 53ms/step - loss: 0.4975 - val_loss: 0.6457\n",
      "Epoch 64/100\n",
      "1/1 [==============================] - 0s 56ms/step - loss: 0.4953 - val_loss: 0.6437\n",
      "Epoch 65/100\n",
      "1/1 [==============================] - 0s 56ms/step - loss: 0.4930 - val_loss: 0.6417\n",
      "Epoch 66/100\n",
      "1/1 [==============================] - 0s 54ms/step - loss: 0.4907 - val_loss: 0.6397\n",
      "Epoch 67/100\n",
      "1/1 [==============================] - 0s 53ms/step - loss: 0.4883 - val_loss: 0.6376\n",
      "Epoch 68/100\n",
      "1/1 [==============================] - 0s 53ms/step - loss: 0.4859 - val_loss: 0.6355\n",
      "Epoch 69/100\n",
      "1/1 [==============================] - 0s 53ms/step - loss: 0.4834 - val_loss: 0.6334\n",
      "Epoch 70/100\n",
      "1/1 [==============================] - 0s 56ms/step - loss: 0.4809 - val_loss: 0.6313\n",
      "Epoch 71/100\n",
      "1/1 [==============================] - 0s 58ms/step - loss: 0.4783 - val_loss: 0.6291\n",
      "Epoch 72/100\n",
      "1/1 [==============================] - 0s 57ms/step - loss: 0.4756 - val_loss: 0.6268\n",
      "Epoch 73/100\n",
      "1/1 [==============================] - 0s 59ms/step - loss: 0.4729 - val_loss: 0.6245\n",
      "Epoch 74/100\n",
      "1/1 [==============================] - 0s 54ms/step - loss: 0.4701 - val_loss: 0.6222\n",
      "Epoch 75/100\n",
      "1/1 [==============================] - 0s 54ms/step - loss: 0.4672 - val_loss: 0.6197\n",
      "Epoch 76/100\n",
      "1/1 [==============================] - 0s 58ms/step - loss: 0.4642 - val_loss: 0.6172\n",
      "Epoch 77/100\n",
      "1/1 [==============================] - 0s 58ms/step - loss: 0.4611 - val_loss: 0.6147\n",
      "Epoch 78/100\n",
      "1/1 [==============================] - 0s 55ms/step - loss: 0.4580 - val_loss: 0.6120\n",
      "Epoch 79/100\n",
      "1/1 [==============================] - 0s 53ms/step - loss: 0.4548 - val_loss: 0.6093\n",
      "Epoch 80/100\n",
      "1/1 [==============================] - 0s 53ms/step - loss: 0.4516 - val_loss: 0.6064\n",
      "Epoch 81/100\n",
      "1/1 [==============================] - 0s 55ms/step - loss: 0.4483 - val_loss: 0.6035\n",
      "Epoch 82/100\n",
      "1/1 [==============================] - 0s 57ms/step - loss: 0.4450 - val_loss: 0.6004\n",
      "Epoch 83/100\n",
      "1/1 [==============================] - 0s 56ms/step - loss: 0.4416 - val_loss: 0.5972\n",
      "Epoch 84/100\n",
      "1/1 [==============================] - 0s 59ms/step - loss: 0.4384 - val_loss: 0.5939\n",
      "Epoch 85/100\n",
      "1/1 [==============================] - 0s 56ms/step - loss: 0.4350 - val_loss: 0.5904\n",
      "Epoch 86/100\n",
      "1/1 [==============================] - 0s 59ms/step - loss: 0.4315 - val_loss: 0.5867\n",
      "Epoch 87/100\n",
      "1/1 [==============================] - 0s 56ms/step - loss: 0.4278 - val_loss: 0.5829\n",
      "Epoch 88/100\n",
      "1/1 [==============================] - 0s 57ms/step - loss: 0.4240 - val_loss: 0.5790\n",
      "Epoch 89/100\n",
      "1/1 [==============================] - 0s 55ms/step - loss: 0.4201 - val_loss: 0.5749\n",
      "Epoch 90/100\n",
      "1/1 [==============================] - 0s 54ms/step - loss: 0.4160 - val_loss: 0.5706\n",
      "Epoch 91/100\n",
      "1/1 [==============================] - 0s 56ms/step - loss: 0.4120 - val_loss: 0.5662\n",
      "Epoch 92/100\n",
      "1/1 [==============================] - 0s 55ms/step - loss: 0.4079 - val_loss: 0.5616\n",
      "Epoch 93/100\n",
      "1/1 [==============================] - 0s 53ms/step - loss: 0.4037 - val_loss: 0.5571\n",
      "Epoch 94/100\n",
      "1/1 [==============================] - 0s 58ms/step - loss: 0.3993 - val_loss: 0.5524\n",
      "Epoch 95/100\n",
      "1/1 [==============================] - 0s 54ms/step - loss: 0.3948 - val_loss: 0.5476\n",
      "Epoch 96/100\n",
      "1/1 [==============================] - 0s 54ms/step - loss: 0.3902 - val_loss: 0.5425\n",
      "Epoch 97/100\n",
      "1/1 [==============================] - 0s 54ms/step - loss: 0.3853 - val_loss: 0.5372\n",
      "Epoch 98/100\n",
      "1/1 [==============================] - 0s 53ms/step - loss: 0.3804 - val_loss: 0.5336\n",
      "Epoch 99/100\n",
      "1/1 [==============================] - 0s 52ms/step - loss: 0.3767 - val_loss: 0.5307\n",
      "Epoch 100/100\n",
      "1/1 [==============================] - 0s 50ms/step - loss: 0.3740 - val_loss: 0.5279\n"
     ]
    },
    {
     "data": {
      "image/png": "[encoded data removed]",
      "text/plain": [
       "<Figure size 432x288 with 1 Axes>"
      ]
     },
     "metadata": {
      "needs_background": "light"
     },
     "output_type": "display_data"
    }
   ],
   "source": [
    "def modelling_2():\n",
    "    modelling_2.model = keras.Sequential()\n",
    "    modelling_2.model.add(keras.layers.LSTM(\n",
    "      units=16,\n",
    "      input_shape=(modelling_1.X_train.shape[1], modelling_1.X_train.shape[2])\n",
    "    ))\n",
    "    modelling_2.model.add(keras.layers.RepeatVector(n=modelling_1.X_train.shape[1]))\n",
    "    modelling_2.model.add(keras.layers.LSTM(units=16, return_sequences=True))\n",
    "    modelling_2.model.add(\n",
    "    keras.layers.TimeDistributed(\n",
    "      keras.layers.Dense(units=modelling_1.X_train.shape[2])\n",
    "    )\n",
    "    )\n",
    "\n",
    "    modelling_2.model.compile(loss='mae', optimizer='adam')\n",
    "    #model.fit(X_train, X_train, epochs=100, batch_size=6000, verbose=1, validation_data=(X_test, y_test))\n",
    "    history = modelling_2.model.fit(\n",
    "      modelling_1.X_train, modelling_1.X_train,\n",
    "      epochs=100,\n",
    "      batch_size=1024,\n",
    "      validation_split=0.1,\n",
    "      shuffle=False\n",
    "    )\n",
    "    plt.plot(history.history['loss'], label='train')\n",
    "    plt.plot(history.history['val_loss'], label='test')\n",
    "    plt.legend()\n",
    "modelling_2()"
   ]
  },
  {
   "cell_type": "code",
   "execution_count": 42,
   "metadata": {
    "application/vnd.databricks.v1+cell": {
     "inputWidgets": {},
     "nuid": "9169d8fd-2618-4463-ae04-f33916ced395",
     "showTitle": false,
     "title": ""
    }
   },
   "outputs": [
    {
     "data": {
      "image/png": "[encoded data removed]",
      "text/plain": [
       "<Figure size 432x288 with 1 Axes>"
      ]
     },
     "metadata": {
      "needs_background": "light"
     },
     "output_type": "display_data"
    }
   ],
   "source": [
    "def modelling_3():\n",
    "    modelling_3.X_train_pred = modelling_2.model.predict(modelling_1.X_train)\n",
    "    modelling_3.train_mae_loss = np.mean(np.abs(modelling_3.X_train_pred - modelling_1.X_train), axis=1)\n",
    "    sns.distplot(modelling_3.train_mae_loss, bins=50, kde=True);\n",
    "modelling_3()"
   ]
  },
  {
   "cell_type": "code",
   "execution_count": 43,
   "metadata": {
    "application/vnd.databricks.v1+cell": {
     "inputWidgets": {},
     "nuid": "2a59c124-02a7-46b7-8253-d6933add0a3c",
     "showTitle": false,
     "title": ""
    }
   },
   "outputs": [],
   "source": [
    "def modelling_4(threshold):  \n",
    "    modelling_4.X_test_pred = modelling_2.model.predict(modelling_1.X_test)\n",
    "    modelling_4.test_mae_loss = np.mean(np.abs(modelling_4.X_test_pred - modelling_1.X_test), axis=1)\n",
    "    modelling_4.THRESHOLD = threshold\n",
    "\n",
    "    modelling_4.test_score_df = pd.DataFrame(index=anomaly_detection.test[modelling_1.TIME_STEPS:].index)\n",
    "    modelling_4.test_score_df['loss'] = modelling_4.test_mae_loss\n",
    "    modelling_4.test_score_df['threshold'] = threshold\n",
    "    modelling_4.test_score_df['anomaly'] = modelling_4.test_score_df.loss > modelling_4.test_score_df.threshold\n",
    "    modelling_4.test_score_df['value'] = anomaly_detection.test[modelling_1.TIME_STEPS:].value\n",
    "    plt.plot(modelling_4.test_score_df.index, modelling_4.test_score_df.loss, label='loss')\n",
    "    plt.plot(modelling_4.test_score_df.index, modelling_4.test_score_df.threshold, label='threshold')\n",
    "    plt.xticks(rotation=25)\n",
    "    plt.legend();\n"
   ]
  },
  {
   "cell_type": "code",
   "execution_count": 44,
   "metadata": {},
   "outputs": [
    {
     "data": {
      "image/png": "[encoded data removed]",
      "text/plain": [
       "<Figure size 432x288 with 1 Axes>"
      ]
     },
     "metadata": {
      "needs_background": "light"
     },
     "output_type": "display_data"
    }
   ],
   "source": [
    "modelling_4(0.8)"
   ]
  },
  {
   "cell_type": "code",
   "execution_count": 47,
   "metadata": {
    "application/vnd.databricks.v1+cell": {
     "inputWidgets": {},
     "nuid": "b6011fa1-9874-4ea3-a9ed-2eec377edf21",
     "showTitle": false,
     "title": ""
    }
   },
   "outputs": [],
   "source": [
    "def plot_anomaly(tag,TIME_STEPS):\n",
    "    plot_anomaly.anomalies = modelling_4.test_score_df[modelling_4.test_score_df.anomaly == True]\n",
    "    plt.plot(\n",
    "    anomaly_detection.test[modelling_1.TIME_STEPS:].index, \n",
    "    modelling_1.scaler.inverse_transform(anomaly_detection.test[modelling_1.TIME_STEPS:].value), \n",
    "    label=tag\n",
    "    );\n",
    "    sns.scatterplot(\n",
    "    plot_anomaly.anomalies.index,\n",
    "    modelling_1.scaler.inverse_transform(plot_anomaly.anomalies.value),\n",
    "    color=sns.color_palette()[3],\n",
    "    s=52,\n",
    "    label='anomaly'\n",
    "    )\n",
    "    plt.xticks(rotation=25)\n",
    "    plt.legend()"
   ]
  },
  {
   "cell_type": "code",
   "execution_count": 48,
   "metadata": {},
   "outputs": [
    {
     "data": {
      "image/png": "[encoded data removed]",
      "text/plain": [
       "<Figure size 432x288 with 1 Axes>"
      ]
     },
     "metadata": {
      "needs_background": "light"
     },
     "output_type": "display_data"
    }
   ],
   "source": [
    "plot_anomaly('hey',modelling_1.TIME_STEPS)"
   ]
  },
  {
   "cell_type": "code",
   "execution_count": null,
   "metadata": {
    "application/vnd.databricks.v1+cell": {
     "inputWidgets": {},
     "nuid": "d989a968-dc56-47d1-bc82-86bafe1fcbc4",
     "showTitle": false,
     "title": ""
    }
   },
   "outputs": [],
   "source": []
  }
 ],
 "metadata": {
  "application/vnd.databricks.v1+notebook": {
   "dashboards": [],
   "language": "python",
   "notebookName": "Anomaly_eda",
   "notebookOrigID": 3454778432875926,
   "widgets": {}
  },
  "instance_type": "ml.t3.medium",
  "kernelspec": {
   "display_name": "Python 3 (Data Science)",
   "language": "python",
   "name": "python3__SAGEMAKER_INTERNAL__arn:aws:sagemaker:us-west-2:236514542706:image/datascience-1.0"
  },
  "language_info": {
   "codemirror_mode": {
    "name": "ipython",
    "version": 3
   },
   "file_extension": ".py",
   "mimetype": "text/x-python",
   "name": "python",
   "nbconvert_exporter": "python",
   "pygments_lexer": "ipython3",
   "version": "3.7.10"
  }
 },
 "nbformat": 4,
 "nbformat_minor": 4
}
