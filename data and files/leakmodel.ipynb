{
 "cells": [
  {
   "cell_type": "code",
   "execution_count": 1,
   "metadata": {},
   "outputs": [],
   "source": [
    "import pandas as pd\n",
    "import numpy as np"
   ]
  },
  {
   "cell_type": "code",
   "execution_count": 2,
   "metadata": {},
   "outputs": [
    {
     "ename": "ModuleNotFoundError",
     "evalue": "No module named 'wntr'",
     "output_type": "error",
     "traceback": [
      "\u001b[0;31m---------------------------------------------------------------------------\u001b[0m",
      "\u001b[0;31mModuleNotFoundError\u001b[0m                       Traceback (most recent call last)",
      "\u001b[0;32m<ipython-input-2-e8830d14604d>\u001b[0m in \u001b[0;36m<module>\u001b[0;34m\u001b[0m\n\u001b[0;32m----> 1\u001b[0;31m \u001b[0;32mimport\u001b[0m \u001b[0mwntr\u001b[0m\u001b[0;34m\u001b[0m\u001b[0;34m\u001b[0m\u001b[0m\n\u001b[0m",
      "\u001b[0;31mModuleNotFoundError\u001b[0m: No module named 'wntr'"
     ]
    }
   ],
   "source": [
    "import wntr"
   ]
  },
  {
   "cell_type": "code",
   "execution_count": 22,
   "metadata": {},
   "outputs": [
    {
     "data": {
      "image/png": "[encoded data removed]",
      "text/plain": [
       "<Figure size 432x288 with 1 Axes>"
      ]
     },
     "metadata": {},
     "output_type": "display_data"
    }
   ],
   "source": [
    "wnt1 = wntr.network.WaterNetworkModel('wnt2.inp') \n",
    "nodes, edges = wntr.graphics.plot_network(wnt1, node_labels=True)"
   ]
  },
  {
   "cell_type": "code",
   "execution_count": 40,
   "metadata": {},
   "outputs": [
    {
     "data": {
      "image/png": "[encoded data removed]",
      "text/plain": [
       "<Figure size 432x288 with 1 Axes>"
      ]
     },
     "metadata": {},
     "output_type": "display_data"
    }
   ],
   "source": [
    "wnt2 = wntr.network.WaterNetworkModel('wnt3test1.inp') \n",
    "nodes, edges = wntr.graphics.plot_network(wnt2, node_labels=True)"
   ]
  },
  {
   "cell_type": "code",
   "execution_count": 24,
   "metadata": {},
   "outputs": [
    {
     "data": {
      "image/png": "[encoded data removed]",
      "text/plain": [
       "<Figure size 432x288 with 1 Axes>"
      ]
     },
     "metadata": {},
     "output_type": "display_data"
    }
   ],
   "source": [
    "wnt3 = wntr.network.WaterNetworkModel('wnt3test2.inp') \n",
    "nodes, edges = wntr.graphics.plot_network(wnt3, node_labels=True)"
   ]
  },
  {
   "cell_type": "code",
   "execution_count": 1,
   "metadata": {
    "collapsed": true,
    "jupyter": {
     "outputs_hidden": true
    }
   },
   "outputs": [
    {
     "name": "stdout",
     "output_type": "stream",
     "text": [
      "/opt/conda/lib/python3.7/site-packages/secretstorage/dhcrypto.py:16: CryptographyDeprecationWarning: int_from_bytes is deprecated, use int.from_bytes instead\n",
      "  from cryptography.utils import int_from_bytes\n",
      "/opt/conda/lib/python3.7/site-packages/secretstorage/util.py:25: CryptographyDeprecationWarning: int_from_bytes is deprecated, use int.from_bytes instead\n",
      "  from cryptography.utils import int_from_bytes\n",
      "Collecting awswrangler\n",
      "  Using cached awswrangler-2.8.0-py3-none-any.whl (179 kB)\n",
      "Collecting pymysql<1.1.0,>=0.9.0\n",
      "  Using cached PyMySQL-1.0.2-py3-none-any.whl (43 kB)\n",
      "Requirement already satisfied: boto3<2.0.0,>=1.12.49 in /opt/conda/lib/python3.7/site-packages (from awswrangler) (1.17.70)\n",
      "Requirement already satisfied: numpy<1.21.0,>=1.18.0 in /opt/conda/lib/python3.7/site-packages (from awswrangler) (1.20.3)\n",
      "Requirement already satisfied: openpyxl~=3.0.0 in /opt/conda/lib/python3.7/site-packages (from awswrangler) (3.0.3)\n",
      "Requirement already satisfied: botocore<2.0.0,>=1.15.49 in /opt/conda/lib/python3.7/site-packages (from awswrangler) (1.20.70)\n",
      "Collecting pandas<1.3.0,>=1.1.0\n",
      "  Using cached pandas-1.2.4-cp37-cp37m-manylinux1_x86_64.whl (9.9 MB)\n",
      "Collecting redshift-connector~=2.0.0\n",
      "  Using cached redshift_connector-2.0.881-py3-none-any.whl (91 kB)\n",
      "Collecting pg8000<1.20.0,>=1.16.0\n",
      "  Using cached pg8000-1.19.5-py3-none-any.whl (34 kB)\n",
      "Requirement already satisfied: pyarrow<4.1.0,>=2.0.0 in /opt/conda/lib/python3.7/site-packages (from awswrangler) (4.0.0)\n",
      "Requirement already satisfied: s3transfer<0.5.0,>=0.4.0 in /opt/conda/lib/python3.7/site-packages (from boto3<2.0.0,>=1.12.49->awswrangler) (0.4.2)\n",
      "Requirement already satisfied: jmespath<1.0.0,>=0.7.1 in /opt/conda/lib/python3.7/site-packages (from boto3<2.0.0,>=1.12.49->awswrangler) (0.10.0)\n",
      "Requirement already satisfied: urllib3<1.27,>=1.25.4 in /opt/conda/lib/python3.7/site-packages (from botocore<2.0.0,>=1.15.49->awswrangler) (1.26.4)\n",
      "Requirement already satisfied: python-dateutil<3.0.0,>=2.1 in /opt/conda/lib/python3.7/site-packages (from botocore<2.0.0,>=1.15.49->awswrangler) (2.8.1)\n",
      "Requirement already satisfied: jdcal in /opt/conda/lib/python3.7/site-packages (from openpyxl~=3.0.0->awswrangler) (1.4.1)\n",
      "Requirement already satisfied: et-xmlfile in /opt/conda/lib/python3.7/site-packages (from openpyxl~=3.0.0->awswrangler) (1.0.1)\n",
      "Requirement already satisfied: pytz>=2017.3 in /opt/conda/lib/python3.7/site-packages (from pandas<1.3.0,>=1.1.0->awswrangler) (2019.3)\n",
      "Collecting scramp==1.4.0\n",
      "  Using cached scramp-1.4.0-py3-none-any.whl (8.4 kB)\n",
      "Collecting asn1crypto==1.4.0\n",
      "  Using cached asn1crypto-1.4.0-py2.py3-none-any.whl (104 kB)\n",
      "Requirement already satisfied: six>=1.5 in /opt/conda/lib/python3.7/site-packages (from python-dateutil<3.0.0,>=2.1->botocore<2.0.0,>=1.15.49->awswrangler) (1.14.0)\n",
      "Requirement already satisfied: lxml>=4.6.2 in /opt/conda/lib/python3.7/site-packages (from redshift-connector~=2.0.0->awswrangler) (4.6.3)\n",
      "Requirement already satisfied: requests<2.25.2,>=2.23.0 in /opt/conda/lib/python3.7/site-packages (from redshift-connector~=2.0.0->awswrangler) (2.25.1)\n",
      "Requirement already satisfied: beautifulsoup4<5.0.0,>=4.7.0 in /opt/conda/lib/python3.7/site-packages (from redshift-connector~=2.0.0->awswrangler) (4.8.2)\n",
      "Collecting pytz>=2017.3\n",
      "  Using cached pytz-2021.1-py2.py3-none-any.whl (510 kB)\n",
      "Requirement already satisfied: soupsieve>=1.2 in /opt/conda/lib/python3.7/site-packages (from beautifulsoup4<5.0.0,>=4.7.0->redshift-connector~=2.0.0->awswrangler) (1.9.5)\n",
      "Requirement already satisfied: certifi>=2017.4.17 in /opt/conda/lib/python3.7/site-packages (from requests<2.25.2,>=2.23.0->redshift-connector~=2.0.0->awswrangler) (2020.12.5)\n",
      "Requirement already satisfied: idna<3,>=2.5 in /opt/conda/lib/python3.7/site-packages (from requests<2.25.2,>=2.23.0->redshift-connector~=2.0.0->awswrangler) (2.8)\n",
      "Requirement already satisfied: chardet<5,>=3.0.2 in /opt/conda/lib/python3.7/site-packages (from requests<2.25.2,>=2.23.0->redshift-connector~=2.0.0->awswrangler) (3.0.4)\n",
      "Installing collected packages: asn1crypto, scramp, pytz, redshift-connector, pymysql, pg8000, pandas, awswrangler\n",
      "  Attempting uninstall: asn1crypto\n",
      "    Found existing installation: asn1crypto 1.3.0\n",
      "    Uninstalling asn1crypto-1.3.0:\n",
      "      Successfully uninstalled asn1crypto-1.3.0\n",
      "  Attempting uninstall: pytz\n",
      "    Found existing installation: pytz 2019.3\n",
      "    Uninstalling pytz-2019.3:\n",
      "      Successfully uninstalled pytz-2019.3\n",
      "  Attempting uninstall: pandas\n",
      "    Found existing installation: pandas 1.0.1\n",
      "    Uninstalling pandas-1.0.1:\n",
      "      Successfully uninstalled pandas-1.0.1\n",
      "Successfully installed asn1crypto-1.4.0 awswrangler-2.8.0 pandas-1.2.4 pg8000-1.19.5 pymysql-1.0.2 pytz-2021.1 redshift-connector-2.0.881 scramp-1.4.0\n",
      "\u001b[33mWARNING: Running pip as root will break packages and permissions. You should install packages reliably by using venv: https://pip.pypa.io/warnings/venv\u001b[0m\n",
      "\u001b[33mWARNING: You are using pip version 21.1.1; however, version 21.1.2 is available.\n",
      "You should consider upgrading via the '/opt/conda/bin/python -m pip install --upgrade pip' command.\u001b[0m\n"
     ]
    }
   ],
   "source": [
    "! pip install awswrangler"
   ]
  },
  {
   "cell_type": "code",
   "execution_count": null,
   "metadata": {},
   "outputs": [],
   "source": [
    "'s3://cactus-leakdata-s3/Test_Data/"
   ]
  },
  {
   "cell_type": "code",
   "execution_count": 5,
   "metadata": {},
   "outputs": [],
   "source": [
    "import awswrangler as wr"
   ]
  },
  {
   "cell_type": "code",
   "execution_count": null,
   "metadata": {},
   "outputs": [],
   "source": [
    "p = 's3://cactus-leakdata-s3/Hanoi-Data/pressure.zip'\n",
    "pressure = wr.s3.read_csv(path=p, compression='zip', header=0)"
   ]
  },
  {
   "cell_type": "code",
   "execution_count": null,
   "metadata": {},
   "outputs": [],
   "source": [
    "import boto3\n",
    "import io\n",
    "s3 = boto3.client('s3')\n",
    "obj = s3.get_object(Bucket='cactus-leakdata-s3', Key='key')\n",
    "df = pd.read_csv(io.BytesIO(obj['Body'].read()))"
   ]
  },
  {
   "cell_type": "code",
   "execution_count": 2,
   "metadata": {},
   "outputs": [],
   "source": [
    "pressure = pd.read_csv('pressure.zip', compression='zip', header=0)"
   ]
  },
  {
   "cell_type": "code",
   "execution_count": 4,
   "metadata": {},
   "outputs": [
    {
     "data": {
      "text/html": [
       "<div>\n",
       "<style scoped>\n",
       "    .dataframe tbody tr th:only-of-type {\n",
       "        vertical-align: middle;\n",
       "    }\n",
       "\n",
       "    .dataframe tbody tr th {\n",
       "        vertical-align: top;\n",
       "    }\n",
       "\n",
       "    .dataframe thead th {\n",
       "        text-align: right;\n",
       "    }\n",
       "</style>\n",
       "<table border=\"1\" class=\"dataframe\">\n",
       "  <thead>\n",
       "    <tr style=\"text-align: right;\">\n",
       "      <th></th>\n",
       "      <th>2</th>\n",
       "      <th>3</th>\n",
       "      <th>4</th>\n",
       "      <th>5</th>\n",
       "      <th>6</th>\n",
       "      <th>7</th>\n",
       "      <th>8</th>\n",
       "      <th>9</th>\n",
       "      <th>10</th>\n",
       "      <th>11</th>\n",
       "      <th>...</th>\n",
       "      <th>2t3</th>\n",
       "      <th>2t4</th>\n",
       "      <th>4t5</th>\n",
       "      <th>4t6</th>\n",
       "      <th>2t7</th>\n",
       "      <th>7t8</th>\n",
       "      <th>7t9</th>\n",
       "      <th>3t10</th>\n",
       "      <th>3t11</th>\n",
       "      <th>status</th>\n",
       "    </tr>\n",
       "  </thead>\n",
       "  <tbody>\n",
       "    <tr>\n",
       "      <th>1799</th>\n",
       "      <td>26.66</td>\n",
       "      <td>27.93</td>\n",
       "      <td>16.46</td>\n",
       "      <td>0.01</td>\n",
       "      <td>0.01</td>\n",
       "      <td>16.46</td>\n",
       "      <td>0.01</td>\n",
       "      <td>0.01</td>\n",
       "      <td>27.36</td>\n",
       "      <td>27.52</td>\n",
       "      <td>...</td>\n",
       "      <td>p0</td>\n",
       "      <td>p0</td>\n",
       "      <td>p0</td>\n",
       "      <td>p0</td>\n",
       "      <td>p0</td>\n",
       "      <td>p0</td>\n",
       "      <td>p0</td>\n",
       "      <td>p0</td>\n",
       "      <td>p0</td>\n",
       "      <td>0</td>\n",
       "    </tr>\n",
       "    <tr>\n",
       "      <th>1800</th>\n",
       "      <td>26.63</td>\n",
       "      <td>27.91</td>\n",
       "      <td>16.43</td>\n",
       "      <td>0.01</td>\n",
       "      <td>0.01</td>\n",
       "      <td>16.43</td>\n",
       "      <td>0.01</td>\n",
       "      <td>0.01</td>\n",
       "      <td>27.34</td>\n",
       "      <td>27.49</td>\n",
       "      <td>...</td>\n",
       "      <td>p8</td>\n",
       "      <td>p9</td>\n",
       "      <td>p4</td>\n",
       "      <td>p0</td>\n",
       "      <td>p0</td>\n",
       "      <td>p0</td>\n",
       "      <td>p0</td>\n",
       "      <td>p0</td>\n",
       "      <td>p0</td>\n",
       "      <td>1</td>\n",
       "    </tr>\n",
       "    <tr>\n",
       "      <th>1801</th>\n",
       "      <td>26.63</td>\n",
       "      <td>27.91</td>\n",
       "      <td>16.43</td>\n",
       "      <td>0.01</td>\n",
       "      <td>0.01</td>\n",
       "      <td>16.43</td>\n",
       "      <td>0.01</td>\n",
       "      <td>0.01</td>\n",
       "      <td>27.34</td>\n",
       "      <td>27.49</td>\n",
       "      <td>...</td>\n",
       "      <td>p8</td>\n",
       "      <td>p9</td>\n",
       "      <td>p4</td>\n",
       "      <td>p0</td>\n",
       "      <td>p0</td>\n",
       "      <td>p0</td>\n",
       "      <td>p0</td>\n",
       "      <td>p0</td>\n",
       "      <td>p0</td>\n",
       "      <td>1</td>\n",
       "    </tr>\n",
       "    <tr>\n",
       "      <th>1802</th>\n",
       "      <td>26.65</td>\n",
       "      <td>27.93</td>\n",
       "      <td>16.45</td>\n",
       "      <td>0.01</td>\n",
       "      <td>0.01</td>\n",
       "      <td>16.45</td>\n",
       "      <td>0.01</td>\n",
       "      <td>0.01</td>\n",
       "      <td>27.36</td>\n",
       "      <td>27.52</td>\n",
       "      <td>...</td>\n",
       "      <td>p8</td>\n",
       "      <td>p9</td>\n",
       "      <td>p4</td>\n",
       "      <td>p0</td>\n",
       "      <td>p0</td>\n",
       "      <td>p0</td>\n",
       "      <td>p0</td>\n",
       "      <td>p0</td>\n",
       "      <td>p0</td>\n",
       "      <td>1</td>\n",
       "    </tr>\n",
       "    <tr>\n",
       "      <th>1803</th>\n",
       "      <td>26.65</td>\n",
       "      <td>27.93</td>\n",
       "      <td>16.45</td>\n",
       "      <td>0.01</td>\n",
       "      <td>0.01</td>\n",
       "      <td>16.45</td>\n",
       "      <td>0.01</td>\n",
       "      <td>0.01</td>\n",
       "      <td>27.36</td>\n",
       "      <td>27.52</td>\n",
       "      <td>...</td>\n",
       "      <td>p8</td>\n",
       "      <td>p9</td>\n",
       "      <td>p4</td>\n",
       "      <td>p0</td>\n",
       "      <td>p0</td>\n",
       "      <td>p0</td>\n",
       "      <td>p0</td>\n",
       "      <td>p0</td>\n",
       "      <td>p0</td>\n",
       "      <td>1</td>\n",
       "    </tr>\n",
       "    <tr>\n",
       "      <th>...</th>\n",
       "      <td>...</td>\n",
       "      <td>...</td>\n",
       "      <td>...</td>\n",
       "      <td>...</td>\n",
       "      <td>...</td>\n",
       "      <td>...</td>\n",
       "      <td>...</td>\n",
       "      <td>...</td>\n",
       "      <td>...</td>\n",
       "      <td>...</td>\n",
       "      <td>...</td>\n",
       "      <td>...</td>\n",
       "      <td>...</td>\n",
       "      <td>...</td>\n",
       "      <td>...</td>\n",
       "      <td>...</td>\n",
       "      <td>...</td>\n",
       "      <td>...</td>\n",
       "      <td>...</td>\n",
       "      <td>...</td>\n",
       "      <td>...</td>\n",
       "    </tr>\n",
       "    <tr>\n",
       "      <th>755995</th>\n",
       "      <td>31.19</td>\n",
       "      <td>35.46</td>\n",
       "      <td>20.99</td>\n",
       "      <td>0.01</td>\n",
       "      <td>0.02</td>\n",
       "      <td>20.99</td>\n",
       "      <td>0.01</td>\n",
       "      <td>0.03</td>\n",
       "      <td>35.40</td>\n",
       "      <td>35.42</td>\n",
       "      <td>...</td>\n",
       "      <td>p0</td>\n",
       "      <td>p0</td>\n",
       "      <td>p0</td>\n",
       "      <td>p0</td>\n",
       "      <td>p0</td>\n",
       "      <td>p6</td>\n",
       "      <td>p8</td>\n",
       "      <td>p10</td>\n",
       "      <td>p7</td>\n",
       "      <td>1</td>\n",
       "    </tr>\n",
       "    <tr>\n",
       "      <th>755996</th>\n",
       "      <td>31.19</td>\n",
       "      <td>35.46</td>\n",
       "      <td>20.99</td>\n",
       "      <td>0.01</td>\n",
       "      <td>0.02</td>\n",
       "      <td>20.99</td>\n",
       "      <td>0.01</td>\n",
       "      <td>0.03</td>\n",
       "      <td>35.40</td>\n",
       "      <td>35.42</td>\n",
       "      <td>...</td>\n",
       "      <td>p0</td>\n",
       "      <td>p0</td>\n",
       "      <td>p0</td>\n",
       "      <td>p0</td>\n",
       "      <td>p0</td>\n",
       "      <td>p6</td>\n",
       "      <td>p8</td>\n",
       "      <td>p10</td>\n",
       "      <td>p7</td>\n",
       "      <td>1</td>\n",
       "    </tr>\n",
       "    <tr>\n",
       "      <th>755997</th>\n",
       "      <td>31.20</td>\n",
       "      <td>35.48</td>\n",
       "      <td>21.00</td>\n",
       "      <td>0.01</td>\n",
       "      <td>0.02</td>\n",
       "      <td>21.00</td>\n",
       "      <td>0.01</td>\n",
       "      <td>0.03</td>\n",
       "      <td>35.41</td>\n",
       "      <td>35.43</td>\n",
       "      <td>...</td>\n",
       "      <td>p0</td>\n",
       "      <td>p0</td>\n",
       "      <td>p0</td>\n",
       "      <td>p0</td>\n",
       "      <td>p0</td>\n",
       "      <td>p6</td>\n",
       "      <td>p8</td>\n",
       "      <td>p10</td>\n",
       "      <td>p7</td>\n",
       "      <td>1</td>\n",
       "    </tr>\n",
       "    <tr>\n",
       "      <th>755998</th>\n",
       "      <td>31.20</td>\n",
       "      <td>35.48</td>\n",
       "      <td>21.00</td>\n",
       "      <td>0.01</td>\n",
       "      <td>0.02</td>\n",
       "      <td>21.00</td>\n",
       "      <td>0.01</td>\n",
       "      <td>0.03</td>\n",
       "      <td>35.41</td>\n",
       "      <td>35.43</td>\n",
       "      <td>...</td>\n",
       "      <td>p0</td>\n",
       "      <td>p0</td>\n",
       "      <td>p0</td>\n",
       "      <td>p0</td>\n",
       "      <td>p0</td>\n",
       "      <td>p6</td>\n",
       "      <td>p8</td>\n",
       "      <td>p10</td>\n",
       "      <td>p7</td>\n",
       "      <td>1</td>\n",
       "    </tr>\n",
       "    <tr>\n",
       "      <th>755999</th>\n",
       "      <td>31.20</td>\n",
       "      <td>35.48</td>\n",
       "      <td>21.00</td>\n",
       "      <td>0.01</td>\n",
       "      <td>0.02</td>\n",
       "      <td>21.00</td>\n",
       "      <td>0.01</td>\n",
       "      <td>0.03</td>\n",
       "      <td>35.41</td>\n",
       "      <td>35.43</td>\n",
       "      <td>...</td>\n",
       "      <td>p0</td>\n",
       "      <td>p0</td>\n",
       "      <td>p0</td>\n",
       "      <td>p0</td>\n",
       "      <td>p0</td>\n",
       "      <td>p6</td>\n",
       "      <td>p8</td>\n",
       "      <td>p10</td>\n",
       "      <td>p7</td>\n",
       "      <td>1</td>\n",
       "    </tr>\n",
       "  </tbody>\n",
       "</table>\n",
       "<p>754201 rows × 22 columns</p>\n",
       "</div>"
      ],
      "text/plain": [
       "            2      3      4     5     6      7     8     9     10     11  ...  \\\n",
       "1799    26.66  27.93  16.46  0.01  0.01  16.46  0.01  0.01  27.36  27.52  ...   \n",
       "1800    26.63  27.91  16.43  0.01  0.01  16.43  0.01  0.01  27.34  27.49  ...   \n",
       "1801    26.63  27.91  16.43  0.01  0.01  16.43  0.01  0.01  27.34  27.49  ...   \n",
       "1802    26.65  27.93  16.45  0.01  0.01  16.45  0.01  0.01  27.36  27.52  ...   \n",
       "1803    26.65  27.93  16.45  0.01  0.01  16.45  0.01  0.01  27.36  27.52  ...   \n",
       "...       ...    ...    ...   ...   ...    ...   ...   ...    ...    ...  ...   \n",
       "755995  31.19  35.46  20.99  0.01  0.02  20.99  0.01  0.03  35.40  35.42  ...   \n",
       "755996  31.19  35.46  20.99  0.01  0.02  20.99  0.01  0.03  35.40  35.42  ...   \n",
       "755997  31.20  35.48  21.00  0.01  0.02  21.00  0.01  0.03  35.41  35.43  ...   \n",
       "755998  31.20  35.48  21.00  0.01  0.02  21.00  0.01  0.03  35.41  35.43  ...   \n",
       "755999  31.20  35.48  21.00  0.01  0.02  21.00  0.01  0.03  35.41  35.43  ...   \n",
       "\n",
       "        2t3 2t4 4t5 4t6 2t7 7t8 7t9 3t10 3t11 status  \n",
       "1799     p0  p0  p0  p0  p0  p0  p0   p0   p0      0  \n",
       "1800     p8  p9  p4  p0  p0  p0  p0   p0   p0      1  \n",
       "1801     p8  p9  p4  p0  p0  p0  p0   p0   p0      1  \n",
       "1802     p8  p9  p4  p0  p0  p0  p0   p0   p0      1  \n",
       "1803     p8  p9  p4  p0  p0  p0  p0   p0   p0      1  \n",
       "...     ...  ..  ..  ..  ..  ..  ..  ...  ...    ...  \n",
       "755995   p0  p0  p0  p0  p0  p6  p8  p10   p7      1  \n",
       "755996   p0  p0  p0  p0  p0  p6  p8  p10   p7      1  \n",
       "755997   p0  p0  p0  p0  p0  p6  p8  p10   p7      1  \n",
       "755998   p0  p0  p0  p0  p0  p6  p8  p10   p7      1  \n",
       "755999   p0  p0  p0  p0  p0  p6  p8  p10   p7      1  \n",
       "\n",
       "[754201 rows x 22 columns]"
      ]
     },
     "execution_count": 4,
     "metadata": {},
     "output_type": "execute_result"
    }
   ],
   "source": [
    "pressure[1799:]"
   ]
  },
  {
   "cell_type": "code",
   "execution_count": 26,
   "metadata": {},
   "outputs": [],
   "source": [
    "pressure_test1 = pd.read_csv('pressure_test1.zip', compression='zip', header=0) \n",
    "pressure_test2 = pd.read_csv('pressure_test2.zip', compression='zip', header=0) \n",
    "pressure_test3 = pd.read_csv('pressure_test3.zip', compression='zip', header=0) \n",
    "pressure_test4 = pd.read_csv('pressure_test4.zip', compression='zip', header=0)"
   ]
  },
  {
   "cell_type": "code",
   "execution_count": 4,
   "metadata": {},
   "outputs": [],
   "source": [
    "import pywt\n"
   ]
  },
  {
   "cell_type": "code",
   "execution_count": 5,
   "metadata": {},
   "outputs": [
    {
     "data": {
      "text/plain": [
       "['haar',\n",
       " 'db',\n",
       " 'sym',\n",
       " 'coif',\n",
       " 'bior',\n",
       " 'rbio',\n",
       " 'dmey',\n",
       " 'gaus',\n",
       " 'mexh',\n",
       " 'morl',\n",
       " 'cgau',\n",
       " 'shan',\n",
       " 'fbsp',\n",
       " 'cmor']"
      ]
     },
     "execution_count": 5,
     "metadata": {},
     "output_type": "execute_result"
    }
   ],
   "source": [
    "pywt.families()"
   ]
  },
  {
   "cell_type": "code",
   "execution_count": 13,
   "metadata": {},
   "outputs": [
    {
     "data": {
      "text/plain": [
       "0         20.58\n",
       "1         20.58\n",
       "2         20.58\n",
       "3         20.59\n",
       "4         20.59\n",
       "          ...  \n",
       "755995    31.19\n",
       "755996    31.19\n",
       "755997    31.20\n",
       "755998    31.20\n",
       "755999    31.20\n",
       "Name: 2, Length: 756000, dtype: float64"
      ]
     },
     "execution_count": 13,
     "metadata": {},
     "output_type": "execute_result"
    }
   ],
   "source": [
    "pressure['2']"
   ]
  },
  {
   "cell_type": "code",
   "execution_count": 5,
   "metadata": {},
   "outputs": [],
   "source": [
    "(cA, cD) = pywt.dwt(pressure['9'], 'haar')"
   ]
  },
  {
   "cell_type": "code",
   "execution_count": 12,
   "metadata": {},
   "outputs": [
    {
     "data": {
      "text/plain": [
       "(378000,)"
      ]
     },
     "execution_count": 12,
     "metadata": {},
     "output_type": "execute_result"
    }
   ],
   "source": [
    "cD.shape"
   ]
  },
  {
   "cell_type": "code",
   "execution_count": 11,
   "metadata": {},
   "outputs": [
    {
     "data": {
      "text/plain": [
       "(378000,)"
      ]
     },
     "execution_count": 11,
     "metadata": {},
     "output_type": "execute_result"
    }
   ],
   "source": [
    "cA.shape"
   ]
  },
  {
   "cell_type": "code",
   "execution_count": 14,
   "metadata": {},
   "outputs": [
    {
     "data": {
      "text/plain": [
       "<matplotlib.axes._subplots.AxesSubplot at 0x7f4fa28bfe90>"
      ]
     },
     "execution_count": 14,
     "metadata": {},
     "output_type": "execute_result"
    },
    {
     "data": {
      "image/png": "[encoded data removed]",
      "text/plain": [
       "<Figure size 432x288 with 1 Axes>"
      ]
     },
     "metadata": {
      "needs_background": "light"
     },
     "output_type": "display_data"
    }
   ],
   "source": [
    "pressure['9'].plot()"
   ]
  },
  {
   "cell_type": "code",
   "execution_count": 20,
   "metadata": {},
   "outputs": [
    {
     "data": {
      "text/plain": [
       "[<matplotlib.lines.Line2D at 0x7f4f9ea5dd50>]"
      ]
     },
     "execution_count": 20,
     "metadata": {},
     "output_type": "execute_result"
    },
    {
     "data": {
      "image/png": "[encoded data removed]",
      "text/plain": [
       "<Figure size 432x288 with 1 Axes>"
      ]
     },
     "metadata": {
      "needs_background": "light"
     },
     "output_type": "display_data"
    }
   ],
   "source": [
    "import matplotlib.pyplot as plt\n",
    "plt.plot(cA)"
   ]
  },
  {
   "cell_type": "code",
   "execution_count": 29,
   "metadata": {},
   "outputs": [
    {
     "data": {
      "text/plain": [
       "(378000,)"
      ]
     },
     "execution_count": 29,
     "metadata": {},
     "output_type": "execute_result"
    }
   ],
   "source": [
    "cA.shape"
   ]
  },
  {
   "cell_type": "code",
   "execution_count": 19,
   "metadata": {},
   "outputs": [
    {
     "data": {
      "text/plain": [
       "tuple"
      ]
     },
     "execution_count": 19,
     "metadata": {},
     "output_type": "execute_result"
    }
   ],
   "source": [
    "type(cA.shape)"
   ]
  },
  {
   "cell_type": "code",
   "execution_count": 26,
   "metadata": {},
   "outputs": [],
   "source": [
    "m = int(cA.shape[0])*2\n",
    "out = np.zeros(m,dtype=cA.dtype)\n",
    "out[1::2] = cA"
   ]
  },
  {
   "cell_type": "code",
   "execution_count": 28,
   "metadata": {},
   "outputs": [
    {
     "data": {
      "text/plain": [
       "(756000,)"
      ]
     },
     "execution_count": 28,
     "metadata": {},
     "output_type": "execute_result"
    }
   ],
   "source": [
    "out.shape"
   ]
  },
  {
   "cell_type": "code",
   "execution_count": 25,
   "metadata": {},
   "outputs": [
    {
     "data": {
      "text/plain": [
       "array([0.01414214, 0.01414214, 0.01414214, ..., 0.04242641, 0.04242641,\n",
       "       0.04242641])"
      ]
     },
     "execution_count": 25,
     "metadata": {},
     "output_type": "execute_result"
    }
   ],
   "source": [
    "cA"
   ]
  },
  {
   "cell_type": "code",
   "execution_count": 27,
   "metadata": {},
   "outputs": [
    {
     "data": {
      "text/plain": [
       "array([0.        , 0.01414214, 0.        , ..., 0.04242641, 0.        ,\n",
       "       0.04242641])"
      ]
     },
     "execution_count": 27,
     "metadata": {},
     "output_type": "execute_result"
    }
   ],
   "source": [
    "out"
   ]
  },
  {
   "cell_type": "code",
   "execution_count": 6,
   "metadata": {},
   "outputs": [
    {
     "ename": "AxisError",
     "evalue": "axis 1 is out of bounds for array of dimension 1",
     "output_type": "error",
     "traceback": [
      "\u001b[0;31m---------------------------------------------------------------------------\u001b[0m",
      "\u001b[0;31mAxisError\u001b[0m                                 Traceback (most recent call last)",
      "\u001b[0;32m<ipython-input-6-5a13cb204aa7>\u001b[0m in \u001b[0;36m<module>\u001b[0;34m\u001b[0m\n\u001b[0;32m----> 1\u001b[0;31m \u001b[0mnp\u001b[0m\u001b[0;34m.\u001b[0m\u001b[0minsert\u001b[0m\u001b[0;34m(\u001b[0m\u001b[0mcA\u001b[0m\u001b[0;34m,\u001b[0m \u001b[0;34m[\u001b[0m\u001b[0;36m1\u001b[0m\u001b[0;34m,\u001b[0m\u001b[0;36m2\u001b[0m\u001b[0;34m,\u001b[0m\u001b[0;36m3\u001b[0m\u001b[0;34m]\u001b[0m\u001b[0;34m,\u001b[0m \u001b[0;36m0\u001b[0m\u001b[0;34m,\u001b[0m \u001b[0maxis\u001b[0m\u001b[0;34m=\u001b[0m\u001b[0;36m1\u001b[0m\u001b[0;34m)\u001b[0m\u001b[0;34m\u001b[0m\u001b[0;34m\u001b[0m\u001b[0m\n\u001b[0m",
      "\u001b[0;32m<__array_function__ internals>\u001b[0m in \u001b[0;36minsert\u001b[0;34m(*args, **kwargs)\u001b[0m\n",
      "\u001b[0;32m/opt/conda/lib/python3.7/site-packages/numpy/lib/function_base.py\u001b[0m in \u001b[0;36minsert\u001b[0;34m(arr, obj, values, axis)\u001b[0m\n\u001b[1;32m   4599\u001b[0m         \u001b[0maxis\u001b[0m \u001b[0;34m=\u001b[0m \u001b[0mndim\u001b[0m \u001b[0;34m-\u001b[0m \u001b[0;36m1\u001b[0m\u001b[0;34m\u001b[0m\u001b[0;34m\u001b[0m\u001b[0m\n\u001b[1;32m   4600\u001b[0m     \u001b[0;32melse\u001b[0m\u001b[0;34m:\u001b[0m\u001b[0;34m\u001b[0m\u001b[0;34m\u001b[0m\u001b[0m\n\u001b[0;32m-> 4601\u001b[0;31m         \u001b[0maxis\u001b[0m \u001b[0;34m=\u001b[0m \u001b[0mnormalize_axis_index\u001b[0m\u001b[0;34m(\u001b[0m\u001b[0maxis\u001b[0m\u001b[0;34m,\u001b[0m \u001b[0mndim\u001b[0m\u001b[0;34m)\u001b[0m\u001b[0;34m\u001b[0m\u001b[0;34m\u001b[0m\u001b[0m\n\u001b[0m\u001b[1;32m   4602\u001b[0m     \u001b[0mslobj\u001b[0m \u001b[0;34m=\u001b[0m \u001b[0;34m[\u001b[0m\u001b[0mslice\u001b[0m\u001b[0;34m(\u001b[0m\u001b[0;32mNone\u001b[0m\u001b[0;34m)\u001b[0m\u001b[0;34m]\u001b[0m\u001b[0;34m*\u001b[0m\u001b[0mndim\u001b[0m\u001b[0;34m\u001b[0m\u001b[0;34m\u001b[0m\u001b[0m\n\u001b[1;32m   4603\u001b[0m     \u001b[0mN\u001b[0m \u001b[0;34m=\u001b[0m \u001b[0marr\u001b[0m\u001b[0;34m.\u001b[0m\u001b[0mshape\u001b[0m\u001b[0;34m[\u001b[0m\u001b[0maxis\u001b[0m\u001b[0;34m]\u001b[0m\u001b[0;34m\u001b[0m\u001b[0;34m\u001b[0m\u001b[0m\n",
      "\u001b[0;31mAxisError\u001b[0m: axis 1 is out of bounds for array of dimension 1"
     ]
    }
   ],
   "source": [
    "num = []\n",
    "for value in cA:\n",
    "    if "
   ]
  },
  {
   "cell_type": "code",
   "execution_count": 27,
   "metadata": {},
   "outputs": [
    {
     "ename": "ValueError",
     "evalue": "cannot reshape array of size 756002 into shape (6)",
     "output_type": "error",
     "traceback": [
      "\u001b[0;31m---------------------------------------------------------------------------\u001b[0m",
      "\u001b[0;31mValueError\u001b[0m                                Traceback (most recent call last)",
      "\u001b[0;32m<ipython-input-27-aa2b6446a90c>\u001b[0m in \u001b[0;36m<module>\u001b[0;34m\u001b[0m\n\u001b[1;32m      1\u001b[0m \u001b[0my\u001b[0m \u001b[0;34m=\u001b[0m \u001b[0mnp\u001b[0m\u001b[0;34m.\u001b[0m\u001b[0mexpand_dims\u001b[0m\u001b[0;34m(\u001b[0m\u001b[0mcA\u001b[0m\u001b[0;34m,\u001b[0m\u001b[0;34m-\u001b[0m\u001b[0;36m1\u001b[0m\u001b[0;34m)\u001b[0m\u001b[0;34m\u001b[0m\u001b[0;34m\u001b[0m\u001b[0m\n\u001b[1;32m      2\u001b[0m \u001b[0mz\u001b[0m \u001b[0;34m=\u001b[0m \u001b[0mnp\u001b[0m\u001b[0;34m.\u001b[0m\u001b[0mpad\u001b[0m\u001b[0;34m(\u001b[0m\u001b[0my\u001b[0m\u001b[0;34m,\u001b[0m \u001b[0;34m(\u001b[0m\u001b[0;36m0\u001b[0m\u001b[0;34m,\u001b[0m\u001b[0;36m1\u001b[0m\u001b[0;34m)\u001b[0m\u001b[0;34m,\u001b[0m \u001b[0;34m'constant'\u001b[0m\u001b[0;34m,\u001b[0m \u001b[0mconstant_values\u001b[0m\u001b[0;34m=\u001b[0m\u001b[0;36m0\u001b[0m\u001b[0;34m)\u001b[0m\u001b[0;34m\u001b[0m\u001b[0;34m\u001b[0m\u001b[0m\n\u001b[0;32m----> 3\u001b[0;31m \u001b[0mres\u001b[0m \u001b[0;34m=\u001b[0m \u001b[0mnp\u001b[0m\u001b[0;34m.\u001b[0m\u001b[0mreshape\u001b[0m\u001b[0;34m(\u001b[0m\u001b[0mz\u001b[0m\u001b[0;34m,\u001b[0m\u001b[0;34m[\u001b[0m\u001b[0;34m-\u001b[0m\u001b[0;36m1\u001b[0m\u001b[0;34m,\u001b[0m\u001b[0;36m2\u001b[0m\u001b[0;34m*\u001b[0m\u001b[0;36m3\u001b[0m\u001b[0;34m]\u001b[0m\u001b[0;34m)\u001b[0m\u001b[0;34m\u001b[0m\u001b[0;34m\u001b[0m\u001b[0m\n\u001b[0m",
      "\u001b[0;32m<__array_function__ internals>\u001b[0m in \u001b[0;36mreshape\u001b[0;34m(*args, **kwargs)\u001b[0m\n",
      "\u001b[0;32m/opt/conda/lib/python3.7/site-packages/numpy/core/fromnumeric.py\u001b[0m in \u001b[0;36mreshape\u001b[0;34m(a, newshape, order)\u001b[0m\n\u001b[1;32m    297\u001b[0m            [5, 6]])\n\u001b[1;32m    298\u001b[0m     \"\"\"\n\u001b[0;32m--> 299\u001b[0;31m     \u001b[0;32mreturn\u001b[0m \u001b[0m_wrapfunc\u001b[0m\u001b[0;34m(\u001b[0m\u001b[0ma\u001b[0m\u001b[0;34m,\u001b[0m \u001b[0;34m'reshape'\u001b[0m\u001b[0;34m,\u001b[0m \u001b[0mnewshape\u001b[0m\u001b[0;34m,\u001b[0m \u001b[0morder\u001b[0m\u001b[0;34m=\u001b[0m\u001b[0morder\u001b[0m\u001b[0;34m)\u001b[0m\u001b[0;34m\u001b[0m\u001b[0;34m\u001b[0m\u001b[0m\n\u001b[0m\u001b[1;32m    300\u001b[0m \u001b[0;34m\u001b[0m\u001b[0m\n\u001b[1;32m    301\u001b[0m \u001b[0;34m\u001b[0m\u001b[0m\n",
      "\u001b[0;32m/opt/conda/lib/python3.7/site-packages/numpy/core/fromnumeric.py\u001b[0m in \u001b[0;36m_wrapfunc\u001b[0;34m(obj, method, *args, **kwds)\u001b[0m\n\u001b[1;32m     56\u001b[0m \u001b[0;34m\u001b[0m\u001b[0m\n\u001b[1;32m     57\u001b[0m     \u001b[0;32mtry\u001b[0m\u001b[0;34m:\u001b[0m\u001b[0;34m\u001b[0m\u001b[0;34m\u001b[0m\u001b[0m\n\u001b[0;32m---> 58\u001b[0;31m         \u001b[0;32mreturn\u001b[0m \u001b[0mbound\u001b[0m\u001b[0;34m(\u001b[0m\u001b[0;34m*\u001b[0m\u001b[0margs\u001b[0m\u001b[0;34m,\u001b[0m \u001b[0;34m**\u001b[0m\u001b[0mkwds\u001b[0m\u001b[0;34m)\u001b[0m\u001b[0;34m\u001b[0m\u001b[0;34m\u001b[0m\u001b[0m\n\u001b[0m\u001b[1;32m     59\u001b[0m     \u001b[0;32mexcept\u001b[0m \u001b[0mTypeError\u001b[0m\u001b[0;34m:\u001b[0m\u001b[0;34m\u001b[0m\u001b[0;34m\u001b[0m\u001b[0m\n\u001b[1;32m     60\u001b[0m         \u001b[0;31m# A TypeError occurs if the object does have such a method in its\u001b[0m\u001b[0;34m\u001b[0m\u001b[0;34m\u001b[0m\u001b[0;34m\u001b[0m\u001b[0m\n",
      "\u001b[0;31mValueError\u001b[0m: cannot reshape array of size 756002 into shape (6)"
     ]
    }
   ],
   "source": [
    "y = np.expand_dims(cA,-1)\n",
    "z = np.pad(y, (0,1), 'constant', constant_values=0)\n",
    "res = np.reshape(z,[-1,2*3])"
   ]
  },
  {
   "cell_type": "code",
   "execution_count": 26,
   "metadata": {},
   "outputs": [
    {
     "data": {
      "text/plain": [
       "(378001, 2)"
      ]
     },
     "execution_count": 26,
     "metadata": {},
     "output_type": "execute_result"
    }
   ],
   "source": [
    "z.shape"
   ]
  },
  {
   "cell_type": "code",
   "execution_count": 12,
   "metadata": {},
   "outputs": [],
   "source": [
    "names = []\n",
    "for i in range(1,11):\n",
    "    names.append('p'+str(i))\n",
    "    "
   ]
  },
  {
   "cell_type": "code",
   "execution_count": 13,
   "metadata": {},
   "outputs": [
    {
     "data": {
      "text/plain": [
       "['p1', 'p2', 'p3', 'p4', 'p5', 'p6', 'p7', 'p8', 'p9', 'p10']"
      ]
     },
     "execution_count": 13,
     "metadata": {},
     "output_type": "execute_result"
    }
   ],
   "source": [
    "names"
   ]
  },
  {
   "cell_type": "code",
   "execution_count": 14,
   "metadata": {},
   "outputs": [],
   "source": [
    "pressure.replace(names, 1, True)\n",
    "pressure.replace('p0', 0, True)"
   ]
  },
  {
   "cell_type": "code",
   "execution_count": 40,
   "metadata": {},
   "outputs": [
    {
     "data": {
      "text/plain": [
       "<matplotlib.axes._subplots.AxesSubplot at 0x7fcac6041b90>"
      ]
     },
     "execution_count": 40,
     "metadata": {},
     "output_type": "execute_result"
    },
    {
     "data": {
      "image/png": "[encoded data removed]",
      "text/plain": [
       "<Figure size 432x288 with 1 Axes>"
      ]
     },
     "metadata": {
      "needs_background": "light"
     },
     "output_type": "display_data"
    }
   ],
   "source": [
    "pressure[:]['1'].plot()"
   ]
  },
  {
   "cell_type": "code",
   "execution_count": 53,
   "metadata": {},
   "outputs": [
    {
     "data": {
      "text/plain": [
       "<matplotlib.axes._subplots.AxesSubplot at 0x7fcac1f45e90>"
      ]
     },
     "execution_count": 53,
     "metadata": {},
     "output_type": "execute_result"
    },
    {
     "data": {
      "image/png": "[encoded data removed]",
      "text/plain": [
       "<Figure size 1080x288 with 1 Axes>"
      ]
     },
     "metadata": {
      "needs_background": "light"
     },
     "output_type": "display_data"
    }
   ],
   "source": [
    "pressure[:][['5','6']].plot(figsize=(15, 4))"
   ]
  },
  {
   "cell_type": "code",
   "execution_count": 52,
   "metadata": {},
   "outputs": [
    {
     "data": {
      "text/plain": [
       "<matplotlib.axes._subplots.AxesSubplot at 0x7fcac3aacfd0>"
      ]
     },
     "execution_count": 52,
     "metadata": {},
     "output_type": "execute_result"
    },
    {
     "data": {
      "image/png": "[encoded data removed]",
      "text/plain": [
       "<Figure size 1080x288 with 1 Axes>"
      ]
     },
     "metadata": {
      "needs_background": "light"
     },
     "output_type": "display_data"
    }
   ],
   "source": [
    "pressure[:][['2','3','4','5','6']].plot(figsize=(15, 4))"
   ]
  },
  {
   "cell_type": "code",
   "execution_count": 5,
   "metadata": {},
   "outputs": [
    {
     "name": "stdout",
     "output_type": "stream",
     "text": [
      "/opt/conda/lib/python3.7/site-packages/secretstorage/dhcrypto.py:16: CryptographyDeprecationWarning: int_from_bytes is deprecated, use int.from_bytes instead\n",
      "  from cryptography.utils import int_from_bytes\n",
      "/opt/conda/lib/python3.7/site-packages/secretstorage/util.py:25: CryptographyDeprecationWarning: int_from_bytes is deprecated, use int.from_bytes instead\n",
      "  from cryptography.utils import int_from_bytes\n",
      "Collecting scikit-multilearn\n",
      "  Using cached scikit_multilearn-0.2.0-py3-none-any.whl (89 kB)\n",
      "Installing collected packages: scikit-multilearn\n",
      "Successfully installed scikit-multilearn-0.2.0\n",
      "\u001b[33mWARNING: Running pip as root will break packages and permissions. You should install packages reliably by using venv: https://pip.pypa.io/warnings/venv\u001b[0m\n"
     ]
    }
   ],
   "source": [
    "!pip install scikit-multilearn"
   ]
  },
  {
   "cell_type": "code",
   "execution_count": 6,
   "metadata": {},
   "outputs": [],
   "source": [
    "from skmultilearn.problem_transform import BinaryRelevance\n",
    "from sklearn.naive_bayes import GaussianNB\n",
    "from sklearn.model_selection import train_test_split\n",
    "from sklearn.svm import SVC\n",
    "from sklearn.ensemble import RandomForestClassifier\n",
    "from sklearn.multioutput import MultiOutputClassifier\n",
    "from sklearn.metrics import f1_score"
   ]
  },
  {
   "cell_type": "code",
   "execution_count": 10,
   "metadata": {},
   "outputs": [
    {
     "data": {
      "text/plain": [
       "Index(['2', '3', '4', '5', '6', '7', '8', '9', '10', '11', '1'], dtype='object')"
      ]
     },
     "execution_count": 10,
     "metadata": {},
     "output_type": "execute_result"
    }
   ],
   "source": [
    "pressure.columns[:11]"
   ]
  },
  {
   "cell_type": "code",
   "execution_count": 15,
   "metadata": {},
   "outputs": [],
   "source": [
    "#Binary  Class\n",
    "X1 = pressure.loc[:,pressure.columns[:11]]\n",
    "y1 = np.asarray(pressure[pressure.columns[21:]]).ravel()\n",
    "X_train1, X_test1, y_train1, y_test1 = train_test_split(X1, y1, test_size=0.30, random_state=42, shuffle=False)"
   ]
  },
  {
   "cell_type": "code",
   "execution_count": 16,
   "metadata": {},
   "outputs": [],
   "source": [
    "#Multilabel\n",
    "X = pressure.loc[:,pressure.columns[:11]]\n",
    "y = np.asarray(pressure[pressure.columns[11:21]])\n",
    "X_train, X_test, y_train, y_test = train_test_split(X, y, test_size=0.30, random_state=42, shuffle=False)"
   ]
  },
  {
   "cell_type": "code",
   "execution_count": 27,
   "metadata": {},
   "outputs": [],
   "source": [
    "X1_test= pressure_test1.loc[:,pressure.columns[:11]]\n",
    "y1_test = np.asarray(pressure_test1[pressure.columns[21:]]).ravel()\n",
    "\n",
    "X2_test= pressure_test2.loc[:,pressure.columns[:11]]\n",
    "y2_test = np.asarray(pressure_test2[pressure.columns[21:]]).ravel()\n",
    "\n",
    "\n",
    "X3_test= pressure_test3.loc[:,pressure.columns[:11]]\n",
    "y3_test = np.asarray(pressure_test3[pressure.columns[21:]]).ravel()\n",
    "\n",
    "\n",
    "X4_test= pressure_test4.loc[:,pressure.columns[:11]]\n",
    "y4_test = np.asarray(pressure_test4[pressure.columns[21:]]).ravel()"
   ]
  },
  {
   "cell_type": "code",
   "execution_count": 65,
   "metadata": {},
   "outputs": [
    {
     "data": {
      "text/plain": [
       "array([[0, 0, 0, ..., 0, 0, 0],\n",
       "       [0, 0, 0, ..., 0, 0, 0],\n",
       "       [0, 0, 0, ..., 0, 0, 0],\n",
       "       ...,\n",
       "       [0, 0, 0, ..., 1, 1, 1],\n",
       "       [0, 0, 0, ..., 1, 1, 1],\n",
       "       [0, 0, 0, ..., 1, 1, 1]])"
      ]
     },
     "execution_count": 65,
     "metadata": {},
     "output_type": "execute_result"
    }
   ],
   "source": [
    "y"
   ]
  },
  {
   "cell_type": "code",
   "execution_count": 28,
   "metadata": {},
   "outputs": [],
   "source": [
    "from sklearn.preprocessing import StandardScaler\n",
    "normalizer = StandardScaler()\n",
    "normalizer.fit(X_train1.values)\n",
    "X_train1_norm = normalizer.transform(X_train1.values)\n",
    "X_test1_norm = normalizer.transform(X_test1.values)"
   ]
  },
  {
   "cell_type": "code",
   "execution_count": 29,
   "metadata": {},
   "outputs": [],
   "source": [
    "X1_test_norm = normalizer.transform(X1_test.values) \n",
    "X2_test_norm = normalizer.transform(X2_test.values) \n",
    "X3_test_norm = normalizer.transform(X3_test.values)\n",
    "X4_test_norm = normalizer.transform(X4_test.values)"
   ]
  },
  {
   "cell_type": "code",
   "execution_count": 32,
   "metadata": {},
   "outputs": [],
   "source": [
    "normalizer = StandardScaler()\n",
    "normalizer.fit(X_train.values)\n",
    "X_train_norm = normalizer.transform(X_train.values)\n",
    "X_test_norm = normalizer.transform(X_test.values)"
   ]
  },
  {
   "cell_type": "code",
   "execution_count": 14,
   "metadata": {
    "collapsed": true,
    "jupyter": {
     "outputs_hidden": true
    }
   },
   "outputs": [
    {
     "name": "stdout",
     "output_type": "stream",
     "text": [
      "[array([[1.        , 0.        ],\n",
      "       [1.        , 0.        ],\n",
      "       [1.        , 0.        ],\n",
      "       ...,\n",
      "       [0.38120354, 0.61879646],\n",
      "       [0.38120354, 0.61879646],\n",
      "       [0.38120354, 0.61879646]]), array([[1.       , 0.       ],\n",
      "       [1.       , 0.       ],\n",
      "       [1.       , 0.       ],\n",
      "       ...,\n",
      "       [0.3634643, 0.6365357],\n",
      "       [0.3634643, 0.6365357],\n",
      "       [0.3634643, 0.6365357]]), array([[1.        , 0.        ],\n",
      "       [1.        , 0.        ],\n",
      "       [1.        , 0.        ],\n",
      "       ...,\n",
      "       [0.76322139, 0.23677861],\n",
      "       [0.76322139, 0.23677861],\n",
      "       [0.76322139, 0.23677861]]), array([[1.        , 0.        ],\n",
      "       [1.        , 0.        ],\n",
      "       [1.        , 0.        ],\n",
      "       ...,\n",
      "       [0.56748161, 0.43251839],\n",
      "       [0.56748161, 0.43251839],\n",
      "       [0.56748161, 0.43251839]]), array([[1.        , 0.        ],\n",
      "       [1.        , 0.        ],\n",
      "       [1.        , 0.        ],\n",
      "       ...,\n",
      "       [0.59168813, 0.40831187],\n",
      "       [0.59168813, 0.40831187],\n",
      "       [0.59168813, 0.40831187]]), array([[1.        , 0.        ],\n",
      "       [1.        , 0.        ],\n",
      "       [1.        , 0.        ],\n",
      "       ...,\n",
      "       [0.67566569, 0.32433431],\n",
      "       [0.67566569, 0.32433431],\n",
      "       [0.67566569, 0.32433431]]), array([[1.        , 0.        ],\n",
      "       [1.        , 0.        ],\n",
      "       [1.        , 0.        ],\n",
      "       ...,\n",
      "       [0.60333919, 0.39666081],\n",
      "       [0.60333919, 0.39666081],\n",
      "       [0.60333919, 0.39666081]]), array([[1.        , 0.        ],\n",
      "       [1.        , 0.        ],\n",
      "       [1.        , 0.        ],\n",
      "       ...,\n",
      "       [0.67643417, 0.32356583],\n",
      "       [0.67643417, 0.32356583],\n",
      "       [0.67643417, 0.32356583]]), array([[1.        , 0.        ],\n",
      "       [1.        , 0.        ],\n",
      "       [1.        , 0.        ],\n",
      "       ...,\n",
      "       [0.72419301, 0.27580699],\n",
      "       [0.72419301, 0.27580699],\n",
      "       [0.72419301, 0.27580699]]), array([[1.        , 0.        ],\n",
      "       [1.        , 0.        ],\n",
      "       [1.        , 0.        ],\n",
      "       ...,\n",
      "       [0.65330897, 0.34669103],\n",
      "       [0.65330897, 0.34669103],\n",
      "       [0.65330897, 0.34669103]])]\n"
     ]
    }
   ],
   "source": [
    "# print(multi_target_forest.predict_proba(X_test))"
   ]
  },
  {
   "cell_type": "code",
   "execution_count": 30,
   "metadata": {},
   "outputs": [
    {
     "name": "stdout",
     "output_type": "stream",
     "text": [
      "0.9984964724316104\n",
      "0.9984964726631393\n",
      "0.9984964724316103\n",
      "[[113274    126]\n",
      " [   215 113185]]\n",
      "              precision    recall  f1-score   support\n",
      "\n",
      "           0      0.998     0.999     0.998    113400\n",
      "           1      0.999     0.998     0.998    113400\n",
      "\n",
      "    accuracy                          0.998    226800\n",
      "   macro avg      0.998     0.998     0.998    226800\n",
      "weighted avg      0.998     0.998     0.998    226800\n",
      "\n"
     ]
    }
   ],
   "source": [
    "from sklearn import metrics\n",
    "from sklearn.linear_model import LogisticRegression\n",
    "\n",
    "# clf = LogisticRegression(random_state=0).fit(X, y)\n",
    "classifier = LogisticRegression()\n",
    "\n",
    "# train\n",
    "classifier.fit(X_train1_norm, y_train1)\n",
    "\n",
    "# predict\n",
    "predictions = classifier.predict(X_test1_norm)\n",
    "print(f1_score(y_test1, predictions, average ='weighted' ))\n",
    "print(f1_score(y_test1, predictions, average ='micro' ))\n",
    "print(f1_score(y_test1, predictions, average ='macro' ))\n",
    "\n",
    "print(metrics.confusion_matrix(y_test1, predictions))\n",
    "\n",
    "# Print the precision and recall, among other metrics\n",
    "print(metrics.classification_report(y_test1, predictions, digits=3, zero_division=0))"
   ]
  },
  {
   "cell_type": "code",
   "execution_count": 13,
   "metadata": {},
   "outputs": [
    {
     "name": "stderr",
     "output_type": "stream",
     "text": [
      "/opt/conda/lib/python3.7/site-packages/sklearn/model_selection/_validation.py:536: FitFailedWarning: Estimator fit failed. The score on this train-test partition for these parameters will be set to nan. Details: \n",
      "ValueError: bad input shape (680400, 10)\n",
      "\n",
      "  FitFailedWarning)\n",
      "/opt/conda/lib/python3.7/site-packages/sklearn/model_selection/_validation.py:536: FitFailedWarning: Estimator fit failed. The score on this train-test partition for these parameters will be set to nan. Details: \n",
      "ValueError: bad input shape (680400, 10)\n",
      "\n",
      "  FitFailedWarning)\n",
      "/opt/conda/lib/python3.7/site-packages/sklearn/model_selection/_validation.py:536: FitFailedWarning: Estimator fit failed. The score on this train-test partition for these parameters will be set to nan. Details: \n",
      "ValueError: bad input shape (680400, 10)\n",
      "\n",
      "  FitFailedWarning)\n",
      "/opt/conda/lib/python3.7/site-packages/sklearn/model_selection/_validation.py:536: FitFailedWarning: Estimator fit failed. The score on this train-test partition for these parameters will be set to nan. Details: \n",
      "ValueError: bad input shape (680400, 10)\n",
      "\n",
      "  FitFailedWarning)\n",
      "/opt/conda/lib/python3.7/site-packages/sklearn/model_selection/_validation.py:536: FitFailedWarning: Estimator fit failed. The score on this train-test partition for these parameters will be set to nan. Details: \n",
      "ValueError: bad input shape (680400, 10)\n",
      "\n",
      "  FitFailedWarning)\n",
      "/opt/conda/lib/python3.7/site-packages/sklearn/model_selection/_validation.py:536: FitFailedWarning: Estimator fit failed. The score on this train-test partition for these parameters will be set to nan. Details: \n",
      "ValueError: bad input shape (680400, 10)\n",
      "\n",
      "  FitFailedWarning)\n",
      "/opt/conda/lib/python3.7/site-packages/sklearn/model_selection/_validation.py:536: FitFailedWarning: Estimator fit failed. The score on this train-test partition for these parameters will be set to nan. Details: \n",
      "ValueError: bad input shape (680400, 10)\n",
      "\n",
      "  FitFailedWarning)\n",
      "/opt/conda/lib/python3.7/site-packages/sklearn/model_selection/_validation.py:536: FitFailedWarning: Estimator fit failed. The score on this train-test partition for these parameters will be set to nan. Details: \n",
      "ValueError: bad input shape (680400, 10)\n",
      "\n",
      "  FitFailedWarning)\n",
      "/opt/conda/lib/python3.7/site-packages/sklearn/model_selection/_validation.py:536: FitFailedWarning: Estimator fit failed. The score on this train-test partition for these parameters will be set to nan. Details: \n",
      "ValueError: bad input shape (680400, 10)\n",
      "\n",
      "  FitFailedWarning)\n",
      "/opt/conda/lib/python3.7/site-packages/sklearn/model_selection/_validation.py:536: FitFailedWarning: Estimator fit failed. The score on this train-test partition for these parameters will be set to nan. Details: \n",
      "ValueError: bad input shape (680400, 10)\n",
      "\n",
      "  FitFailedWarning)\n"
     ]
    },
    {
     "data": {
      "text/plain": [
       "nan"
      ]
     },
     "execution_count": 13,
     "metadata": {},
     "output_type": "execute_result"
    }
   ],
   "source": [
    "# from sklearn.preprocessing import StandardScaler\n",
    "# from sklearn.linear_model import LogisticRegression\n",
    "# from sklearn.model_selection import cross_val_score\n",
    "# normalizer = StandardScaler()\n",
    "# normalizer.fit(X.values)\n",
    "# classifier = LogisticRegression()\n",
    "# X_norm = normalizer.transform(X.values)\n",
    "# scores = cross_val_score(classifier, X_norm, y, cv=10, scoring='f1_macro')\n",
    "# scores.mean()"
   ]
  },
  {
   "cell_type": "code",
   "execution_count": 31,
   "metadata": {},
   "outputs": [
    {
     "name": "stdout",
     "output_type": "stream",
     "text": [
      "Test 1 results\n",
      "0.9595690448773737\n",
      "0.9596349206349206\n",
      "0.9595690448773737\n",
      "[[378000      0]\n",
      " [ 30516 347484]]\n",
      "              precision    recall  f1-score   support\n",
      "\n",
      "           0      0.925     1.000     0.961    378000\n",
      "           1      1.000     0.919     0.958    378000\n",
      "\n",
      "    accuracy                          0.960    756000\n",
      "   macro avg      0.963     0.960     0.960    756000\n",
      "weighted avg      0.963     0.960     0.960    756000\n",
      "\n",
      "Test 2 results\n",
      "0.9026686418849724\n",
      "0.9035736331569665\n",
      "0.9026686418849723\n",
      "[[226800      0]\n",
      " [ 43739 183061]]\n",
      "              precision    recall  f1-score   support\n",
      "\n",
      "           0      0.838     1.000     0.912    226800\n",
      "           1      1.000     0.807     0.893    226800\n",
      "\n",
      "    accuracy                          0.904    453600\n",
      "   macro avg      0.919     0.904     0.903    453600\n",
      "weighted avg      0.919     0.904     0.903    453600\n",
      "\n",
      "Test 3- Non Frequent Leak results\n",
      "0.6646442111340682\n",
      "0.5564986772486773\n",
      "0.44858095199672565\n",
      "[[377580 335220]\n",
      " [    67  43133]]\n",
      "              precision    recall  f1-score   support\n",
      "\n",
      "           0      1.000     0.530     0.693    712800\n",
      "           1      0.114     0.998     0.205     43200\n",
      "\n",
      "    accuracy                          0.556    756000\n",
      "   macro avg      0.557     0.764     0.449    756000\n",
      "weighted avg      0.949     0.556     0.665    756000\n",
      "\n",
      "Test 4 Frequent but small duration covering all leaks results\n",
      "0.6703803049820722\n",
      "0.5827777777777777\n",
      "0.4954085462517903\n",
      "[[377580 315420]\n",
      " [     0  63000]]\n",
      "              precision    recall  f1-score   support\n",
      "\n",
      "           0      1.000     0.545     0.705    693000\n",
      "           1      0.166     1.000     0.285     63000\n",
      "\n",
      "    accuracy                          0.583    756000\n",
      "   macro avg      0.583     0.772     0.495    756000\n",
      "weighted avg      0.931     0.583     0.670    756000\n",
      "\n"
     ]
    }
   ],
   "source": [
    "# predict\n",
    "test_predictions1 = classifier.predict(X1_test_norm)\n",
    "print(\"Test 1 results\")\n",
    "print(f1_score(y1_test, test_predictions1, average ='weighted' ))\n",
    "print(f1_score(y1_test, test_predictions1, average ='micro' ))\n",
    "print(f1_score(y1_test, test_predictions1, average ='macro' ))\n",
    "\n",
    "print(metrics.confusion_matrix(y1_test, test_predictions1))\n",
    "\n",
    "# Print the precision and recall, among other metrics\n",
    "print(metrics.classification_report(y1_test, test_predictions1, digits=3, zero_division=0))\n",
    "\n",
    "\n",
    "print(\"Test 2 results\")\n",
    "\n",
    "test_predictions2 = classifier.predict(X2_test_norm)\n",
    "print(f1_score(y2_test, test_predictions2, average ='weighted' ))\n",
    "print(f1_score(y2_test, test_predictions2, average ='micro' ))\n",
    "print(f1_score(y2_test, test_predictions2, average ='macro' ))\n",
    "\n",
    "print(metrics.confusion_matrix(y2_test, test_predictions2))\n",
    "\n",
    "# Print the precision and recall, among other metrics\n",
    "print(metrics.classification_report(y2_test, test_predictions2, digits=3, zero_division=0))\n",
    "\n",
    "\n",
    "print(\"Test 3- Non Frequent Leak results\") #43200 pints ~6%\n",
    "\n",
    "test_predictions3 = classifier.predict(X3_test_norm)\n",
    "print(f1_score(y3_test, test_predictions3, average ='weighted' ))\n",
    "print(f1_score(y3_test, test_predictions3, average ='micro' ))\n",
    "print(f1_score(y3_test, test_predictions3, average ='macro' ))\n",
    "\n",
    "print(metrics.confusion_matrix(y3_test, test_predictions3))\n",
    "\n",
    "# Print the precision and recall, among other metrics\n",
    "print(metrics.classification_report(y3_test, test_predictions3, digits=3, zero_division=0))\n",
    "\n",
    "\n",
    "print(\"Test 4 Frequent but small duration covering all leaks results\") #63000 points ~ 8.3%\n",
    "\n",
    "test_predictions4 = classifier.predict(X4_test_norm)\n",
    "print(f1_score(y4_test, test_predictions4, average ='weighted' ))\n",
    "print(f1_score(y4_test, test_predictions4, average ='micro' ))\n",
    "print(f1_score(y4_test, test_predictions4, average ='macro' ))\n",
    "\n",
    "print(metrics.confusion_matrix(y4_test, test_predictions4))\n",
    "\n",
    "# Print the precision and recall, among other metrics\n",
    "print(metrics.classification_report(y4_test, test_predictions4, digits=3, zero_division=0))"
   ]
  },
  {
   "cell_type": "code",
   "execution_count": 32,
   "metadata": {},
   "outputs": [
    {
     "name": "stdout",
     "output_type": "stream",
     "text": [
      "0.999854497351417\n",
      "0.9998544973544974\n",
      "0.999854497351417\n"
     ]
    }
   ],
   "source": [
    "forest = RandomForestClassifier()\n",
    "forest.fit(X_train1_norm, y_train1)\n",
    "predictions = forest.predict(X_test1_norm)\n",
    "print(f1_score(y_test1, predictions, average ='weighted' ))\n",
    "print(f1_score(y_test1, predictions, average ='micro' ))\n",
    "print(f1_score(y_test1, predictions, average ='macro' ))"
   ]
  },
  {
   "cell_type": "code",
   "execution_count": 33,
   "metadata": {},
   "outputs": [
    {
     "name": "stdout",
     "output_type": "stream",
     "text": [
      "Test 1 results\n",
      "0.9626185445541315\n",
      "0.9626706349206349\n",
      "0.9626185445541315\n",
      "[[378000      0]\n",
      " [ 28221 349779]]\n",
      "              precision    recall  f1-score   support\n",
      "\n",
      "           0      0.931     1.000     0.964    378000\n",
      "           1      1.000     0.925     0.961    378000\n",
      "\n",
      "    accuracy                          0.963    756000\n",
      "   macro avg      0.965     0.963     0.963    756000\n",
      "weighted avg      0.965     0.963     0.963    756000\n",
      "\n",
      "Test 2 results\n",
      "0.9163472720694301\n",
      "0.9169246031746032\n",
      "0.9163472720694301\n",
      "[[226800      0]\n",
      " [ 37683 189117]]\n",
      "              precision    recall  f1-score   support\n",
      "\n",
      "           0      0.858     1.000     0.923    226800\n",
      "           1      1.000     0.834     0.909    226800\n",
      "\n",
      "    accuracy                          0.917    453600\n",
      "   macro avg      0.929     0.917     0.916    453600\n",
      "weighted avg      0.929     0.917     0.916    453600\n",
      "\n",
      "Test 3 results\n",
      "0.6656089860131824\n",
      "0.5576216931216931\n",
      "0.4493876961300386\n",
      "[[378372 334428]\n",
      " [    10  43190]]\n",
      "              precision    recall  f1-score   support\n",
      "\n",
      "           0      1.000     0.531     0.694    712800\n",
      "           1      0.114     1.000     0.205     43200\n",
      "\n",
      "    accuracy                          0.558    756000\n",
      "   macro avg      0.557     0.765     0.449    756000\n",
      "weighted avg      0.949     0.558     0.666    756000\n",
      "\n",
      "Test 4 Frequent but small duration covering all leaks results\n",
      "0.6713560680204539\n",
      "0.5838888888888889\n",
      "0.4961881525366788\n",
      "[[378420 314580]\n",
      " [     0  63000]]\n",
      "              precision    recall  f1-score   support\n",
      "\n",
      "           0      1.000     0.546     0.706    693000\n",
      "           1      0.167     1.000     0.286     63000\n",
      "\n",
      "    accuracy                          0.584    756000\n",
      "   macro avg      0.583     0.773     0.496    756000\n",
      "weighted avg      0.931     0.584     0.671    756000\n",
      "\n"
     ]
    }
   ],
   "source": [
    "# predict\n",
    "test_predictions1 = forest.predict(X1_test_norm)\n",
    "print(\"Test 1 results\")\n",
    "print(f1_score(y1_test, test_predictions1, average ='weighted' ))\n",
    "print(f1_score(y1_test, test_predictions1, average ='micro' ))\n",
    "print(f1_score(y1_test, test_predictions1, average ='macro' ))\n",
    "\n",
    "print(metrics.confusion_matrix(y1_test, test_predictions1))\n",
    "\n",
    "# Print the precision and recall, among other metrics\n",
    "print(metrics.classification_report(y1_test, test_predictions1, digits=3, zero_division=0))\n",
    "\n",
    "\n",
    "print(\"Test 2 results\")\n",
    "\n",
    "test_predictions2 = forest.predict(X2_test_norm)\n",
    "print(f1_score(y2_test, test_predictions2, average ='weighted' ))\n",
    "print(f1_score(y2_test, test_predictions2, average ='micro' ))\n",
    "print(f1_score(y2_test, test_predictions2, average ='macro' ))\n",
    "\n",
    "print(metrics.confusion_matrix(y2_test, test_predictions2))\n",
    "\n",
    "# Print the precision and recall, among other metrics\n",
    "print(metrics.classification_report(y2_test, test_predictions2, digits=3, zero_division=0))\n",
    "\n",
    "\n",
    "print(\"Test 3 results\")\n",
    "\n",
    "test_predictions3 = forest.predict(X3_test_norm)\n",
    "print(f1_score(y3_test, test_predictions3, average ='weighted' ))\n",
    "print(f1_score(y3_test, test_predictions3, average ='micro' ))\n",
    "print(f1_score(y3_test, test_predictions3, average ='macro' ))\n",
    "\n",
    "print(metrics.confusion_matrix(y3_test, test_predictions3))\n",
    "\n",
    "# Print the precision and recall, among other metrics\n",
    "print(metrics.classification_report(y3_test, test_predictions3, digits=3, zero_division=0))\n",
    "\n",
    "\n",
    "print(\"Test 4 Frequent but small duration covering all leaks results\") #63000 points ~ 8.3%\n",
    "\n",
    "test_predictions4 = forest.predict(X4_test_norm)\n",
    "print(f1_score(y4_test, test_predictions4, average ='weighted' ))\n",
    "print(f1_score(y4_test, test_predictions4, average ='micro' ))\n",
    "print(f1_score(y4_test, test_predictions4, average ='macro' ))\n",
    "\n",
    "print(metrics.confusion_matrix(y4_test, test_predictions4))\n",
    "\n",
    "# Print the precision and recall, among other metrics\n",
    "print(metrics.classification_report(y4_test, test_predictions4, digits=3, zero_division=0))"
   ]
  },
  {
   "cell_type": "code",
   "execution_count": 36,
   "metadata": {},
   "outputs": [
    {
     "name": "stdout",
     "output_type": "stream",
     "text": [
      "0.9883670328858453\n",
      "0.98836860670194\n",
      "0.9883670328858454\n",
      "[[113400      0]\n",
      " [  2638 110762]]\n",
      "              precision    recall  f1-score   support\n",
      "\n",
      "           0      0.977     1.000     0.989    113400\n",
      "           1      1.000     0.977     0.988    113400\n",
      "\n",
      "    accuracy                          0.988    226800\n",
      "   macro avg      0.989     0.988     0.988    226800\n",
      "weighted avg      0.989     0.988     0.988    226800\n",
      "\n"
     ]
    }
   ],
   "source": [
    "from sklearn import metrics\n",
    "classifier = GaussianNB()\n",
    "\n",
    "# train\n",
    "classifier.fit(X_train1_norm, y_train1)\n",
    "\n",
    "# predict\n",
    "predictions = classifier.predict(X_test1_norm)\n",
    "print(f1_score(y_test1, predictions, average ='weighted' ))\n",
    "print(f1_score(y_test1, predictions, average ='micro' ))\n",
    "print(f1_score(y_test1, predictions, average ='macro' ))\n",
    "\n",
    "print(metrics.confusion_matrix(y_test1, predictions))\n",
    "\n",
    "# Print the precision and recall, among other metrics\n",
    "print(metrics.classification_report(y_test1, predictions, digits=3, zero_division=0))\n",
    "\n",
    "\n"
   ]
  },
  {
   "cell_type": "code",
   "execution_count": 37,
   "metadata": {},
   "outputs": [
    {
     "name": "stdout",
     "output_type": "stream",
     "text": [
      "Test 1 results\n",
      "0.8922385017193373\n",
      "0.8934616402116402\n",
      "0.8922385017193373\n",
      "[[378000      0]\n",
      " [ 80543 297457]]\n",
      "              precision    recall  f1-score   support\n",
      "\n",
      "           0      0.824     1.000     0.904    378000\n",
      "           1      1.000     0.787     0.881    378000\n",
      "\n",
      "    accuracy                          0.893    756000\n",
      "   macro avg      0.912     0.893     0.892    756000\n",
      "weighted avg      0.912     0.893     0.892    756000\n",
      "\n",
      "Test 2 results\n",
      "0.8785920354169364\n",
      "0.8803306878306879\n",
      "0.8785920354169363\n",
      "[[226800      0]\n",
      " [ 54282 172518]]\n",
      "              precision    recall  f1-score   support\n",
      "\n",
      "           0      0.807     1.000     0.893    226800\n",
      "           1      1.000     0.761     0.864    226800\n",
      "\n",
      "    accuracy                          0.880    453600\n",
      "   macro avg      0.903     0.880     0.879    453600\n",
      "weighted avg      0.903     0.880     0.879    453600\n",
      "\n",
      "Test 3 results\n",
      "0.7258107407415458\n",
      "0.6278981481481481\n",
      "0.47715892844311664\n",
      "[[440310 272490]\n",
      " [  8819  34381]]\n",
      "              precision    recall  f1-score   support\n",
      "\n",
      "           0      0.980     0.618     0.758    712800\n",
      "           1      0.112     0.796     0.196     43200\n",
      "\n",
      "    accuracy                          0.628    756000\n",
      "   macro avg      0.546     0.707     0.477    756000\n",
      "weighted avg      0.931     0.628     0.726    756000\n",
      "\n",
      "Test 4 Frequent but small duration covering all leaks results\n",
      "0.7485064714503016\n",
      "0.6763888888888889\n",
      "0.5627959584166209\n",
      "[[448350 244650]\n",
      " [     0  63000]]\n",
      "              precision    recall  f1-score   support\n",
      "\n",
      "           0      1.000     0.647     0.786    693000\n",
      "           1      0.205     1.000     0.340     63000\n",
      "\n",
      "    accuracy                          0.676    756000\n",
      "   macro avg      0.602     0.823     0.563    756000\n",
      "weighted avg      0.934     0.676     0.749    756000\n",
      "\n"
     ]
    }
   ],
   "source": [
    "# predict\n",
    "test_predictions1 = classifier.predict(X1_test_norm)\n",
    "print(\"Test 1 results\")\n",
    "print(f1_score(y1_test, test_predictions1, average ='weighted' ))\n",
    "print(f1_score(y1_test, test_predictions1, average ='micro' ))\n",
    "print(f1_score(y1_test, test_predictions1, average ='macro' ))\n",
    "\n",
    "print(metrics.confusion_matrix(y1_test, test_predictions1))\n",
    "\n",
    "# Print the precision and recall, among other metrics\n",
    "print(metrics.classification_report(y1_test, test_predictions1, digits=3, zero_division=0))\n",
    "\n",
    "\n",
    "print(\"Test 2 results\")\n",
    "\n",
    "test_predictions2 = classifier.predict(X2_test_norm)\n",
    "print(f1_score(y2_test, test_predictions2, average ='weighted' ))\n",
    "print(f1_score(y2_test, test_predictions2, average ='micro' ))\n",
    "print(f1_score(y2_test, test_predictions2, average ='macro' ))\n",
    "\n",
    "print(metrics.confusion_matrix(y2_test, test_predictions2))\n",
    "\n",
    "# Print the precision and recall, among other metrics\n",
    "print(metrics.classification_report(y2_test, test_predictions2, digits=3, zero_division=0))\n",
    "\n",
    "print(\"Test 3 results\")\n",
    "\n",
    "test_predictions3 = classifier.predict(X3_test_norm)\n",
    "print(f1_score(y3_test, test_predictions3, average ='weighted' ))\n",
    "print(f1_score(y3_test, test_predictions3, average ='micro' ))\n",
    "print(f1_score(y3_test, test_predictions3, average ='macro' ))\n",
    "\n",
    "print(metrics.confusion_matrix(y3_test, test_predictions3))\n",
    "\n",
    "# Print the precision and recall, among other metrics\n",
    "print(metrics.classification_report(y3_test, test_predictions3, digits=3, zero_division=0))\n",
    "\n",
    "\n",
    "print(\"Test 4 Frequent but small duration covering all combo leaks results\") #63000 points ~ 8.3%\n",
    "\n",
    "test_predictions4 = classifier.predict(X4_test_norm)\n",
    "print(f1_score(y4_test, test_predictions4, average ='weighted' ))\n",
    "print(f1_score(y4_test, test_predictions4, average ='micro' ))\n",
    "print(f1_score(y4_test, test_predictions4, average ='macro' ))\n",
    "\n",
    "print(metrics.confusion_matrix(y4_test, test_predictions4))\n",
    "\n",
    "# Print the precision and recall, among other metrics\n",
    "print(metrics.classification_report(y4_test, test_predictions4, digits=3, zero_division=0))"
   ]
  },
  {
   "cell_type": "code",
   "execution_count": 33,
   "metadata": {},
   "outputs": [
    {
     "name": "stdout",
     "output_type": "stream",
     "text": [
      "0.2690837510149952\n",
      "0.20895632542624848\n",
      "0.21579015072665073\n"
     ]
    }
   ],
   "source": [
    "# initialize binary relevance multi-label classifier\n",
    "# with a gaussian naive bayes base classifier\n",
    "\n",
    "# classifier = BinaryRelevance(GaussianNB())\n",
    "classifier = BinaryRelevance(\n",
    "    classifier = RandomForestClassifier(n_estimators=10),\n",
    "    require_dense = [False, True]\n",
    ")\n",
    "# train\n",
    "classifier.fit(X_train, y_train)\n",
    "\n",
    "# predict\n",
    "predictions = classifier.predict(X_test)\n",
    "\n",
    "print(f1_score(y_test, predictions, average ='weighted' ))\n",
    "print(f1_score(y_test, predictions, average ='micro' ))\n",
    "print(f1_score(y_test, predictions, average ='macro' ))"
   ]
  },
  {
   "cell_type": "code",
   "execution_count": 32,
   "metadata": {},
   "outputs": [
    {
     "name": "stdout",
     "output_type": "stream",
     "text": [
      "0.15858869580280321\n",
      "0.11926914465350315\n",
      "0.12759444200767722\n"
     ]
    }
   ],
   "source": [
    "from skmultilearn.adapt import MLkNN\n",
    "\n",
    "classifier = MLkNN(k=20)\n",
    "\n",
    "# train\n",
    "classifier.fit(X_train, y_train)\n",
    "\n",
    "# predict\n",
    "predictions = classifier.predict(X_test)\n",
    "print(f1_score(y_test, predictions, average ='weighted' ))\n",
    "print(f1_score(y_test, predictions, average ='micro' ))\n",
    "print(f1_score(y_test, predictions, average ='macro' ))"
   ]
  },
  {
   "cell_type": "code",
   "execution_count": 53,
   "metadata": {},
   "outputs": [
    {
     "name": "stdout",
     "output_type": "stream",
     "text": [
      "0.5733291664804928\n",
      "0.4849791189546006\n",
      "0.4568358124608505\n"
     ]
    }
   ],
   "source": [
    "\n",
    "\n",
    "classifier = BinaryRelevance(GaussianNB(var_smoothing=1e-10))\n",
    "\n",
    "# train\n",
    "classifier.fit(X_train_norm, y_train)\n",
    "\n",
    "# predict\n",
    "predictions = classifier.predict(X_test_norm)\n",
    "print(f1_score(y_test, predictions, average ='weighted' ))\n",
    "print(f1_score(y_test, predictions, average ='micro' ))\n",
    "print(f1_score(y_test, predictions, average ='macro' ))"
   ]
  },
  {
   "cell_type": "code",
   "execution_count": 31,
   "metadata": {},
   "outputs": [
    {
     "name": "stderr",
     "output_type": "stream",
     "text": [
      "/opt/conda/lib/python3.7/site-packages/skmultilearn/cluster/random.py:129: VisibleDeprecationWarning: Creating an ndarray from ragged nested sequences (which is a list-or-tuple of lists-or-tuples-or ndarrays with different lengths or shapes) is deprecated. If you meant to do this, you must specify 'dtype=object' when creating the ndarray.\n",
      "  return np.array(label_sets)\n",
      "/opt/conda/lib/python3.7/site-packages/sklearn/linear_model/_logistic.py:940: ConvergenceWarning: lbfgs failed to converge (status=1):\n",
      "STOP: TOTAL NO. of ITERATIONS REACHED LIMIT.\n",
      "\n",
      "Increase the number of iterations (max_iter) or scale the data as shown in:\n",
      "    https://scikit-learn.org/stable/modules/preprocessing.html\n",
      "Please also refer to the documentation for alternative solver options:\n",
      "    https://scikit-learn.org/stable/modules/linear_model.html#logistic-regression\n",
      "  extra_warning_msg=_LOGISTIC_SOLVER_CONVERGENCE_MSG)\n"
     ]
    },
    {
     "name": "stdout",
     "output_type": "stream",
     "text": [
      "0.10367974516774876\n",
      "0.10534307567703059\n",
      "0.0880278219686755\n"
     ]
    }
   ],
   "source": [
    "from sklearn.naive_bayes import GaussianNB\n",
    "from skmultilearn.ensemble import RakelD\n",
    "\n",
    "classifier = RakelD(\n",
    "    base_classifier=LogisticRegression(max_iter=1000),\n",
    "    base_classifier_require_dense=[True, True],\n",
    "    labelset_size=4\n",
    ")\n",
    "\n",
    "classifier.fit(X_train_norm, y_train)\n",
    "# prediction = classifier.predict(X_train, y_train)\n",
    "# predict\n",
    "predictions = classifier.predict(X_test_norm)\n",
    "\n",
    "\n",
    "\n",
    "print(f1_score(y_test, predictions, average ='weighted' ))\n",
    "print(f1_score(y_test, predictions, average ='micro' ))\n",
    "print(f1_score(y_test, predictions, average ='macro' ))\n"
   ]
  },
  {
   "cell_type": "code",
   "execution_count": 14,
   "metadata": {},
   "outputs": [
    {
     "name": "stderr",
     "output_type": "stream",
     "text": [
      "/opt/conda/lib/python3.7/site-packages/skmultilearn/cluster/random.py:129: VisibleDeprecationWarning: Creating an ndarray from ragged nested sequences (which is a list-or-tuple of lists-or-tuples-or ndarrays with different lengths or shapes) is deprecated. If you meant to do this, you must specify 'dtype=object' when creating the ndarray.\n",
      "  return np.array(label_sets)\n"
     ]
    },
    {
     "name": "stdout",
     "output_type": "stream",
     "text": [
      "0.15194158187837276\n",
      "0.2554040292961127\n",
      "0.13440016335133526\n"
     ]
    }
   ],
   "source": [
    "from sklearn.naive_bayes import GaussianNB\n",
    "from skmultilearn.ensemble import RakelD\n",
    "\n",
    "classifier = RakelD(\n",
    "    base_classifier=LogisticRegression(),\n",
    "    base_classifier_require_dense=[True, True],\n",
    "    labelset_size=4\n",
    ")\n",
    "\n",
    "classifier.fit(X_train_norm, y_train)\n",
    "# prediction = classifier.predict(X_train, y_train)\n",
    "# predict\n",
    "predictions = classifier.predict(X_test_norm)\n",
    "\n",
    "\n",
    "\n",
    "print(f1_score(y_test, predictions, average ='weighted' ))\n",
    "print(f1_score(y_test, predictions, average ='micro' ))\n",
    "print(f1_score(y_test, predictions, average ='macro' ))"
   ]
  },
  {
   "cell_type": "code",
   "execution_count": 18,
   "metadata": {},
   "outputs": [
    {
     "name": "stdout",
     "output_type": "stream",
     "text": [
      "0.2956532781377625\n",
      "0.36920728795569996\n",
      "0.25202773220551916\n"
     ]
    }
   ],
   "source": [
    "from sklearn.naive_bayes import GaussianNB\n",
    "from skmultilearn.ensemble import RakelO\n",
    "\n",
    "classifier = RakelO(\n",
    "    base_classifier=GaussianNB(),\n",
    "    base_classifier_require_dense=[True, True],\n",
    "    labelset_size=y_train.shape[1] // 4,\n",
    "    model_count=20\n",
    ")\n",
    "\n",
    "classifier.fit(X_train, y_train)\n",
    "prediction = classifier.predict(X_test)\n",
    "print(f1_score(y_test, predictions, average ='weighted' ))\n",
    "print(f1_score(y_test, predictions, average ='micro' ))\n",
    "print(f1_score(y_test, predictions, average ='macro' ))"
   ]
  },
  {
   "cell_type": "code",
   "execution_count": 26,
   "metadata": {},
   "outputs": [
    {
     "name": "stdout",
     "output_type": "stream",
     "text": [
      "0.04590581027292824\n",
      "0.039393353848708956\n",
      "0.03791258068471948\n"
     ]
    }
   ],
   "source": [
    "from skmultilearn.ensemble import MajorityVotingClassifier\n",
    "from skmultilearn.cluster import FixedLabelSpaceClusterer\n",
    "from skmultilearn.problem_transform import ClassifierChain\n",
    "from sklearn.naive_bayes import GaussianNB\n",
    "\n",
    "classifier = MajorityVotingClassifier(\n",
    "    clusterer = FixedLabelSpaceClusterer(clusters = [[1,3,4], [0, 2, 5]]),\n",
    "    classifier = ClassifierChain(classifier=LogisticRegression(max_iter=1000, multi_class='ovr'))\n",
    ")\n",
    "classifier.fit(X_train,y_train)\n",
    "predictions = classifier.predict(X_test)\n",
    "\n",
    "\n",
    "\n",
    "print(f1_score(y_test, predictions, average ='weighted' ))\n",
    "print(f1_score(y_test, predictions, average ='micro' ))\n",
    "print(f1_score(y_test, predictions, average ='macro' ))"
   ]
  },
  {
   "cell_type": "code",
   "execution_count": 28,
   "metadata": {},
   "outputs": [
    {
     "name": "stdout",
     "output_type": "stream",
     "text": [
      "0.3264369359666027\n",
      "0.3341997880913187\n",
      "0.24860972149072422\n",
      "[[[150672  76128]\n",
      "  [     0      0]]\n",
      "\n",
      " [[190438  36362]\n",
      "  [     0      0]]\n",
      "\n",
      " [[176376     24]\n",
      "  [ 50124    276]]\n",
      "\n",
      " [[176400      0]\n",
      "  [ 50400      0]]\n",
      "\n",
      " [[169095   3705]\n",
      "  [ 50188   3812]]\n",
      "\n",
      " [[151473  17727]\n",
      "  [ 34977  22623]]\n",
      "\n",
      " [[157124  10276]\n",
      "  [ 48008  11392]]\n",
      "\n",
      " [[142285  25115]\n",
      "  [ 31286  28114]]\n",
      "\n",
      " [[143338  22262]\n",
      "  [ 33333  27867]]\n",
      "\n",
      " [[129256  36344]\n",
      "  [ 18550  42650]]]\n",
      "              precision    recall  f1-score   support\n",
      "\n",
      "           0      0.000     0.000     0.000         0\n",
      "           1      0.000     0.000     0.000         0\n",
      "           2      0.920     0.005     0.011     50400\n",
      "           3      0.000     0.000     0.000     50400\n",
      "           4      0.507     0.071     0.124     54000\n",
      "           5      0.561     0.393     0.462     57600\n",
      "           6      0.526     0.192     0.281     59400\n",
      "           7      0.528     0.473     0.499     59400\n",
      "           8      0.556     0.455     0.501     61200\n",
      "           9      0.540     0.697     0.608     61200\n",
      "\n",
      "   micro avg      0.375     0.301     0.334    453600\n",
      "   macro avg      0.414     0.229     0.249    453600\n",
      "weighted avg      0.520     0.301     0.326    453600\n",
      " samples avg      0.171     0.151     0.159    453600\n",
      "\n"
     ]
    }
   ],
   "source": [
    "from skmultilearn.problem_transform import ClassifierChain\n",
    "classifier = ClassifierChain(LogisticRegression(max_iter=1000, multi_class='multinomial', solver='lbfgs', penalty='l2', C=0.5))\n",
    "#multi_class='multinomial', solver='lbfgs', penalty='l2', C=p\n",
    "# train\n",
    "classifier.fit(X_train_norm, y_train)\n",
    "\n",
    "# predict\n",
    "predictions = classifier.predict(X_test_norm)\n",
    "print(f1_score(y_test, predictions, average ='weighted' ))\n",
    "print(f1_score(y_test, predictions, average ='micro' ))\n",
    "print(f1_score(y_test, predictions, average ='macro' ))\n",
    "\n",
    "# Print the confusion matrix\n",
    "print(metrics.multilabel_confusion_matrix(y_test, predictions))\n",
    "\n",
    "# Print the precision and recall, among other metrics\n",
    "print(metrics.classification_report(y_test, predictions, digits=3, zero_division=0))"
   ]
  },
  {
   "cell_type": "code",
   "execution_count": 30,
   "metadata": {},
   "outputs": [
    {
     "name": "stdout",
     "output_type": "stream",
     "text": [
      "0.6612460595491764\n",
      "0.5649274225186347\n",
      "0.5270108458855074\n",
      "[[[111573 115227]\n",
      "  [     0      0]]\n",
      "\n",
      " [[111573 115227]\n",
      "  [     0      0]]\n",
      "\n",
      " [[111573  64827]\n",
      "  [     0  50400]]\n",
      "\n",
      " [[111573  64827]\n",
      "  [     0  50400]]\n",
      "\n",
      " [[111573  61227]\n",
      "  [     0  54000]]\n",
      "\n",
      " [[111573  57627]\n",
      "  [     0  57600]]\n",
      "\n",
      " [[111573  55827]\n",
      "  [     0  59400]]\n",
      "\n",
      " [[111573  55827]\n",
      "  [     0  59400]]\n",
      "\n",
      " [[111573  54027]\n",
      "  [     0  61200]]\n",
      "\n",
      " [[111573  54027]\n",
      "  [     0  61200]]]\n",
      "              precision    recall  f1-score   support\n",
      "\n",
      "           0      0.000     0.000     0.000         0\n",
      "           1      0.000     0.000     0.000         0\n",
      "           2      0.437     1.000     0.609     50400\n",
      "           3      0.437     1.000     0.609     50400\n",
      "           4      0.469     1.000     0.638     54000\n",
      "           5      0.500     1.000     0.667     57600\n",
      "           6      0.516     1.000     0.680     59400\n",
      "           7      0.516     1.000     0.680     59400\n",
      "           8      0.531     1.000     0.694     61200\n",
      "           9      0.531     1.000     0.694     61200\n",
      "\n",
      "   micro avg      0.394     1.000     0.565    453600\n",
      "   macro avg      0.394     0.800     0.527    453600\n",
      "weighted avg      0.495     1.000     0.661    453600\n",
      " samples avg      0.200     0.500     0.286    453600\n",
      "\n"
     ]
    }
   ],
   "source": [
    "classifier = ClassifierChain(GaussianNB(var_smoothing=1e-10))\n",
    "\n",
    "# train\n",
    "classifier.fit(X_train, y_train)\n",
    "\n",
    "# predict\n",
    "predictions = classifier.predict(X_test)\n",
    "print(f1_score(y_test, predictions, average ='weighted' ))\n",
    "print(f1_score(y_test, predictions, average ='micro' ))\n",
    "print(f1_score(y_test, predictions, average ='macro' ))\n",
    "\n",
    "# Print the confusion matrix\n",
    "print(metrics.multilabel_confusion_matrix(y_test, predictions))\n",
    "\n",
    "# Print the precision and recall, among other metrics\n",
    "print(metrics.classification_report(y_test, predictions, digits=3, zero_division=0))"
   ]
  },
  {
   "cell_type": "code",
   "execution_count": 15,
   "metadata": {},
   "outputs": [
    {
     "name": "stdout",
     "output_type": "stream",
     "text": [
      "0.3413941467445995\n",
      "0.3643112594349597\n",
      "0.27029395937168593\n"
     ]
    }
   ],
   "source": [
    "from skmultilearn.problem_transform import LabelPowerset\n",
    "\n",
    "classifier = LabelPowerset(GaussianNB())\n",
    "\n",
    "# train\n",
    "classifier.fit(X_train, y_train)\n",
    "\n",
    "# predict\n",
    "predictions = classifier.predict(X_test)\n",
    "print(f1_score(y_test, predictions, average ='weighted' ))\n",
    "print(f1_score(y_test, predictions, average ='micro' ))\n",
    "print(f1_score(y_test, predictions, average ='macro' ))"
   ]
  },
  {
   "cell_type": "code",
   "execution_count": 72,
   "metadata": {},
   "outputs": [
    {
     "ename": "ValueError",
     "evalue": "bad input shape (529200, 10)",
     "output_type": "error",
     "traceback": [
      "\u001b[0;31m---------------------------------------------------------------------------\u001b[0m",
      "\u001b[0;31mValueError\u001b[0m                                Traceback (most recent call last)",
      "\u001b[0;32m<ipython-input-72-db5d9247e9a0>\u001b[0m in \u001b[0;36m<module>\u001b[0;34m\u001b[0m\n\u001b[1;32m      3\u001b[0m \u001b[0;34m\u001b[0m\u001b[0m\n\u001b[1;32m      4\u001b[0m \u001b[0mclf\u001b[0m \u001b[0;34m=\u001b[0m \u001b[0mAdaBoostClassifier\u001b[0m\u001b[0;34m(\u001b[0m\u001b[0mn_estimators\u001b[0m\u001b[0;34m=\u001b[0m\u001b[0;36m100\u001b[0m\u001b[0;34m)\u001b[0m\u001b[0;34m\u001b[0m\u001b[0;34m\u001b[0m\u001b[0m\n\u001b[0;32m----> 5\u001b[0;31m \u001b[0mclf\u001b[0m\u001b[0;34m.\u001b[0m\u001b[0mfit\u001b[0m\u001b[0;34m(\u001b[0m\u001b[0mX_train\u001b[0m\u001b[0;34m,\u001b[0m \u001b[0my_train\u001b[0m\u001b[0;34m)\u001b[0m\u001b[0;34m\u001b[0m\u001b[0;34m\u001b[0m\u001b[0m\n\u001b[0m\u001b[1;32m      6\u001b[0m \u001b[0mpredictions\u001b[0m \u001b[0;34m=\u001b[0m \u001b[0mclf\u001b[0m\u001b[0;34m.\u001b[0m\u001b[0mpredict\u001b[0m\u001b[0;34m(\u001b[0m\u001b[0mX_test\u001b[0m\u001b[0;34m)\u001b[0m\u001b[0;34m\u001b[0m\u001b[0;34m\u001b[0m\u001b[0m\n\u001b[1;32m      7\u001b[0m \u001b[0mprint\u001b[0m\u001b[0;34m(\u001b[0m\u001b[0mf1_score\u001b[0m\u001b[0;34m(\u001b[0m\u001b[0my_test\u001b[0m\u001b[0;34m,\u001b[0m \u001b[0mpredictions\u001b[0m\u001b[0;34m,\u001b[0m \u001b[0maverage\u001b[0m \u001b[0;34m=\u001b[0m\u001b[0;34m'weighted'\u001b[0m \u001b[0;34m)\u001b[0m\u001b[0;34m)\u001b[0m\u001b[0;34m\u001b[0m\u001b[0;34m\u001b[0m\u001b[0m\n",
      "\u001b[0;32m/opt/conda/lib/python3.7/site-packages/sklearn/ensemble/_weight_boosting.py\u001b[0m in \u001b[0;36mfit\u001b[0;34m(self, X, y, sample_weight)\u001b[0m\n\u001b[1;32m    436\u001b[0m \u001b[0;34m\u001b[0m\u001b[0m\n\u001b[1;32m    437\u001b[0m         \u001b[0;31m# Fit\u001b[0m\u001b[0;34m\u001b[0m\u001b[0;34m\u001b[0m\u001b[0;34m\u001b[0m\u001b[0m\n\u001b[0;32m--> 438\u001b[0;31m         \u001b[0;32mreturn\u001b[0m \u001b[0msuper\u001b[0m\u001b[0;34m(\u001b[0m\u001b[0;34m)\u001b[0m\u001b[0;34m.\u001b[0m\u001b[0mfit\u001b[0m\u001b[0;34m(\u001b[0m\u001b[0mX\u001b[0m\u001b[0;34m,\u001b[0m \u001b[0my\u001b[0m\u001b[0;34m,\u001b[0m \u001b[0msample_weight\u001b[0m\u001b[0;34m)\u001b[0m\u001b[0;34m\u001b[0m\u001b[0;34m\u001b[0m\u001b[0m\n\u001b[0m\u001b[1;32m    439\u001b[0m \u001b[0;34m\u001b[0m\u001b[0m\n\u001b[1;32m    440\u001b[0m     \u001b[0;32mdef\u001b[0m \u001b[0m_validate_estimator\u001b[0m\u001b[0;34m(\u001b[0m\u001b[0mself\u001b[0m\u001b[0;34m)\u001b[0m\u001b[0;34m:\u001b[0m\u001b[0;34m\u001b[0m\u001b[0;34m\u001b[0m\u001b[0m\n",
      "\u001b[0;32m/opt/conda/lib/python3.7/site-packages/sklearn/ensemble/_weight_boosting.py\u001b[0m in \u001b[0;36mfit\u001b[0;34m(self, X, y, sample_weight)\u001b[0m\n\u001b[1;32m    117\u001b[0m             \u001b[0;32mraise\u001b[0m \u001b[0mValueError\u001b[0m\u001b[0;34m(\u001b[0m\u001b[0;34m\"learning_rate must be greater than zero\"\u001b[0m\u001b[0;34m)\u001b[0m\u001b[0;34m\u001b[0m\u001b[0;34m\u001b[0m\u001b[0m\n\u001b[1;32m    118\u001b[0m \u001b[0;34m\u001b[0m\u001b[0m\n\u001b[0;32m--> 119\u001b[0;31m         \u001b[0mX\u001b[0m\u001b[0;34m,\u001b[0m \u001b[0my\u001b[0m \u001b[0;34m=\u001b[0m \u001b[0mself\u001b[0m\u001b[0;34m.\u001b[0m\u001b[0m_validate_data\u001b[0m\u001b[0;34m(\u001b[0m\u001b[0mX\u001b[0m\u001b[0;34m,\u001b[0m \u001b[0my\u001b[0m\u001b[0;34m)\u001b[0m\u001b[0;34m\u001b[0m\u001b[0;34m\u001b[0m\u001b[0m\n\u001b[0m\u001b[1;32m    120\u001b[0m \u001b[0;34m\u001b[0m\u001b[0m\n\u001b[1;32m    121\u001b[0m         \u001b[0msample_weight\u001b[0m \u001b[0;34m=\u001b[0m \u001b[0m_check_sample_weight\u001b[0m\u001b[0;34m(\u001b[0m\u001b[0msample_weight\u001b[0m\u001b[0;34m,\u001b[0m \u001b[0mX\u001b[0m\u001b[0;34m,\u001b[0m \u001b[0mnp\u001b[0m\u001b[0;34m.\u001b[0m\u001b[0mfloat64\u001b[0m\u001b[0;34m)\u001b[0m\u001b[0;34m\u001b[0m\u001b[0;34m\u001b[0m\u001b[0m\n",
      "\u001b[0;32m/opt/conda/lib/python3.7/site-packages/sklearn/ensemble/_weight_boosting.py\u001b[0m in \u001b[0;36m_validate_data\u001b[0;34m(self, X, y)\u001b[0m\n\u001b[1;32m     89\u001b[0m                             \u001b[0mallow_nd\u001b[0m\u001b[0;34m=\u001b[0m\u001b[0;32mTrue\u001b[0m\u001b[0;34m,\u001b[0m\u001b[0;34m\u001b[0m\u001b[0;34m\u001b[0m\u001b[0m\n\u001b[1;32m     90\u001b[0m                             \u001b[0mdtype\u001b[0m\u001b[0;34m=\u001b[0m\u001b[0;32mNone\u001b[0m\u001b[0;34m,\u001b[0m\u001b[0;34m\u001b[0m\u001b[0;34m\u001b[0m\u001b[0m\n\u001b[0;32m---> 91\u001b[0;31m                             y_numeric=is_regressor(self))\n\u001b[0m\u001b[1;32m     92\u001b[0m         \u001b[0;32mreturn\u001b[0m \u001b[0mret\u001b[0m\u001b[0;34m\u001b[0m\u001b[0;34m\u001b[0m\u001b[0m\n\u001b[1;32m     93\u001b[0m \u001b[0;34m\u001b[0m\u001b[0m\n",
      "\u001b[0;32m/opt/conda/lib/python3.7/site-packages/sklearn/utils/validation.py\u001b[0m in \u001b[0;36mcheck_X_y\u001b[0;34m(X, y, accept_sparse, accept_large_sparse, dtype, order, copy, force_all_finite, ensure_2d, allow_nd, multi_output, ensure_min_samples, ensure_min_features, y_numeric, warn_on_dtype, estimator)\u001b[0m\n\u001b[1;32m    758\u001b[0m                         dtype=None)\n\u001b[1;32m    759\u001b[0m     \u001b[0;32melse\u001b[0m\u001b[0;34m:\u001b[0m\u001b[0;34m\u001b[0m\u001b[0;34m\u001b[0m\u001b[0m\n\u001b[0;32m--> 760\u001b[0;31m         \u001b[0my\u001b[0m \u001b[0;34m=\u001b[0m \u001b[0mcolumn_or_1d\u001b[0m\u001b[0;34m(\u001b[0m\u001b[0my\u001b[0m\u001b[0;34m,\u001b[0m \u001b[0mwarn\u001b[0m\u001b[0;34m=\u001b[0m\u001b[0;32mTrue\u001b[0m\u001b[0;34m)\u001b[0m\u001b[0;34m\u001b[0m\u001b[0;34m\u001b[0m\u001b[0m\n\u001b[0m\u001b[1;32m    761\u001b[0m         \u001b[0m_assert_all_finite\u001b[0m\u001b[0;34m(\u001b[0m\u001b[0my\u001b[0m\u001b[0;34m)\u001b[0m\u001b[0;34m\u001b[0m\u001b[0;34m\u001b[0m\u001b[0m\n\u001b[1;32m    762\u001b[0m     \u001b[0;32mif\u001b[0m \u001b[0my_numeric\u001b[0m \u001b[0;32mand\u001b[0m \u001b[0my\u001b[0m\u001b[0;34m.\u001b[0m\u001b[0mdtype\u001b[0m\u001b[0;34m.\u001b[0m\u001b[0mkind\u001b[0m \u001b[0;34m==\u001b[0m \u001b[0;34m'O'\u001b[0m\u001b[0;34m:\u001b[0m\u001b[0;34m\u001b[0m\u001b[0;34m\u001b[0m\u001b[0m\n",
      "\u001b[0;32m/opt/conda/lib/python3.7/site-packages/sklearn/utils/validation.py\u001b[0m in \u001b[0;36mcolumn_or_1d\u001b[0;34m(y, warn)\u001b[0m\n\u001b[1;32m    795\u001b[0m         \u001b[0;32mreturn\u001b[0m \u001b[0mnp\u001b[0m\u001b[0;34m.\u001b[0m\u001b[0mravel\u001b[0m\u001b[0;34m(\u001b[0m\u001b[0my\u001b[0m\u001b[0;34m)\u001b[0m\u001b[0;34m\u001b[0m\u001b[0;34m\u001b[0m\u001b[0m\n\u001b[1;32m    796\u001b[0m \u001b[0;34m\u001b[0m\u001b[0m\n\u001b[0;32m--> 797\u001b[0;31m     \u001b[0;32mraise\u001b[0m \u001b[0mValueError\u001b[0m\u001b[0;34m(\u001b[0m\u001b[0;34m\"bad input shape {0}\"\u001b[0m\u001b[0;34m.\u001b[0m\u001b[0mformat\u001b[0m\u001b[0;34m(\u001b[0m\u001b[0mshape\u001b[0m\u001b[0;34m)\u001b[0m\u001b[0;34m)\u001b[0m\u001b[0;34m\u001b[0m\u001b[0;34m\u001b[0m\u001b[0m\n\u001b[0m\u001b[1;32m    798\u001b[0m \u001b[0;34m\u001b[0m\u001b[0m\n\u001b[1;32m    799\u001b[0m \u001b[0;34m\u001b[0m\u001b[0m\n",
      "\u001b[0;31mValueError\u001b[0m: bad input shape (529200, 10)"
     ]
    }
   ],
   "source": [
    "from sklearn.ensemble import AdaBoostClassifier\n",
    "\n",
    "\n",
    "clf = AdaBoostClassifier(n_estimators=100)\n",
    "clf.fit(X_train, y_train)\n",
    "predictions = clf.predict(X_test)\n",
    "print(f1_score(y_test, predictions, average ='weighted' ))\n",
    "print(f1_score(y_test, predictions, average ='micro' ))\n",
    "print(f1_score(y_test, predictions, average ='macro' ))"
   ]
  },
  {
   "cell_type": "code",
   "execution_count": 17,
   "metadata": {},
   "outputs": [],
   "source": [
    "from sklearn.linear_model import SGDClassifier\n",
    "from sklearn.linear_model import LogisticRegression\n",
    "from sklearn.multiclass import OneVsRestClassifier"
   ]
  },
  {
   "cell_type": "code",
   "execution_count": 19,
   "metadata": {},
   "outputs": [],
   "source": [
    "sgd = SGDClassifier()\n",
    "lr = LogisticRegression(solver='lbfgs')"
   ]
  },
  {
   "cell_type": "code",
   "execution_count": 20,
   "metadata": {},
   "outputs": [
    {
     "name": "stdout",
     "output_type": "stream",
     "text": [
      "0.2425597665733802\n",
      "0.3028733071234777\n",
      "0.18274741049242502\n",
      "0.040309186848145266\n",
      "0.033081997812707466\n",
      "0.0340625662416824\n"
     ]
    }
   ],
   "source": [
    "for classifier in [sgd, lr]:\n",
    "    clf = OneVsRestClassifier(classifier)\n",
    "    clf.fit(X_train, y_train)\n",
    "    predictions = clf.predict(X_test)\n",
    "    print(f1_score(y_test, predictions, average ='weighted' ))\n",
    "    print(f1_score(y_test, predictions, average ='micro' ))\n",
    "    print(f1_score(y_test, predictions, average ='macro' ))"
   ]
  },
  {
   "cell_type": "code",
   "execution_count": 23,
   "metadata": {},
   "outputs": [
    {
     "name": "stdout",
     "output_type": "stream",
     "text": [
      "/opt/conda/lib/python3.7/site-packages/secretstorage/dhcrypto.py:16: CryptographyDeprecationWarning: int_from_bytes is deprecated, use int.from_bytes instead\n",
      "  from cryptography.utils import int_from_bytes\n",
      "/opt/conda/lib/python3.7/site-packages/secretstorage/util.py:25: CryptographyDeprecationWarning: int_from_bytes is deprecated, use int.from_bytes instead\n",
      "  from cryptography.utils import int_from_bytes\n",
      "Collecting keras\n",
      "  Using cached Keras-2.4.3-py2.py3-none-any.whl (36 kB)\n",
      "Requirement already satisfied: h5py in /opt/conda/lib/python3.7/site-packages (from keras) (2.10.0)\n",
      "Requirement already satisfied: pyyaml in /opt/conda/lib/python3.7/site-packages (from keras) (5.4.1)\n",
      "Requirement already satisfied: numpy>=1.9.1 in /opt/conda/lib/python3.7/site-packages (from keras) (1.20.2)\n",
      "Requirement already satisfied: scipy>=0.14 in /opt/conda/lib/python3.7/site-packages (from keras) (1.4.1)\n",
      "Requirement already satisfied: six in /opt/conda/lib/python3.7/site-packages (from h5py->keras) (1.14.0)\n",
      "Installing collected packages: keras\n",
      "Successfully installed keras-2.4.3\n"
     ]
    }
   ],
   "source": [
    "!pip install keras"
   ]
  },
  {
   "cell_type": "code",
   "execution_count": 25,
   "metadata": {},
   "outputs": [
    {
     "name": "stdout",
     "output_type": "stream",
     "text": [
      "/opt/conda/lib/python3.7/site-packages/secretstorage/dhcrypto.py:16: CryptographyDeprecationWarning: int_from_bytes is deprecated, use int.from_bytes instead\n",
      "  from cryptography.utils import int_from_bytes\n",
      "/opt/conda/lib/python3.7/site-packages/secretstorage/util.py:25: CryptographyDeprecationWarning: int_from_bytes is deprecated, use int.from_bytes instead\n",
      "  from cryptography.utils import int_from_bytes\n",
      "Collecting tensorflow\n",
      "  Using cached tensorflow-2.4.1-cp37-cp37m-manylinux2010_x86_64.whl (394.3 MB)\n",
      "Collecting tensorflow-estimator<2.5.0,>=2.4.0\n",
      "  Using cached tensorflow_estimator-2.4.0-py2.py3-none-any.whl (462 kB)\n",
      "Collecting opt-einsum~=3.3.0\n",
      "  Using cached opt_einsum-3.3.0-py3-none-any.whl (65 kB)\n",
      "Requirement already satisfied: typing-extensions~=3.7.4 in /opt/conda/lib/python3.7/site-packages (from tensorflow) (3.7.4.3)\n",
      "Collecting absl-py~=0.10\n",
      "  Using cached absl_py-0.12.0-py3-none-any.whl (129 kB)\n",
      "Collecting gast==0.3.3\n",
      "  Using cached gast-0.3.3-py2.py3-none-any.whl (9.7 kB)\n",
      "Collecting tensorboard~=2.4\n",
      "  Downloading tensorboard-2.5.0-py3-none-any.whl (6.0 MB)\n",
      "\u001b[K     |████████████████████████████████| 6.0 MB 7.4 MB/s eta 0:00:01\n",
      "\u001b[?25hRequirement already satisfied: google-pasta~=0.2 in /opt/conda/lib/python3.7/site-packages (from tensorflow) (0.2.0)\n",
      "Requirement already satisfied: protobuf>=3.9.2 in /opt/conda/lib/python3.7/site-packages (from tensorflow) (3.15.8)\n",
      "Collecting astunparse~=1.6.3\n",
      "  Using cached astunparse-1.6.3-py2.py3-none-any.whl (12 kB)\n",
      "Collecting keras-preprocessing~=1.1.2\n",
      "  Using cached Keras_Preprocessing-1.1.2-py2.py3-none-any.whl (42 kB)\n",
      "Collecting flatbuffers~=1.12.0\n",
      "  Using cached flatbuffers-1.12-py2.py3-none-any.whl (15 kB)\n",
      "Collecting wheel~=0.35\n",
      "  Using cached wheel-0.36.2-py2.py3-none-any.whl (35 kB)\n",
      "Processing /root/.cache/pip/wheels/62/76/4c/aa25851149f3f6d9785f6c869387ad82b3fd37582fa8147ac6/wrapt-1.12.1-py3-none-any.whl\n",
      "Requirement already satisfied: h5py~=2.10.0 in /opt/conda/lib/python3.7/site-packages (from tensorflow) (2.10.0)\n",
      "Collecting six~=1.15.0\n",
      "  Using cached six-1.15.0-py2.py3-none-any.whl (10 kB)\n",
      "Collecting grpcio~=1.32.0\n",
      "  Using cached grpcio-1.32.0-cp37-cp37m-manylinux2014_x86_64.whl (3.8 MB)\n",
      "Processing /root/.cache/pip/wheels/3f/e3/ec/8a8336ff196023622fbcb36de0c5a5c218cbb24111d1d4c7f2/termcolor-1.1.0-py3-none-any.whl\n",
      "Collecting numpy~=1.19.2\n",
      "  Using cached numpy-1.19.5-cp37-cp37m-manylinux2010_x86_64.whl (14.8 MB)\n",
      "Collecting tensorboard-plugin-wit>=1.6.0\n",
      "  Using cached tensorboard_plugin_wit-1.8.0-py3-none-any.whl (781 kB)\n",
      "Collecting tensorboard-data-server<0.7.0,>=0.6.0\n",
      "  Downloading tensorboard_data_server-0.6.1-py3-none-manylinux2010_x86_64.whl (4.9 MB)\n",
      "\u001b[K     |████████████████████████████████| 4.9 MB 78.5 MB/s eta 0:00:01\n",
      "\u001b[?25hRequirement already satisfied: setuptools>=41.0.0 in /opt/conda/lib/python3.7/site-packages (from tensorboard~=2.4->tensorflow) (56.0.0)\n",
      "Collecting markdown>=2.6.8\n",
      "  Using cached Markdown-3.3.4-py3-none-any.whl (97 kB)\n",
      "Collecting google-auth-oauthlib<0.5,>=0.4.1\n",
      "  Downloading google_auth_oauthlib-0.4.4-py2.py3-none-any.whl (18 kB)\n",
      "Collecting google-auth<2,>=1.6.3\n",
      "  Downloading google_auth-1.30.0-py2.py3-none-any.whl (146 kB)\n",
      "\u001b[K     |████████████████████████████████| 146 kB 84.7 MB/s eta 0:00:01\n",
      "\u001b[?25hRequirement already satisfied: requests<3,>=2.21.0 in /opt/conda/lib/python3.7/site-packages (from tensorboard~=2.4->tensorflow) (2.25.1)\n",
      "Requirement already satisfied: werkzeug>=0.11.15 in /opt/conda/lib/python3.7/site-packages (from tensorboard~=2.4->tensorflow) (1.0.0)\n",
      "Requirement already satisfied: importlib-metadata; python_version < \"3.8\" in /opt/conda/lib/python3.7/site-packages (from markdown>=2.6.8->tensorboard~=2.4->tensorflow) (1.5.0)\n",
      "Collecting requests-oauthlib>=0.7.0\n",
      "  Using cached requests_oauthlib-1.3.0-py2.py3-none-any.whl (23 kB)\n",
      "Collecting pyasn1-modules>=0.2.1\n",
      "  Using cached pyasn1_modules-0.2.8-py2.py3-none-any.whl (155 kB)\n",
      "Collecting cachetools<5.0,>=2.0.0\n",
      "  Downloading cachetools-4.2.2-py3-none-any.whl (11 kB)\n",
      "Requirement already satisfied: rsa<5,>=3.1.4; python_version >= \"3.6\" in /opt/conda/lib/python3.7/site-packages (from google-auth<2,>=1.6.3->tensorboard~=2.4->tensorflow) (4.7.2)\n",
      "Requirement already satisfied: urllib3<1.27,>=1.21.1 in /opt/conda/lib/python3.7/site-packages (from requests<3,>=2.21.0->tensorboard~=2.4->tensorflow) (1.26.4)\n",
      "Requirement already satisfied: idna<3,>=2.5 in /opt/conda/lib/python3.7/site-packages (from requests<3,>=2.21.0->tensorboard~=2.4->tensorflow) (2.8)\n",
      "Requirement already satisfied: certifi>=2017.4.17 in /opt/conda/lib/python3.7/site-packages (from requests<3,>=2.21.0->tensorboard~=2.4->tensorflow) (2020.12.5)\n",
      "Requirement already satisfied: chardet<5,>=3.0.2 in /opt/conda/lib/python3.7/site-packages (from requests<3,>=2.21.0->tensorboard~=2.4->tensorflow) (3.0.4)\n",
      "Requirement already satisfied: zipp>=0.5 in /opt/conda/lib/python3.7/site-packages (from importlib-metadata; python_version < \"3.8\"->markdown>=2.6.8->tensorboard~=2.4->tensorflow) (2.2.0)\n",
      "Collecting oauthlib>=3.0.0\n",
      "  Using cached oauthlib-3.1.0-py2.py3-none-any.whl (147 kB)\n",
      "Requirement already satisfied: pyasn1<0.5.0,>=0.4.6 in /opt/conda/lib/python3.7/site-packages (from pyasn1-modules>=0.2.1->google-auth<2,>=1.6.3->tensorboard~=2.4->tensorflow) (0.4.8)\n",
      "\u001b[31mERROR: pytest-astropy 0.8.0 requires pytest-cov>=2.0, which is not installed.\u001b[0m\n",
      "\u001b[31mERROR: pytest-astropy 0.8.0 requires pytest-filter-subpackage>=0.1, which is not installed.\u001b[0m\n",
      "\u001b[31mERROR: aiobotocore 1.3.0 has requirement botocore<1.20.50,>=1.20.49, but you'll have botocore 1.20.58 which is incompatible.\u001b[0m\n",
      "Installing collected packages: tensorflow-estimator, numpy, opt-einsum, six, absl-py, gast, tensorboard-plugin-wit, tensorboard-data-server, markdown, oauthlib, requests-oauthlib, pyasn1-modules, cachetools, google-auth, google-auth-oauthlib, wheel, grpcio, tensorboard, astunparse, keras-preprocessing, flatbuffers, wrapt, termcolor, tensorflow\n",
      "  Attempting uninstall: numpy\n",
      "    Found existing installation: numpy 1.20.2\n",
      "    Uninstalling numpy-1.20.2:\n",
      "      Successfully uninstalled numpy-1.20.2\n",
      "  Attempting uninstall: six\n",
      "    Found existing installation: six 1.14.0\n",
      "    Uninstalling six-1.14.0:\n",
      "      Successfully uninstalled six-1.14.0\n",
      "  Attempting uninstall: wheel\n",
      "    Found existing installation: wheel 0.34.2\n",
      "    Uninstalling wheel-0.34.2:\n",
      "      Successfully uninstalled wheel-0.34.2\n",
      "  Attempting uninstall: wrapt\n",
      "    Found existing installation: wrapt 1.11.2\n",
      "    Uninstalling wrapt-1.11.2:\n",
      "      Successfully uninstalled wrapt-1.11.2\n",
      "Successfully installed absl-py-0.12.0 astunparse-1.6.3 cachetools-4.2.2 flatbuffers-1.12 gast-0.3.3 google-auth-1.30.0 google-auth-oauthlib-0.4.4 grpcio-1.32.0 keras-preprocessing-1.1.2 markdown-3.3.4 numpy-1.19.5 oauthlib-3.1.0 opt-einsum-3.3.0 pyasn1-modules-0.2.8 requests-oauthlib-1.3.0 six-1.15.0 tensorboard-2.5.0 tensorboard-data-server-0.6.1 tensorboard-plugin-wit-1.8.0 tensorflow-2.4.1 tensorflow-estimator-2.4.0 termcolor-1.1.0 wheel-0.36.2 wrapt-1.12.1\n"
     ]
    }
   ],
   "source": [
    "!pip install tensorflow"
   ]
  },
  {
   "cell_type": "code",
   "execution_count": 30,
   "metadata": {},
   "outputs": [
    {
     "name": "stdout",
     "output_type": "stream",
     "text": [
      ">0.000\n",
      ">0.000\n",
      "Accuracy: 0.000 (0.000)\n"
     ]
    }
   ],
   "source": [
    "# mlp for multi-label classification\n",
    "from numpy import mean\n",
    "from numpy import std\n",
    "\n",
    "from sklearn.model_selection import RepeatedKFold\n",
    "from keras.models import Sequential\n",
    "from keras.layers import Dense\n",
    "from sklearn.metrics import accuracy_score\n",
    "\n",
    "\n",
    "\n",
    "# get the model\n",
    "def get_model(n_inputs, n_outputs):\n",
    "    model = Sequential()\n",
    "    model.add(Dense(20, input_dim=n_inputs, kernel_initializer='he_uniform', activation='relu'))\n",
    "    model.add(Dense(n_outputs, activation='sigmoid'))\n",
    "    model.compile(loss='binary_crossentropy', optimizer='adam')\n",
    "    return model\n",
    "\n",
    "# evaluate a model using repeated k-fold cross-validation\n",
    "def evaluate_model(X, y):\n",
    "    results = list()\n",
    "    n_inputs, n_outputs = X.shape[1], y.shape[1]\n",
    "    # define evaluation procedure\n",
    "    cv = RepeatedKFold(n_splits=2, n_repeats=1, random_state=1)\n",
    "    # enumerate folds\n",
    "    for train_ix, test_ix in cv.split(X):\n",
    "        # prepare data\n",
    "        X_train, X_test = X.loc[train_ix], X.loc[test_ix]\n",
    "        y_train, y_test = y[train_ix], y[test_ix]\n",
    "        # define model\n",
    "        model = get_model(n_inputs, n_outputs)\n",
    "        # fit model\n",
    "        model.fit(X_train, y_train, verbose=0, epochs=100)\n",
    "        # make a prediction on the test set\n",
    "        yhat = model.predict(X_test)\n",
    "        # round probabilities to class labels\n",
    "        yhat = yhat.round()\n",
    "        # calculate accuracy\n",
    "        f1 = f1_score(y_test, yhat, average='weighted')\n",
    "        # store result\n",
    "        print('>%.3f' % f1)\n",
    "        results.append(f1)\n",
    "    return results\n",
    "\n",
    "# load dataset\n",
    "# X, y = get_dataset()\n",
    "# evaluate model\n",
    "results = evaluate_model(X, y)\n",
    "# summarize performance\n",
    "print('Accuracy: %.3f (%.3f)' % (mean(results), std(results)))\n"
   ]
  },
  {
   "cell_type": "code",
   "execution_count": 24,
   "metadata": {},
   "outputs": [
    {
     "name": "stdout",
     "output_type": "stream",
     "text": [
      "10\n"
     ]
    }
   ],
   "source": [
    "print(len(metrics.multilabel_confusion_matrix(y_test, predictions)))"
   ]
  },
  {
   "cell_type": "code",
   "execution_count": 23,
   "metadata": {},
   "outputs": [
    {
     "name": "stdout",
     "output_type": "stream",
     "text": [
      "[[[117448 109352]\n",
      "  [     0      0]]\n",
      "\n",
      " [[117390 109410]\n",
      "  [     0      0]]\n",
      "\n",
      " [[116515  59885]\n",
      "  [  2532  47868]]\n",
      "\n",
      " [[116556  59844]\n",
      "  [  2491  47909]]\n",
      "\n",
      " [[116392  56408]\n",
      "  [  2671  51329]]\n",
      "\n",
      " [[116363  52837]\n",
      "  [  3064  54536]]\n",
      "\n",
      " [[116325  51075]\n",
      "  [  3174  56226]]\n",
      "\n",
      " [[115980  51420]\n",
      "  [  2782  56618]]\n",
      "\n",
      " [[116153  49447]\n",
      "  [  3305  57895]]\n",
      "\n",
      " [[116173  49427]\n",
      "  [  3295  57905]]]\n",
      "              precision    recall  f1-score   support\n",
      "\n",
      "           0      0.000     0.000     0.000         0\n",
      "           1      0.000     0.000     0.000         0\n",
      "           2      0.444     0.950     0.605     50400\n",
      "           3      0.445     0.951     0.606     50400\n",
      "           4      0.476     0.951     0.635     54000\n",
      "           5      0.508     0.947     0.661     57600\n",
      "           6      0.524     0.947     0.675     59400\n",
      "           7      0.524     0.953     0.676     59400\n",
      "           8      0.539     0.946     0.687     61200\n",
      "           9      0.539     0.946     0.687     61200\n",
      "\n",
      "   micro avg      0.399     0.949     0.561    453600\n",
      "   macro avg      0.400     0.759     0.523    453600\n",
      "weighted avg      0.503     0.949     0.656    453600\n",
      " samples avg      0.190     0.474     0.271    453600\n",
      "\n"
     ]
    }
   ],
   "source": [
    "# Print the confusion matrix\n",
    "print(metrics.multilabel_confusion_matrix(y_test, predictions))\n",
    "\n",
    "# Print the precision and recall, among other metrics\n",
    "print(metrics.classification_report(y_test, predictions, digits=3, zero_division=0))"
   ]
  },
  {
   "cell_type": "code",
   "execution_count": null,
   "metadata": {},
   "outputs": [],
   "source": [
    "probabilities = classifier.predict_proba(X_test)"
   ]
  }
 ],
 "metadata": {
  "instance_type": "ml.t3.medium",
  "kernelspec": {
   "display_name": "Python 3 (Data Science)",
   "language": "python",
   "name": "python3__SAGEMAKER_INTERNAL__arn:aws:sagemaker:us-west-2:236514542706:image/datascience-1.0"
  },
  "language_info": {
   "codemirror_mode": {
    "name": "ipython",
    "version": 3
   },
   "file_extension": ".py",
   "mimetype": "text/x-python",
   "name": "python",
   "nbconvert_exporter": "python",
   "pygments_lexer": "ipython3",
   "version": "3.7.10"
  }
 },
 "nbformat": 4,
 "nbformat_minor": 4
}
